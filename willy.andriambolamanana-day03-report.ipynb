{
 "cells": [
  {
   "cell_type": "markdown",
   "metadata": {
    "id": "vuZYRaBzbIcs"
   },
   "source": [
    "## Practical 1: Version Control with Git: `local` "
   ]
  },
  {
   "cell_type": "markdown",
   "metadata": {},
   "source": [
    "<left> <b> <span style=\"color:red;\"> \n",
    "This notebook is focused on version control with a local repository. You are expected to go through it line by line, step by step. Execute each code cell and follow the instructions to understand how to manage version control locally. Experiment with commands, make changes, and observe how they affect your repository. Your hands-on interaction with the examples will enhance your comprehension of local version control practices.\n",
    "</span> </b></left>\n",
    "\n",
    "\n",
    "## You might find [this reference](https://ndpsoftware.com/git-cheatsheet.html#loc=index;) ,   [this command list](https://git-scm.com/docs) as well as  this [resource](https://git-scm.com/docs/gittutorial) very useful for this practical."
   ]
  },
  {
   "cell_type": "markdown",
   "metadata": {
    "id": "be02507b"
   },
   "source": [
    "### What is Version Control ?\n",
    "\n",
    "\n",
    "In software development, revision control systems (RCS) are essential tools. They are widely used across all development environments and by developers everywhere.\n",
    "\n",
    "RCS are versatile and not limited to just software projects; they are also invaluable for managing various types of digital content, including manuscripts, figures, data, and notebooks.\n",
    "\n",
    "Revision control systems (RCS) serve two primary purposes:\n",
    "\n",
    "1. **Track Changes in Source Code:**\n",
    "   - Enable tracking and managing changes to the source code.\n",
    "   - Allow reverting to previous versions if issues arise.\n",
    "   - Support working on multiple \"branches\" of the software at the same time.\n",
    "   - Use tags to identify and manage different versions, such as \"release-1.0\" or \"paper-A-final.\"\n",
    "\n",
    "2. **Facilitate Collaborative Development:**\n",
    "   - Allow multiple contributors to work on the same codebase simultaneously.\n",
    "   - Enable numerous authors to make and integrate changes.\n",
    "   - Provide clear communication and visualization of changes to all team members.\n",
    "\n",
    "\n",
    "\n",
    "\n",
    "### Basic Principles and Terminology of Revision Control Systems (RCS)\n",
    "\n",
    "In an RCS, source code or digital content is managed within a repository.\n",
    "\n",
    "- **Repository:** Stores not only the latest version of files but also the complete history of all changes made to these files since their initial addition to the repository.\n",
    "\n",
    "- **Checkout:** Users obtain a local working copy of the files from the repository. Changes are made to these local files, allowing for additions, deletions, and updates.\n",
    "\n",
    "- **Commit:** After completing a task, changes made to the local files are saved back to the repository.\n",
    "\n",
    "- **Conflict Resolution:** If changes have been made by others to the same files, conflicts may arise. The system often resolves conflicts automatically, but manual intervention may be necessary to merge conflicting changes.\n",
    "\n",
    "- **Branches and Forks:** For larger experimental developments, it’s common to create a new branch, fork, or clone of the repository. The primary branch is usually called `master` or `trunk`. Once work on a branch or fork is finished, it can be merged back into the main branch or repository.\n",
    "\n",
    "- **Distributed RCS:** Systems like Git or Mercurial allow for pulling and pushing changesets between different repositories. For instance, changes can be pushed from a local repository to a central online repository, such as those hosted on platforms like GitHub.\n",
    "\n",
    "\n",
    "In a few words, **version control** is a way to keep a backup of the changes in your\n",
    "files and to store a history of those changes.  The key charateristic of VC is that and it\n",
    "allows many people in a collaboration to make changes to the same files\n",
    "concurrently. VC is done via a VC system and there are a lot of them. [Wikipedia](https://en.wikipedia.org/wiki/Version_control)\n",
    "provides both a nice vocabulary list and a fairly complete table of some\n",
    "popular version control systems and their equivalent commands.\n",
    "\n",
    "\n",
    "\n",
    "### Popular Revision Control Systems\n",
    "\n",
    "- **Git (git):** [http://git-scm.com/](http://git-scm.com/)\n",
    "- **Mercurial (hg):** [http://mercurial.selenic.com/](http://mercurial.selenic.com/)\n",
    "\n",
    "In the remainder of this lecture, we will focus on Git. However, Mercurial is equally effective and operates in a very similar manner.\n",
    "\n",
    "We'll be using git. `Git` is an example of a distributed version control system, distinct from centralized versing control systems. I'll not discuss the distinction, but for now, the table below will\n",
    "suffice.\n",
    "\n",
    "Version Control System Tool Options\n",
    "\n",
    "- **Distributed** \n",
    "  - Decentralized CVS (dcvs)  \n",
    "  - mercurial (hg)\n",
    "  - git (git) \n",
    "  - bazaar (bzr)\n",
    "  \n",
    "- **Centralized**\n",
    "  - concurrent versions system (cvs)\n",
    "  - subversion (svn)"
   ]
  },
  {
   "cell_type": "markdown",
   "metadata": {},
   "source": [
    "## git --help : Getting Help\n",
    "\n",
    "The first thing you should know about any **tool** is how to get **help**. From the command line type\n",
    "\n",
    "```bash\n",
    "$ man git\n",
    "```\n",
    "\n",
    "If you remember from the **shell class**, **man** tells you more about a command and how to use it. The manual entry for the git version control system will appear before you. You may scroll through it using arrows, or you can search for\n",
    "keywords by typing **/** followed by the search term. I'm interested in help, so I type **/help** and then hit enter. It looks like the syntax for getting help with git is **git --help**."
   ]
  },
  {
   "cell_type": "code",
   "execution_count": 3,
   "metadata": {},
   "outputs": [
    {
     "name": "stdout",
     "output_type": "stream",
     "text": [
      "GIT(1)                            Git Manual                            GIT(1)\r\n",
      "\r\n",
      "N\bNA\bAM\bME\bE\r\n",
      "       git - the stupid content tracker\r\n",
      "\r\n",
      "S\bSY\bYN\bNO\bOP\bPS\bSI\bIS\bS\r\n",
      "       _\bg_\bi_\bt [-v | --version] [-h | --help] [-C <path>] [-c <name>=<value>]\r\n",
      "           [--exec-path[=<path>]] [--html-path] [--man-path] [--info-path]\r\n",
      "           [-p|--paginate|-P|--no-pager] [--no-replace-objects] [--bare]\r\n",
      "           [--git-dir=<path>] [--work-tree=<path>] [--namespace=<name>]\r\n",
      "           [--super-prefix=<path>] [--config-env=<name>=<envvar>]\r\n",
      "           <command> [<args>]\r\n",
      "\r\n",
      "D\bDE\bES\bSC\bCR\bRI\bIP\bPT\bTI\bIO\bON\bN\r\n",
      "       Git is a fast, scalable, distributed revision control system with an\r\n",
      "       unusually rich command set that provides both high-level operations and\r\n",
      "       full access to internals.\r\n",
      "\r\n",
      "       See g\bgi\bit\btt\btu\but\bto\bor\bri\bia\bal\bl(7) to get started, then see g\bgi\bit\bte\bev\bve\ber\bry\byd\bda\bay\by(7) for a useful\r\n",
      "       minimum set of commands. The G\bGi\bit\bt U\bUs\bse\ber\br’\b’s\bs M\bMa\ban\bnu\bua\bal\bl[1] has a more in-depth\r\n",
      "       introduction.\r\n",
      "\r\n",
      "       After you mastered the basic concepts, you can come back to this page\r\n",
      "       to learn what commands Git offers. You can learn more about individual\r\n",
      "       Git commands with \"git help command\". g\bgi\bit\btc\bcl\bli\bi(7) manual page gives you\r\n",
      "       an overview of the command-line command syntax.\r\n",
      "\r\n",
      "       A formatted and hyperlinked copy of the latest Git documentation can be\r\n",
      "       viewed at h\bht\btt\btp\bps\bs:\b:/\b//\b/g\bgi\bit\bt.\b.g\bgi\bit\bth\bhu\bub\bb.\b.i\bio\bo/\b/h\bht\btm\bml\bld\bdo\boc\bcs\bs/\b/g\bgi\bit\bt.\b.h\bht\btm\bml\bl or\r\n",
      "       h\bht\btt\btp\bps\bs:\b:/\b//\b/g\bgi\bit\bt-\b-s\bsc\bcm\bm.\b.c\bco\bom\bm/\b/d\bdo\boc\bcs\bs.\r\n",
      "\r\n",
      "O\bOP\bPT\bTI\bIO\bON\bNS\bS\r\n",
      "       -v, --version\r\n",
      "           Prints the Git suite version that the _\bg_\bi_\bt program came from.\r\n",
      "\r\n",
      "           This option is internally converted to g\bgi\bit\bt v\bve\ber\brs\bsi\bio\bon\bn .\b..\b..\b.  and accepts\r\n",
      "           the same options as the g\bgi\bit\bt-\b-v\bve\ber\brs\bsi\bio\bon\bn(1) command. If -\b--\b-h\bhe\bel\blp\bp is also\r\n",
      "           given, it takes precedence over -\b--\b-v\bve\ber\brs\bsi\bio\bon\bn.\r\n",
      "\r\n",
      "       -h, --help\r\n",
      "           Prints the synopsis and a list of the most commonly used commands.\r\n",
      "           If the option -\b--\b-a\bal\bll\bl or -\b-a\ba is given then all available commands are\r\n",
      "           printed. If a Git command is named this option will bring up the\r\n",
      "           manual page for that command.\r\n",
      "\r\n",
      "           Other options are available to control how the manual page is\r\n",
      "           displayed. See g\bgi\bit\bt-\b-h\bhe\bel\blp\bp(1) for more information, because g\bgi\bit\bt -\b--\b-h\bhe\bel\blp\bp\r\n",
      "           .\b..\b..\b.  is converted internally into g\bgi\bit\bt h\bhe\bel\blp\bp .\b..\b..\b..\r\n",
      "\r\n",
      "       -C <path>\r\n",
      "           Run as if git was started in _\b<_\bp_\ba_\bt_\bh_\b> instead of the current working\r\n",
      "           directory. When multiple -\b-C\bC options are given, each subsequent\r\n",
      "           non-absolute -\b-C\bC <\b<p\bpa\bat\bth\bh>\b> is interpreted relative to the preceding -\b-C\bC\r\n",
      "           <\b<p\bpa\bat\bth\bh>\b>. If _\b<_\bp_\ba_\bt_\bh_\b> is present but empty, e.g.  -\b-C\bC \"\b\"\"\b\", then the\r\n",
      "           current working directory is left unchanged.\r\n",
      "\r\n",
      "           This option affects options that expect path name like -\b--\b-g\bgi\bit\bt-\b-d\bdi\bir\br\r\n",
      "           and -\b--\b-w\bwo\bor\brk\bk-\b-t\btr\bre\bee\be in that their interpretations of the path names\r\n",
      "           would be made relative to the working directory caused by the -\b-C\bC\r\n",
      "           option. For example the following invocations are equivalent:\r\n",
      "\r\n",
      "               git --git-dir=a.git --work-tree=b -C c status\r\n",
      "               git --git-dir=c/a.git --work-tree=c/b status\r\n",
      "\r\n",
      "       -c <name>=<value>\r\n",
      "           Pass a configuration parameter to the command. The value given will\r\n",
      "           override values from configuration files. The <name> is expected in\r\n",
      "           the same format as listed by _\bg_\bi_\bt _\bc_\bo_\bn_\bf_\bi_\bg (subkeys separated by\r\n",
      "           dots).\r\n",
      "\r\n",
      "           Note that omitting the =\b= in g\bgi\bit\bt -\b-c\bc f\bfo\boo\bo.\b.b\bba\bar\br .\b..\b..\b.  is allowed and sets\r\n",
      "           f\bfo\boo\bo.\b.b\bba\bar\br to the boolean true value (just like [\b[f\bfo\boo\bo]\b]b\bba\bar\br would in a\r\n",
      "           config file). Including the equals but with an empty value (like\r\n",
      "           g\bgi\bit\bt -\b-c\bc f\bfo\boo\bo.\b.b\bba\bar\br=\b= .\b..\b..\b.) sets f\bfo\boo\bo.\b.b\bba\bar\br to the empty string which g\bgi\bit\bt\r\n",
      "           c\bco\bon\bnf\bfi\big\bg -\b--\b-t\bty\byp\bpe\be=\b=b\bbo\boo\bol\bl will convert to f\bfa\bal\bls\bse\be.\r\n",
      "\r\n",
      "       --config-env=<name>=<envvar>\r\n",
      "           Like -\b-c\bc <\b<n\bna\bam\bme\be>\b>=\b=<\b<v\bva\bal\blu\bue\be>\b>, give configuration variable _\b<_\bn_\ba_\bm_\be_\b> a value,\r\n",
      "           where <envvar> is the name of an environment variable from which to\r\n",
      "           retrieve the value. Unlike -\b-c\bc there is no shortcut for directly\r\n",
      "           setting the value to an empty string, instead the environment\r\n",
      "           variable itself must be set to the empty string. It is an error if\r\n",
      "           the <\b<e\ben\bnv\bvv\bva\bar\br>\b> does not exist in the environment.  <\b<e\ben\bnv\bvv\bva\bar\br>\b> may not\r\n",
      "           contain an equals sign to avoid ambiguity with <\b<n\bna\bam\bme\be>\b> containing\r\n",
      "           one.\r\n",
      "\r\n",
      "           This is useful for cases where you want to pass transitory\r\n",
      "           configuration options to git, but are doing so on OS’s where other\r\n",
      "           processes might be able to read your cmdline (e.g.\r\n",
      "           /\b/p\bpr\bro\boc\bc/\b/s\bse\bel\blf\bf/\b/c\bcm\bmd\bdl\bli\bin\bne\be), but not your environ (e.g.\r\n",
      "           /\b/p\bpr\bro\boc\bc/\b/s\bse\bel\blf\bf/\b/e\ben\bnv\bvi\bir\bro\bon\bn). That behavior is the default on Linux, but may\r\n",
      "           not be on your system.\r\n",
      "\r\n",
      "           Note that this might add security for variables such as\r\n",
      "           h\bht\btt\btp\bp.\b.e\bex\bxt\btr\bra\baH\bHe\bea\bad\bde\ber\br where the sensitive information is part of the\r\n",
      "           value, but not e.g.  u\bur\brl\bl.\b.<\b<b\bba\bas\bse\be>\b>.\b.i\bin\bns\bst\bte\bea\bad\bdO\bOf\bf where the sensitive\r\n",
      "           information can be part of the key.\r\n",
      "\r\n",
      "       --exec-path[=<path>]\r\n",
      "           Path to wherever your core Git programs are installed. This can\r\n",
      "           also be controlled by setting the GIT_EXEC_PATH environment\r\n",
      "           variable. If no path is given, _\bg_\bi_\bt will print the current setting\r\n",
      "           and then exit.\r\n",
      "\r\n",
      "       --html-path\r\n",
      "           Print the path, without trailing slash, where Git’s HTML\r\n",
      "           documentation is installed and exit.\r\n",
      "\r\n",
      "       --man-path\r\n",
      "           Print the manpath (see m\bma\ban\bn(\b(1\b1)\b)) for the man pages for this version\r\n",
      "           of Git and exit.\r\n",
      "\r\n",
      "       --info-path\r\n",
      "           Print the path where the Info files documenting this version of Git\r\n",
      "           are installed and exit.\r\n",
      "\r\n",
      "       -p, --paginate\r\n",
      "           Pipe all output into _\bl_\be_\bs_\bs (or if set, $PAGER) if standard output is\r\n",
      "           a terminal. This overrides the p\bpa\bag\bge\ber\br.\b.<\b<c\bcm\bmd\bd>\b> configuration options\r\n",
      "           (see the \"Configuration Mechanism\" section below).\r\n",
      "\r\n",
      "       -P, --no-pager\r\n",
      "           Do not pipe Git output into a pager.\r\n",
      "\r\n",
      "       --git-dir=<path>\r\n",
      "           Set the path to the repository (\".git\" directory). This can also be\r\n",
      "           controlled by setting the G\bGI\bIT\bT_\b_D\bDI\bIR\bR environment variable. It can be\r\n",
      "           an absolute path or relative path to current working directory.\r\n",
      "\r\n",
      "           Specifying the location of the \".git\" directory using this option\r\n",
      "           (or G\bGI\bIT\bT_\b_D\bDI\bIR\bR environment variable) turns off the repository\r\n",
      "           discovery that tries to find a directory with \".git\" subdirectory\r\n",
      "           (which is how the repository and the top-level of the working tree\r\n",
      "           are discovered), and tells Git that you are at the top level of the\r\n",
      "           working tree. If you are not at the top-level directory of the\r\n",
      "           working tree, you should tell Git where the top-level of the\r\n",
      "           working tree is, with the -\b--\b-w\bwo\bor\brk\bk-\b-t\btr\bre\bee\be=\b=<\b<p\bpa\bat\bth\bh>\b> option (or\r\n",
      "           G\bGI\bIT\bT_\b_W\bWO\bOR\bRK\bK_\b_T\bTR\bRE\bEE\bE environment variable)\r\n",
      "\r\n",
      "           If you just want to run git as if it was started in <\b<p\bpa\bat\bth\bh>\b> then use\r\n",
      "           g\bgi\bit\bt -\b-C\bC <\b<p\bpa\bat\bth\bh>\b>.\r\n",
      "\r\n",
      "       --work-tree=<path>\r\n",
      "           Set the path to the working tree. It can be an absolute path or a\r\n",
      "           path relative to the current working directory. This can also be\r\n",
      "           controlled by setting the GIT_WORK_TREE environment variable and\r\n",
      "           the core.worktree configuration variable (see core.worktree in g\bgi\bit\bt-\b-\r\n",
      "           c\bco\bon\bnf\bfi\big\bg(1) for a more detailed discussion).\r\n",
      "\r\n",
      "       --namespace=<path>\r\n",
      "           Set the Git namespace. See g\bgi\bit\btn\bna\bam\bme\bes\bsp\bpa\bac\bce\bes\bs(7) for more details.\r\n",
      "           Equivalent to setting the G\bGI\bIT\bT_\b_N\bNA\bAM\bME\bES\bSP\bPA\bAC\bCE\bE environment variable.\r\n",
      "\r\n",
      "       --super-prefix=<path>\r\n",
      "           Currently for internal use only. Set a prefix which gives a path\r\n",
      "           from above a repository down to its root. One use is to give\r\n",
      "           submodules context about the superproject that invoked it.\r\n",
      "\r\n",
      "       --bare\r\n",
      "           Treat the repository as a bare repository. If GIT_DIR environment\r\n",
      "           is not set, it is set to the current working directory.\r\n",
      "\r\n",
      "       --no-replace-objects\r\n",
      "           Do not use replacement refs to replace Git objects. See g\bgi\bit\bt-\b-\r\n",
      "           r\bre\bep\bpl\bla\bac\bce\be(1) for more information.\r\n",
      "\r\n",
      "       --literal-pathspecs\r\n",
      "           Treat pathspecs literally (i.e. no globbing, no pathspec magic).\r\n",
      "           This is equivalent to setting the G\bGI\bIT\bT_\b_L\bLI\bIT\bTE\bER\bRA\bAL\bL_\b_P\bPA\bAT\bTH\bHS\bSP\bPE\bEC\bCS\bS environment\r\n",
      "           variable to 1\b1.\r\n",
      "\r\n",
      "       --glob-pathspecs\r\n",
      "           Add \"glob\" magic to all pathspec. This is equivalent to setting the\r\n",
      "           G\bGI\bIT\bT_\b_G\bGL\bLO\bOB\bB_\b_P\bPA\bAT\bTH\bHS\bSP\bPE\bEC\bCS\bS environment variable to 1\b1. Disabling globbing on\r\n",
      "           individual pathspecs can be done using pathspec magic \":(literal)\"\r\n",
      "\r\n",
      "       --noglob-pathspecs\r\n",
      "           Add \"literal\" magic to all pathspec. This is equivalent to setting\r\n",
      "           the G\bGI\bIT\bT_\b_N\bNO\bOG\bGL\bLO\bOB\bB_\b_P\bPA\bAT\bTH\bHS\bSP\bPE\bEC\bCS\bS environment variable to 1\b1. Enabling\r\n",
      "           globbing on individual pathspecs can be done using pathspec magic\r\n",
      "           \":(glob)\"\r\n",
      "\r\n",
      "       --icase-pathspecs\r\n",
      "           Add \"icase\" magic to all pathspec. This is equivalent to setting\r\n",
      "           the G\bGI\bIT\bT_\b_I\bIC\bCA\bAS\bSE\bE_\b_P\bPA\bAT\bTH\bHS\bSP\bPE\bEC\bCS\bS environment variable to 1\b1.\r\n",
      "\r\n",
      "       --no-optional-locks\r\n",
      "           Do not perform optional operations that require locks. This is\r\n",
      "           equivalent to setting the G\bGI\bIT\bT_\b_O\bOP\bPT\bTI\bIO\bON\bNA\bAL\bL_\b_L\bLO\bOC\bCK\bKS\bS to 0\b0.\r\n",
      "\r\n",
      "       --list-cmds=group[,group...]\r\n",
      "           List commands by group. This is an internal/experimental option and\r\n",
      "           may change or be removed in the future. Supported groups are:\r\n",
      "           builtins, parseopt (builtin commands that use parse-options), main\r\n",
      "           (all commands in libexec directory), others (all other commands in\r\n",
      "           $\b$P\bPA\bAT\bTH\bH that have git- prefix), list-<category> (see categories in\r\n",
      "           command-list.txt), nohelpers (exclude helper commands), alias and\r\n",
      "           config (retrieve command list from config variable\r\n",
      "           completion.commands)\r\n",
      "\r\n",
      "G\bGI\bIT\bT C\bCO\bOM\bMM\bMA\bAN\bND\bDS\bS\r\n",
      "       We divide Git into high level (\"porcelain\") commands and low level\r\n",
      "       (\"plumbing\") commands.\r\n",
      "\r\n",
      "H\bHI\bIG\bGH\bH-\b-L\bLE\bEV\bVE\bEL\bL C\bCO\bOM\bMM\bMA\bAN\bND\bDS\bS (\b(P\bPO\bOR\bRC\bCE\bEL\bLA\bAI\bIN\bN)\b)\r\n",
      "       We separate the porcelain commands into the main commands and some\r\n",
      "       ancillary user utilities.\r\n",
      "\r\n",
      "   M\bMa\bai\bin\bn p\bpo\bor\brc\bce\bel\bla\bai\bin\bn c\bco\bom\bmm\bma\ban\bnd\bds\bs\r\n",
      "       g\bgi\bit\bt-\b-a\bad\bdd\bd(1)\r\n",
      "           Add file contents to the index.\r\n",
      "\r\n",
      "       g\bgi\bit\bt-\b-a\bam\bm(1)\r\n",
      "           Apply a series of patches from a mailbox.\r\n",
      "\r\n",
      "       g\bgi\bit\bt-\b-a\bar\brc\bch\bhi\biv\bve\be(1)\r\n",
      "           Create an archive of files from a named tree.\r\n",
      "\r\n",
      "       g\bgi\bit\bt-\b-b\bbi\bis\bse\bec\bct\bt(1)\r\n",
      "           Use binary search to find the commit that introduced a bug.\r\n",
      "\r\n",
      "       g\bgi\bit\bt-\b-b\bbr\bra\ban\bnc\bch\bh(1)\r\n",
      "           List, create, or delete branches.\r\n",
      "\r\n",
      "       g\bgi\bit\bt-\b-b\bbu\bun\bnd\bdl\ble\be(1)\r\n",
      "           Move objects and refs by archive.\r\n",
      "\r\n",
      "       g\bgi\bit\bt-\b-c\bch\bhe\bec\bck\bko\bou\but\bt(1)\r\n",
      "           Switch branches or restore working tree files.\r\n",
      "\r\n",
      "       g\bgi\bit\bt-\b-c\bch\bhe\ber\brr\bry\by-\b-p\bpi\bic\bck\bk(1)\r\n",
      "           Apply the changes introduced by some existing commits.\r\n",
      "\r\n",
      "       g\bgi\bit\bt-\b-c\bci\bit\bto\boo\bol\bl(1)\r\n",
      "           Graphical alternative to git-commit.\r\n",
      "\r\n",
      "       g\bgi\bit\bt-\b-c\bcl\ble\bea\ban\bn(1)\r\n",
      "           Remove untracked files from the working tree.\r\n",
      "\r\n",
      "       g\bgi\bit\bt-\b-c\bcl\blo\bon\bne\be(1)\r\n",
      "           Clone a repository into a new directory.\r\n",
      "\r\n",
      "       g\bgi\bit\bt-\b-c\bco\bom\bmm\bmi\bit\bt(1)\r\n",
      "           Record changes to the repository.\r\n",
      "\r\n",
      "       g\bgi\bit\bt-\b-d\bde\bes\bsc\bcr\bri\bib\bbe\be(1)\r\n",
      "           Give an object a human readable name based on an available ref.\r\n",
      "\r\n",
      "       g\bgi\bit\bt-\b-d\bdi\bif\bff\bf(1)\r\n",
      "           Show changes between commits, commit and working tree, etc.\r\n",
      "\r\n",
      "       g\bgi\bit\bt-\b-f\bfe\bet\btc\bch\bh(1)\r\n",
      "           Download objects and refs from another repository.\r\n",
      "\r\n",
      "       g\bgi\bit\bt-\b-f\bfo\bor\brm\bma\bat\bt-\b-p\bpa\bat\btc\bch\bh(1)\r\n",
      "           Prepare patches for e-mail submission.\r\n",
      "\r\n",
      "       g\bgi\bit\bt-\b-g\bgc\bc(1)\r\n",
      "           Cleanup unnecessary files and optimize the local repository.\r\n",
      "\r\n",
      "       g\bgi\bit\bt-\b-g\bgr\bre\bep\bp(1)\r\n",
      "           Print lines matching a pattern.\r\n",
      "\r\n",
      "       g\bgi\bit\bt-\b-g\bgu\bui\bi(1)\r\n",
      "           A portable graphical interface to Git.\r\n",
      "\r\n",
      "       g\bgi\bit\bt-\b-i\bin\bni\bit\bt(1)\r\n",
      "           Create an empty Git repository or reinitialize an existing one.\r\n",
      "\r\n",
      "       g\bgi\bit\bt-\b-l\blo\bog\bg(1)\r\n",
      "           Show commit logs.\r\n",
      "\r\n",
      "       g\bgi\bit\bt-\b-m\bma\bai\bin\bnt\bte\ben\bna\ban\bnc\bce\be(1)\r\n",
      "           Run tasks to optimize Git repository data.\r\n",
      "\r\n",
      "       g\bgi\bit\bt-\b-m\bme\ber\brg\bge\be(1)\r\n",
      "           Join two or more development histories together.\r\n",
      "\r\n",
      "       g\bgi\bit\bt-\b-m\bmv\bv(1)\r\n",
      "           Move or rename a file, a directory, or a symlink.\r\n",
      "\r\n",
      "       g\bgi\bit\bt-\b-n\bno\bot\bte\bes\bs(1)\r\n",
      "           Add or inspect object notes.\r\n",
      "\r\n",
      "       g\bgi\bit\bt-\b-p\bpu\bul\bll\bl(1)\r\n",
      "           Fetch from and integrate with another repository or a local branch.\r\n",
      "\r\n",
      "       g\bgi\bit\bt-\b-p\bpu\bus\bsh\bh(1)\r\n",
      "           Update remote refs along with associated objects.\r\n",
      "\r\n",
      "       g\bgi\bit\bt-\b-r\bra\ban\bng\bge\be-\b-d\bdi\bif\bff\bf(1)\r\n",
      "           Compare two commit ranges (e.g. two versions of a branch).\r\n",
      "\r\n",
      "       g\bgi\bit\bt-\b-r\bre\beb\bba\bas\bse\be(1)\r\n",
      "           Reapply commits on top of another base tip.\r\n",
      "\r\n",
      "       g\bgi\bit\bt-\b-r\bre\bes\bse\bet\bt(1)\r\n",
      "           Reset current HEAD to the specified state.\r\n",
      "\r\n",
      "       g\bgi\bit\bt-\b-r\bre\bes\bst\bto\bor\bre\be(1)\r\n",
      "           Restore working tree files.\r\n",
      "\r\n",
      "       g\bgi\bit\bt-\b-r\bre\bev\bve\ber\brt\bt(1)\r\n",
      "           Revert some existing commits.\r\n",
      "\r\n",
      "       g\bgi\bit\bt-\b-r\brm\bm(1)\r\n",
      "           Remove files from the working tree and from the index.\r\n",
      "\r\n",
      "       g\bgi\bit\bt-\b-s\bsh\bho\bor\brt\btl\blo\bog\bg(1)\r\n",
      "           Summarize _\bg_\bi_\bt _\bl_\bo_\bg output.\r\n",
      "\r\n",
      "       g\bgi\bit\bt-\b-s\bsh\bho\bow\bw(1)\r\n",
      "           Show various types of objects.\r\n",
      "\r\n",
      "       g\bgi\bit\bt-\b-s\bsp\bpa\bar\brs\bse\be-\b-c\bch\bhe\bec\bck\bko\bou\but\bt(1)\r\n",
      "           Reduce your working tree to a subset of tracked files.\r\n",
      "\r\n",
      "       g\bgi\bit\bt-\b-s\bst\bta\bas\bsh\bh(1)\r\n",
      "           Stash the changes in a dirty working directory away.\r\n",
      "\r\n",
      "       g\bgi\bit\bt-\b-s\bst\bta\bat\btu\bus\bs(1)\r\n",
      "           Show the working tree status.\r\n",
      "\r\n",
      "       g\bgi\bit\bt-\b-s\bsu\bub\bbm\bmo\bod\bdu\bul\ble\be(1)\r\n",
      "           Initialize, update or inspect submodules.\r\n",
      "\r\n",
      "       g\bgi\bit\bt-\b-s\bsw\bwi\bit\btc\bch\bh(1)\r\n",
      "           Switch branches.\r\n",
      "\r\n",
      "       g\bgi\bit\bt-\b-t\bta\bag\bg(1)\r\n",
      "           Create, list, delete or verify a tag object signed with GPG.\r\n",
      "\r\n",
      "       g\bgi\bit\bt-\b-w\bwo\bor\brk\bkt\btr\bre\bee\be(1)\r\n",
      "           Manage multiple working trees.\r\n",
      "\r\n",
      "       g\bgi\bit\btk\bk(1)\r\n",
      "           The Git repository browser.\r\n",
      "\r\n",
      "       s\bsc\bca\bal\bla\bar\br(1)\r\n",
      "           A tool for managing large Git repositories.\r\n",
      "\r\n",
      "   A\bAn\bnc\bci\bil\bll\bla\bar\bry\by C\bCo\bom\bmm\bma\ban\bnd\bds\bs\r\n",
      "       Manipulators:\r\n",
      "\r\n",
      "       g\bgi\bit\bt-\b-c\bco\bon\bnf\bfi\big\bg(1)\r\n",
      "           Get and set repository or global options.\r\n",
      "\r\n",
      "       g\bgi\bit\bt-\b-f\bfa\bas\bst\bt-\b-e\bex\bxp\bpo\bor\brt\bt(1)\r\n",
      "           Git data exporter.\r\n",
      "\r\n",
      "       g\bgi\bit\bt-\b-f\bfa\bas\bst\bt-\b-i\bim\bmp\bpo\bor\brt\bt(1)\r\n",
      "           Backend for fast Git data importers.\r\n",
      "\r\n",
      "       g\bgi\bit\bt-\b-f\bfi\bil\blt\bte\ber\br-\b-b\bbr\bra\ban\bnc\bch\bh(1)\r\n",
      "           Rewrite branches.\r\n",
      "\r\n",
      "       g\bgi\bit\bt-\b-m\bme\ber\brg\bge\bet\bto\boo\bol\bl(1)\r\n",
      "           Run merge conflict resolution tools to resolve merge conflicts.\r\n",
      "\r\n",
      "       g\bgi\bit\bt-\b-p\bpa\bac\bck\bk-\b-r\bre\bef\bfs\bs(1)\r\n",
      "           Pack heads and tags for efficient repository access.\r\n",
      "\r\n",
      "       g\bgi\bit\bt-\b-p\bpr\bru\bun\bne\be(1)\r\n",
      "           Prune all unreachable objects from the object database.\r\n",
      "\r\n",
      "       g\bgi\bit\bt-\b-r\bre\bef\bfl\blo\bog\bg(1)\r\n",
      "           Manage reflog information.\r\n",
      "\r\n",
      "       g\bgi\bit\bt-\b-r\bre\bem\bmo\bot\bte\be(1)\r\n",
      "           Manage set of tracked repositories.\r\n",
      "\r\n",
      "       g\bgi\bit\bt-\b-r\bre\bep\bpa\bac\bck\bk(1)\r\n",
      "           Pack unpacked objects in a repository.\r\n",
      "\r\n",
      "       g\bgi\bit\bt-\b-r\bre\bep\bpl\bla\bac\bce\be(1)\r\n",
      "           Create, list, delete refs to replace objects.\r\n",
      "\r\n",
      "       Interrogators:\r\n",
      "\r\n",
      "       g\bgi\bit\bt-\b-a\ban\bnn\bno\bot\bta\bat\bte\be(1)\r\n",
      "           Annotate file lines with commit information.\r\n",
      "\r\n",
      "       g\bgi\bit\bt-\b-b\bbl\bla\bam\bme\be(1)\r\n",
      "           Show what revision and author last modified each line of a file.\r\n",
      "\r\n",
      "       g\bgi\bit\bt-\b-b\bbu\bug\bgr\bre\bep\bpo\bor\brt\bt(1)\r\n",
      "           Collect information for user to file a bug report.\r\n",
      "\r\n",
      "       g\bgi\bit\bt-\b-c\bco\bou\bun\bnt\bt-\b-o\bob\bbj\bje\bec\bct\bts\bs(1)\r\n",
      "           Count unpacked number of objects and their disk consumption.\r\n",
      "\r\n",
      "       g\bgi\bit\bt-\b-d\bdi\bia\bag\bgn\bno\bos\bse\be(1)\r\n",
      "           Generate a zip archive of diagnostic information.\r\n",
      "\r\n",
      "       g\bgi\bit\bt-\b-d\bdi\bif\bff\bft\bto\boo\bol\bl(1)\r\n",
      "           Show changes using common diff tools.\r\n",
      "\r\n",
      "       g\bgi\bit\bt-\b-f\bfs\bsc\bck\bk(1)\r\n",
      "           Verifies the connectivity and validity of the objects in the\r\n",
      "           database.\r\n",
      "\r\n",
      "       g\bgi\bit\bt-\b-h\bhe\bel\blp\bp(1)\r\n",
      "           Display help information about Git.\r\n",
      "\r\n",
      "       g\bgi\bit\bt-\b-i\bin\bns\bst\bta\baw\bwe\beb\bb(1)\r\n",
      "           Instantly browse your working repository in gitweb.\r\n",
      "\r\n",
      "       g\bgi\bit\bt-\b-m\bme\ber\brg\bge\be-\b-t\btr\bre\bee\be(1)\r\n",
      "           Perform merge without touching index or working tree.\r\n",
      "\r\n",
      "       g\bgi\bit\bt-\b-r\bre\ber\bre\ber\bre\be(1)\r\n",
      "           Reuse recorded resolution of conflicted merges.\r\n",
      "\r\n",
      "       g\bgi\bit\bt-\b-s\bsh\bho\bow\bw-\b-b\bbr\bra\ban\bnc\bch\bh(1)\r\n",
      "           Show branches and their commits.\r\n",
      "\r\n",
      "       g\bgi\bit\bt-\b-v\bve\ber\bri\bif\bfy\by-\b-c\bco\bom\bmm\bmi\bit\bt(1)\r\n",
      "           Check the GPG signature of commits.\r\n",
      "\r\n",
      "       g\bgi\bit\bt-\b-v\bve\ber\bri\bif\bfy\by-\b-t\bta\bag\bg(1)\r\n",
      "           Check the GPG signature of tags.\r\n",
      "\r\n",
      "       g\bgi\bit\bt-\b-v\bve\ber\brs\bsi\bio\bon\bn(1)\r\n",
      "           Display version information about Git.\r\n",
      "\r\n",
      "       g\bgi\bit\bt-\b-w\bwh\bha\bat\btc\bch\bha\ban\bng\bge\bed\bd(1)\r\n",
      "           Show logs with difference each commit introduces.\r\n",
      "\r\n",
      "       g\bgi\bit\btw\bwe\beb\bb(1)\r\n",
      "           Git web interface (web frontend to Git repositories).\r\n",
      "\r\n",
      "   I\bIn\bnt\bte\ber\bra\bac\bct\bti\bin\bng\bg w\bwi\bit\bth\bh O\bOt\bth\bhe\ber\brs\bs\r\n",
      "       These commands are to interact with foreign SCM and with other people\r\n",
      "       via patch over e-mail.\r\n",
      "\r\n",
      "       g\bgi\bit\bt-\b-a\bar\brc\bch\bhi\bim\bmp\bpo\bor\brt\bt(1)\r\n",
      "           Import a GNU Arch repository into Git.\r\n",
      "\r\n",
      "       g\bgi\bit\bt-\b-c\bcv\bvs\bse\bex\bxp\bpo\bor\brt\btc\bco\bom\bmm\bmi\bit\bt(1)\r\n",
      "           Export a single commit to a CVS checkout.\r\n",
      "\r\n",
      "       g\bgi\bit\bt-\b-c\bcv\bvs\bsi\bim\bmp\bpo\bor\brt\bt(1)\r\n",
      "           Salvage your data out of another SCM people love to hate.\r\n",
      "\r\n",
      "       g\bgi\bit\bt-\b-c\bcv\bvs\bss\bse\ber\brv\bve\ber\br(1)\r\n",
      "           A CVS server emulator for Git.\r\n",
      "\r\n",
      "       g\bgi\bit\bt-\b-i\bim\bma\bap\bp-\b-s\bse\ben\bnd\bd(1)\r\n",
      "           Send a collection of patches from stdin to an IMAP folder.\r\n",
      "\r\n",
      "       g\bgi\bit\bt-\b-p\bp4\b4(1)\r\n",
      "           Import from and submit to Perforce repositories.\r\n",
      "\r\n",
      "       g\bgi\bit\bt-\b-q\bqu\bui\bil\blt\bti\bim\bmp\bpo\bor\brt\bt(1)\r\n",
      "           Applies a quilt patchset onto the current branch.\r\n",
      "\r\n",
      "       g\bgi\bit\bt-\b-r\bre\beq\bqu\bue\bes\bst\bt-\b-p\bpu\bul\bll\bl(1)\r\n",
      "           Generates a summary of pending changes.\r\n",
      "\r\n",
      "       g\bgi\bit\bt-\b-s\bse\ben\bnd\bd-\b-e\bem\bma\bai\bil\bl(1)\r\n",
      "           Send a collection of patches as emails.\r\n",
      "\r\n",
      "       g\bgi\bit\bt-\b-s\bsv\bvn\bn(1)\r\n",
      "           Bidirectional operation between a Subversion repository and Git.\r\n",
      "\r\n",
      "   R\bRe\bes\bse\bet\bt,\b, r\bre\bes\bst\bto\bor\bre\be a\ban\bnd\bd r\bre\bev\bve\ber\brt\bt\r\n",
      "       There are three commands with similar names: g\bgi\bit\bt r\bre\bes\bse\bet\bt, g\bgi\bit\bt r\bre\bes\bst\bto\bor\bre\be and\r\n",
      "       g\bgi\bit\bt r\bre\bev\bve\ber\brt\bt.\r\n",
      "\r\n",
      "       •   g\bgi\bit\bt-\b-r\bre\bev\bve\ber\brt\bt(1) is about making a new commit that reverts the changes\r\n",
      "           made by other commits.\r\n",
      "\r\n",
      "       •   g\bgi\bit\bt-\b-r\bre\bes\bst\bto\bor\bre\be(1) is about restoring files in the working tree from\r\n",
      "           either the index or another commit. This command does not update\r\n",
      "           your branch. The command can also be used to restore files in the\r\n",
      "           index from another commit.\r\n",
      "\r\n",
      "       •   g\bgi\bit\bt-\b-r\bre\bes\bse\bet\bt(1) is about updating your branch, moving the tip in order\r\n",
      "           to add or remove commits from the branch. This operation changes\r\n",
      "           the commit history.\r\n",
      "\r\n",
      "           g\bgi\bit\bt r\bre\bes\bse\bet\bt can also be used to restore the index, overlapping with\r\n",
      "           g\bgi\bit\bt r\bre\bes\bst\bto\bor\bre\be.\r\n",
      "\r\n",
      "L\bLO\bOW\bW-\b-L\bLE\bEV\bVE\bEL\bL C\bCO\bOM\bMM\bMA\bAN\bND\bDS\bS (\b(P\bPL\bLU\bUM\bMB\bBI\bIN\bNG\bG)\b)\r\n",
      "       Although Git includes its own porcelain layer, its low-level commands\r\n",
      "       are sufficient to support development of alternative porcelains.\r\n",
      "       Developers of such porcelains might start by reading about g\bgi\bit\bt-\b-u\bup\bpd\bda\bat\bte\be-\b-\r\n",
      "       i\bin\bnd\bde\bex\bx(1) and g\bgi\bit\bt-\b-r\bre\bea\bad\bd-\b-t\btr\bre\bee\be(1).\r\n",
      "\r\n",
      "       The interface (input, output, set of options and the semantics) to\r\n",
      "       these low-level commands are meant to be a lot more stable than\r\n",
      "       Porcelain level commands, because these commands are primarily for\r\n",
      "       scripted use. The interface to Porcelain commands on the other hand are\r\n",
      "       subject to change in order to improve the end user experience.\r\n",
      "\r\n",
      "       The following description divides the low-level commands into commands\r\n",
      "       that manipulate objects (in the repository, index, and working tree),\r\n",
      "       commands that interrogate and compare objects, and commands that move\r\n",
      "       objects and references between repositories.\r\n",
      "\r\n",
      "   M\bMa\ban\bni\bip\bpu\bul\bla\bat\bti\bio\bon\bn c\bco\bom\bmm\bma\ban\bnd\bds\bs\r\n",
      "       g\bgi\bit\bt-\b-a\bap\bpp\bpl\bly\by(1)\r\n",
      "           Apply a patch to files and/or to the index.\r\n",
      "\r\n",
      "       g\bgi\bit\bt-\b-c\bch\bhe\bec\bck\bko\bou\but\bt-\b-i\bin\bnd\bde\bex\bx(1)\r\n",
      "           Copy files from the index to the working tree.\r\n",
      "\r\n",
      "       g\bgi\bit\bt-\b-c\bco\bom\bmm\bmi\bit\bt-\b-g\bgr\bra\bap\bph\bh(1)\r\n",
      "           Write and verify Git commit-graph files.\r\n",
      "\r\n",
      "       g\bgi\bit\bt-\b-c\bco\bom\bmm\bmi\bit\bt-\b-t\btr\bre\bee\be(1)\r\n",
      "           Create a new commit object.\r\n",
      "\r\n",
      "       g\bgi\bit\bt-\b-h\bha\bas\bsh\bh-\b-o\bob\bbj\bje\bec\bct\bt(1)\r\n",
      "           Compute object ID and optionally creates a blob from a file.\r\n",
      "\r\n",
      "       g\bgi\bit\bt-\b-i\bin\bnd\bde\bex\bx-\b-p\bpa\bac\bck\bk(1)\r\n",
      "           Build pack index file for an existing packed archive.\r\n",
      "\r\n",
      "       g\bgi\bit\bt-\b-m\bme\ber\brg\bge\be-\b-f\bfi\bil\ble\be(1)\r\n",
      "           Run a three-way file merge.\r\n",
      "\r\n",
      "       g\bgi\bit\bt-\b-m\bme\ber\brg\bge\be-\b-i\bin\bnd\bde\bex\bx(1)\r\n",
      "           Run a merge for files needing merging.\r\n",
      "\r\n",
      "       g\bgi\bit\bt-\b-m\bmk\bkt\bta\bag\bg(1)\r\n",
      "           Creates a tag object with extra validation.\r\n",
      "\r\n",
      "       g\bgi\bit\bt-\b-m\bmk\bkt\btr\bre\bee\be(1)\r\n",
      "           Build a tree-object from ls-tree formatted text.\r\n",
      "\r\n",
      "       g\bgi\bit\bt-\b-m\bmu\bul\blt\bti\bi-\b-p\bpa\bac\bck\bk-\b-i\bin\bnd\bde\bex\bx(1)\r\n",
      "           Write and verify multi-pack-indexes.\r\n",
      "\r\n",
      "       g\bgi\bit\bt-\b-p\bpa\bac\bck\bk-\b-o\bob\bbj\bje\bec\bct\bts\bs(1)\r\n",
      "           Create a packed archive of objects.\r\n",
      "\r\n",
      "       g\bgi\bit\bt-\b-p\bpr\bru\bun\bne\be-\b-p\bpa\bac\bck\bke\bed\bd(1)\r\n",
      "           Remove extra objects that are already in pack files.\r\n",
      "\r\n",
      "       g\bgi\bit\bt-\b-r\bre\bea\bad\bd-\b-t\btr\bre\bee\be(1)\r\n",
      "           Reads tree information into the index.\r\n",
      "\r\n",
      "       g\bgi\bit\bt-\b-s\bsy\bym\bmb\bbo\bol\bli\bic\bc-\b-r\bre\bef\bf(1)\r\n",
      "           Read, modify and delete symbolic refs.\r\n",
      "\r\n",
      "       g\bgi\bit\bt-\b-u\bun\bnp\bpa\bac\bck\bk-\b-o\bob\bbj\bje\bec\bct\bts\bs(1)\r\n",
      "           Unpack objects from a packed archive.\r\n",
      "\r\n",
      "       g\bgi\bit\bt-\b-u\bup\bpd\bda\bat\bte\be-\b-i\bin\bnd\bde\bex\bx(1)\r\n",
      "           Register file contents in the working tree to the index.\r\n",
      "\r\n",
      "       g\bgi\bit\bt-\b-u\bup\bpd\bda\bat\bte\be-\b-r\bre\bef\bf(1)\r\n",
      "           Update the object name stored in a ref safely.\r\n",
      "\r\n",
      "       g\bgi\bit\bt-\b-w\bwr\bri\bit\bte\be-\b-t\btr\bre\bee\be(1)\r\n",
      "           Create a tree object from the current index.\r\n",
      "\r\n",
      "   I\bIn\bnt\bte\ber\brr\bro\bog\bga\bat\bti\bio\bon\bn c\bco\bom\bmm\bma\ban\bnd\bds\bs\r\n",
      "       g\bgi\bit\bt-\b-c\bca\bat\bt-\b-f\bfi\bil\ble\be(1)\r\n",
      "           Provide content or type and size information for repository\r\n",
      "           objects.\r\n",
      "\r\n",
      "       g\bgi\bit\bt-\b-c\bch\bhe\ber\brr\bry\by(1)\r\n",
      "           Find commits yet to be applied to upstream.\r\n",
      "\r\n",
      "       g\bgi\bit\bt-\b-d\bdi\bif\bff\bf-\b-f\bfi\bil\ble\bes\bs(1)\r\n",
      "           Compares files in the working tree and the index.\r\n",
      "\r\n",
      "       g\bgi\bit\bt-\b-d\bdi\bif\bff\bf-\b-i\bin\bnd\bde\bex\bx(1)\r\n",
      "           Compare a tree to the working tree or index.\r\n",
      "\r\n",
      "       g\bgi\bit\bt-\b-d\bdi\bif\bff\bf-\b-t\btr\bre\bee\be(1)\r\n",
      "           Compares the content and mode of blobs found via two tree objects.\r\n",
      "\r\n",
      "       g\bgi\bit\bt-\b-f\bfo\bor\br-\b-e\bea\bac\bch\bh-\b-r\bre\bef\bf(1)\r\n",
      "           Output information on each ref.\r\n",
      "\r\n",
      "       g\bgi\bit\bt-\b-f\bfo\bor\br-\b-e\bea\bac\bch\bh-\b-r\bre\bep\bpo\bo(1)\r\n",
      "           Run a Git command on a list of repositories.\r\n",
      "\r\n",
      "       g\bgi\bit\bt-\b-g\bge\bet\bt-\b-t\bta\bar\br-\b-c\bco\bom\bmm\bmi\bit\bt-\b-i\bid\bd(1)\r\n",
      "           Extract commit ID from an archive created using git-archive.\r\n",
      "\r\n",
      "       g\bgi\bit\bt-\b-l\bls\bs-\b-f\bfi\bil\ble\bes\bs(1)\r\n",
      "           Show information about files in the index and the working tree.\r\n",
      "\r\n",
      "       g\bgi\bit\bt-\b-l\bls\bs-\b-r\bre\bem\bmo\bot\bte\be(1)\r\n",
      "           List references in a remote repository.\r\n",
      "\r\n",
      "       g\bgi\bit\bt-\b-l\bls\bs-\b-t\btr\bre\bee\be(1)\r\n",
      "           List the contents of a tree object.\r\n",
      "\r\n",
      "       g\bgi\bit\bt-\b-m\bme\ber\brg\bge\be-\b-b\bba\bas\bse\be(1)\r\n",
      "           Find as good common ancestors as possible for a merge.\r\n",
      "\r\n",
      "       g\bgi\bit\bt-\b-n\bna\bam\bme\be-\b-r\bre\bev\bv(1)\r\n",
      "           Find symbolic names for given revs.\r\n",
      "\r\n",
      "       g\bgi\bit\bt-\b-p\bpa\bac\bck\bk-\b-r\bre\bed\bdu\bun\bnd\bda\ban\bnt\bt(1)\r\n",
      "           Find redundant pack files.\r\n",
      "\r\n",
      "       g\bgi\bit\bt-\b-r\bre\bev\bv-\b-l\bli\bis\bst\bt(1)\r\n",
      "           Lists commit objects in reverse chronological order.\r\n",
      "\r\n",
      "       g\bgi\bit\bt-\b-r\bre\bev\bv-\b-p\bpa\bar\brs\bse\be(1)\r\n",
      "           Pick out and massage parameters.\r\n",
      "\r\n",
      "       g\bgi\bit\bt-\b-s\bsh\bho\bow\bw-\b-i\bin\bnd\bde\bex\bx(1)\r\n",
      "           Show packed archive index.\r\n",
      "\r\n",
      "       g\bgi\bit\bt-\b-s\bsh\bho\bow\bw-\b-r\bre\bef\bf(1)\r\n",
      "           List references in a local repository.\r\n",
      "\r\n",
      "       g\bgi\bit\bt-\b-u\bun\bnp\bpa\bac\bck\bk-\b-f\bfi\bil\ble\be(1)\r\n",
      "           Creates a temporary file with a blob’s contents.\r\n",
      "\r\n",
      "       g\bgi\bit\bt-\b-v\bva\bar\br(1)\r\n",
      "           Show a Git logical variable.\r\n",
      "\r\n",
      "       g\bgi\bit\bt-\b-v\bve\ber\bri\bif\bfy\by-\b-p\bpa\bac\bck\bk(1)\r\n",
      "           Validate packed Git archive files.\r\n",
      "\r\n",
      "       In general, the interrogate commands do not touch the files in the\r\n",
      "       working tree.\r\n",
      "\r\n",
      "   S\bSy\byn\bnc\bci\bin\bng\bg r\bre\bep\bpo\bos\bsi\bit\bto\bor\bri\bie\bes\bs\r\n",
      "       g\bgi\bit\bt-\b-d\bda\bae\bem\bmo\bon\bn(1)\r\n",
      "           A really simple server for Git repositories.\r\n",
      "\r\n",
      "       g\bgi\bit\bt-\b-f\bfe\bet\btc\bch\bh-\b-p\bpa\bac\bck\bk(1)\r\n",
      "           Receive missing objects from another repository.\r\n",
      "\r\n",
      "       g\bgi\bit\bt-\b-h\bht\btt\btp\bp-\b-b\bba\bac\bck\bke\ben\bnd\bd(1)\r\n",
      "           Server side implementation of Git over HTTP.\r\n",
      "\r\n",
      "       g\bgi\bit\bt-\b-s\bse\ben\bnd\bd-\b-p\bpa\bac\bck\bk(1)\r\n",
      "           Push objects over Git protocol to another repository.\r\n",
      "\r\n",
      "       g\bgi\bit\bt-\b-u\bup\bpd\bda\bat\bte\be-\b-s\bse\ber\brv\bve\ber\br-\b-i\bin\bnf\bfo\bo(1)\r\n",
      "           Update auxiliary info file to help dumb servers.\r\n",
      "\r\n",
      "       The following are helper commands used by the above; end users\r\n",
      "       typically do not use them directly.\r\n",
      "\r\n",
      "       g\bgi\bit\bt-\b-h\bht\btt\btp\bp-\b-f\bfe\bet\btc\bch\bh(1)\r\n",
      "           Download from a remote Git repository via HTTP.\r\n",
      "\r\n",
      "       g\bgi\bit\bt-\b-h\bht\btt\btp\bp-\b-p\bpu\bus\bsh\bh(1)\r\n",
      "           Push objects over HTTP/DAV to another repository.\r\n",
      "\r\n",
      "       g\bgi\bit\bt-\b-r\bre\bec\bce\bei\biv\bve\be-\b-p\bpa\bac\bck\bk(1)\r\n",
      "           Receive what is pushed into the repository.\r\n",
      "\r\n",
      "       g\bgi\bit\bt-\b-s\bsh\bhe\bel\bll\bl(1)\r\n",
      "           Restricted login shell for Git-only SSH access.\r\n",
      "\r\n",
      "       g\bgi\bit\bt-\b-u\bup\bpl\blo\boa\bad\bd-\b-a\bar\brc\bch\bhi\biv\bve\be(1)\r\n",
      "           Send archive back to git-archive.\r\n",
      "\r\n",
      "       g\bgi\bit\bt-\b-u\bup\bpl\blo\boa\bad\bd-\b-p\bpa\bac\bck\bk(1)\r\n",
      "           Send objects packed back to git-fetch-pack.\r\n",
      "\r\n",
      "   I\bIn\bnt\bte\ber\brn\bna\bal\bl h\bhe\bel\blp\bpe\ber\br c\bco\bom\bmm\bma\ban\bnd\bds\bs\r\n",
      "       These are internal helper commands used by other commands; end users\r\n",
      "       typically do not use them directly.\r\n",
      "\r\n",
      "       g\bgi\bit\bt-\b-c\bch\bhe\bec\bck\bk-\b-a\bat\btt\btr\br(1)\r\n",
      "           Display gitattributes information.\r\n",
      "\r\n",
      "       g\bgi\bit\bt-\b-c\bch\bhe\bec\bck\bk-\b-i\big\bgn\bno\bor\bre\be(1)\r\n",
      "           Debug gitignore / exclude files.\r\n",
      "\r\n",
      "       g\bgi\bit\bt-\b-c\bch\bhe\bec\bck\bk-\b-m\bma\bai\bil\blm\bma\bap\bp(1)\r\n",
      "           Show canonical names and email addresses of contacts.\r\n",
      "\r\n",
      "       g\bgi\bit\bt-\b-c\bch\bhe\bec\bck\bk-\b-r\bre\bef\bf-\b-f\bfo\bor\brm\bma\bat\bt(1)\r\n",
      "           Ensures that a reference name is well formed.\r\n",
      "\r\n",
      "       g\bgi\bit\bt-\b-c\bco\bol\blu\bum\bmn\bn(1)\r\n",
      "           Display data in columns.\r\n",
      "\r\n",
      "       g\bgi\bit\bt-\b-c\bcr\bre\bed\bde\ben\bnt\bti\bia\bal\bl(1)\r\n",
      "           Retrieve and store user credentials.\r\n",
      "\r\n",
      "       g\bgi\bit\bt-\b-c\bcr\bre\bed\bde\ben\bnt\bti\bia\bal\bl-\b-c\bca\bac\bch\bhe\be(1)\r\n",
      "           Helper to temporarily store passwords in memory.\r\n",
      "\r\n",
      "       g\bgi\bit\bt-\b-c\bcr\bre\bed\bde\ben\bnt\bti\bia\bal\bl-\b-s\bst\bto\bor\bre\be(1)\r\n",
      "           Helper to store credentials on disk.\r\n",
      "\r\n",
      "       g\bgi\bit\bt-\b-f\bfm\bmt\bt-\b-m\bme\ber\brg\bge\be-\b-m\bms\bsg\bg(1)\r\n",
      "           Produce a merge commit message.\r\n",
      "\r\n",
      "       g\bgi\bit\bt-\b-h\bho\boo\bok\bk(1)\r\n",
      "           Run git hooks.\r\n",
      "\r\n",
      "       g\bgi\bit\bt-\b-i\bin\bnt\bte\ber\brp\bpr\bre\bet\bt-\b-t\btr\bra\bai\bil\ble\ber\brs\bs(1)\r\n",
      "           Add or parse structured information in commit messages.\r\n",
      "\r\n",
      "       g\bgi\bit\bt-\b-m\bma\bai\bil\bli\bin\bnf\bfo\bo(1)\r\n",
      "           Extracts patch and authorship from a single e-mail message.\r\n",
      "\r\n",
      "       g\bgi\bit\bt-\b-m\bma\bai\bil\bls\bsp\bpl\bli\bit\bt(1)\r\n",
      "           Simple UNIX mbox splitter program.\r\n",
      "\r\n",
      "       g\bgi\bit\bt-\b-m\bme\ber\brg\bge\be-\b-o\bon\bne\be-\b-f\bfi\bil\ble\be(1)\r\n",
      "           The standard helper program to use with git-merge-index.\r\n",
      "\r\n",
      "       g\bgi\bit\bt-\b-p\bpa\bat\btc\bch\bh-\b-i\bid\bd(1)\r\n",
      "           Compute unique ID for a patch.\r\n",
      "\r\n",
      "       g\bgi\bit\bt-\b-s\bsh\bh-\b-i\bi1\b18\b8n\bn(1)\r\n",
      "           Git’s i18n setup code for shell scripts.\r\n",
      "\r\n",
      "       g\bgi\bit\bt-\b-s\bsh\bh-\b-s\bse\bet\btu\bup\bp(1)\r\n",
      "           Common Git shell script setup code.\r\n",
      "\r\n",
      "       g\bgi\bit\bt-\b-s\bst\btr\bri\bip\bps\bsp\bpa\bac\bce\be(1)\r\n",
      "           Remove unnecessary whitespace.\r\n",
      "\r\n",
      "G\bGU\bUI\bID\bDE\bES\bS\r\n",
      "       The following documentation pages are guides about Git concepts.\r\n",
      "\r\n",
      "       g\bgi\bit\btc\bco\bor\bre\be-\b-t\btu\but\bto\bor\bri\bia\bal\bl(7)\r\n",
      "           A Git core tutorial for developers.\r\n",
      "\r\n",
      "       g\bgi\bit\btc\bcr\bre\bed\bde\ben\bnt\bti\bia\bal\bls\bs(7)\r\n",
      "           Providing usernames and passwords to Git.\r\n",
      "\r\n",
      "       g\bgi\bit\btc\bcv\bvs\bs-\b-m\bmi\big\bgr\bra\bat\bti\bio\bon\bn(7)\r\n",
      "           Git for CVS users.\r\n",
      "\r\n",
      "       g\bgi\bit\btd\bdi\bif\bff\bfc\bco\bor\bre\be(7)\r\n",
      "           Tweaking diff output.\r\n",
      "\r\n",
      "       g\bgi\bit\bte\bev\bve\ber\bry\byd\bda\bay\by(7)\r\n",
      "           A useful minimum set of commands for Everyday Git.\r\n",
      "\r\n",
      "       g\bgi\bit\btf\bfa\baq\bq(7)\r\n",
      "           Frequently asked questions about using Git.\r\n",
      "\r\n",
      "       g\bgi\bit\btg\bgl\blo\bos\bss\bsa\bar\bry\by(7)\r\n",
      "           A Git Glossary.\r\n",
      "\r\n",
      "       g\bgi\bit\btn\bna\bam\bme\bes\bsp\bpa\bac\bce\bes\bs(7)\r\n",
      "           Git namespaces.\r\n",
      "\r\n",
      "       g\bgi\bit\btr\bre\bem\bmo\bot\bte\be-\b-h\bhe\bel\blp\bpe\ber\brs\bs(7)\r\n",
      "           Helper programs to interact with remote repositories.\r\n",
      "\r\n",
      "       g\bgi\bit\bts\bsu\bub\bbm\bmo\bod\bdu\bul\ble\bes\bs(7)\r\n",
      "           Mounting one repository inside another.\r\n",
      "\r\n",
      "       g\bgi\bit\btt\btu\but\bto\bor\bri\bia\bal\bl(7)\r\n",
      "           A tutorial introduction to Git.\r\n",
      "\r\n",
      "       g\bgi\bit\btt\btu\but\bto\bor\bri\bia\bal\bl-\b-2\b2(7)\r\n",
      "           A tutorial introduction to Git: part two.\r\n",
      "\r\n",
      "       g\bgi\bit\btw\bwo\bor\brk\bkf\bfl\blo\bow\bws\bs(7)\r\n",
      "           An overview of recommended workflows with Git.\r\n",
      "\r\n",
      "R\bRE\bEP\bPO\bOS\bSI\bIT\bTO\bOR\bRY\bY,\b, C\bCO\bOM\bMM\bMA\bAN\bND\bD A\bAN\bND\bD F\bFI\bIL\bLE\bE I\bIN\bNT\bTE\bER\bRF\bFA\bAC\bCE\bES\bS\r\n",
      "       This documentation discusses repository and command interfaces which\r\n",
      "       users are expected to interact with directly. See -\b--\b-u\bus\bse\ber\br-\b-f\bfo\bor\brm\bma\bat\bts\bs in\r\n",
      "       g\bgi\bit\bt-\b-h\bhe\bel\blp\bp(1) for more details on the criteria.\r\n",
      "\r\n",
      "       g\bgi\bit\bta\bat\btt\btr\bri\bib\bbu\but\bte\bes\bs(5)\r\n",
      "           Defining attributes per path.\r\n",
      "\r\n",
      "       g\bgi\bit\btc\bcl\bli\bi(7)\r\n",
      "           Git command-line interface and conventions.\r\n",
      "\r\n",
      "       g\bgi\bit\bth\bho\boo\bok\bks\bs(5)\r\n",
      "           Hooks used by Git.\r\n",
      "\r\n",
      "       g\bgi\bit\bti\big\bgn\bno\bor\bre\be(5)\r\n",
      "           Specifies intentionally untracked files to ignore.\r\n",
      "\r\n",
      "       g\bgi\bit\btm\bma\bai\bil\blm\bma\bap\bp(5)\r\n",
      "           Map author/committer names and/or E-Mail addresses.\r\n",
      "\r\n",
      "       g\bgi\bit\btm\bmo\bod\bdu\bul\ble\bes\bs(5)\r\n",
      "           Defining submodule properties.\r\n",
      "\r\n",
      "       g\bgi\bit\btr\bre\bep\bpo\bos\bsi\bit\bto\bor\bry\by-\b-l\bla\bay\byo\bou\but\bt(5)\r\n",
      "           Git Repository Layout.\r\n",
      "\r\n",
      "       g\bgi\bit\btr\bre\bev\bvi\bis\bsi\bio\bon\bns\bs(7)\r\n",
      "           Specifying revisions and ranges for Git.\r\n",
      "\r\n",
      "F\bFI\bIL\bLE\bE F\bFO\bOR\bRM\bMA\bAT\bTS\bS,\b, P\bPR\bRO\bOT\bTO\bOC\bCO\bOL\bLS\bS A\bAN\bND\bD O\bOT\bTH\bHE\bER\bR D\bDE\bEV\bVE\bEL\bLO\bOP\bPE\bER\bR I\bIN\bNT\bTE\bER\bRF\bFA\bAC\bCE\bES\bS\r\n",
      "       This documentation discusses file formats, over-the-wire protocols and\r\n",
      "       other git developer interfaces. See -\b--\b-d\bde\bev\bve\bel\blo\bop\bpe\ber\br-\b-i\bin\bnt\bte\ber\brf\bfa\bac\bce\bes\bs in g\bgi\bit\bt-\b-\r\n",
      "       h\bhe\bel\blp\bp(1).\r\n",
      "\r\n",
      "       g\bgi\bit\btf\bfo\bor\brm\bma\bat\bt-\b-b\bbu\bun\bnd\bdl\ble\be(5)\r\n",
      "           The bundle file format.\r\n",
      "\r\n",
      "       g\bgi\bit\btf\bfo\bor\brm\bma\bat\bt-\b-c\bch\bhu\bun\bnk\bk(5)\r\n",
      "           Chunk-based file formats.\r\n",
      "\r\n",
      "       g\bgi\bit\btf\bfo\bor\brm\bma\bat\bt-\b-c\bco\bom\bmm\bmi\bit\bt-\b-g\bgr\bra\bap\bph\bh(5)\r\n",
      "           Git commit-graph format.\r\n",
      "\r\n",
      "       g\bgi\bit\btf\bfo\bor\brm\bma\bat\bt-\b-i\bin\bnd\bde\bex\bx(5)\r\n",
      "           Git index format.\r\n",
      "\r\n",
      "       g\bgi\bit\btf\bfo\bor\brm\bma\bat\bt-\b-p\bpa\bac\bck\bk(5)\r\n",
      "           Git pack format.\r\n",
      "\r\n",
      "       g\bgi\bit\btf\bfo\bor\brm\bma\bat\bt-\b-s\bsi\big\bgn\bna\bat\btu\bur\bre\be(5)\r\n",
      "           Git cryptographic signature formats.\r\n",
      "\r\n",
      "       g\bgi\bit\btp\bpr\bro\bot\bto\boc\bco\bol\bl-\b-c\bca\bap\bpa\bab\bbi\bil\bli\bit\bti\bie\bes\bs(5)\r\n",
      "           Protocol v0 and v1 capabilities.\r\n",
      "\r\n",
      "       g\bgi\bit\btp\bpr\bro\bot\bto\boc\bco\bol\bl-\b-c\bco\bom\bmm\bmo\bon\bn(5)\r\n",
      "           Things common to various protocols.\r\n",
      "\r\n",
      "       g\bgi\bit\btp\bpr\bro\bot\bto\boc\bco\bol\bl-\b-h\bht\btt\btp\bp(5)\r\n",
      "           Git HTTP-based protocols.\r\n",
      "\r\n",
      "       g\bgi\bit\btp\bpr\bro\bot\bto\boc\bco\bol\bl-\b-p\bpa\bac\bck\bk(5)\r\n",
      "           How packs are transferred over-the-wire.\r\n",
      "\r\n",
      "       g\bgi\bit\btp\bpr\bro\bot\bto\boc\bco\bol\bl-\b-v\bv2\b2(5)\r\n",
      "           Git Wire Protocol, Version 2.\r\n",
      "\r\n",
      "C\bCO\bON\bNF\bFI\bIG\bGU\bUR\bRA\bAT\bTI\bIO\bON\bN M\bME\bEC\bCH\bHA\bAN\bNI\bIS\bSM\bM\r\n",
      "       Git uses a simple text format to store customizations that are per\r\n",
      "       repository and are per user. Such a configuration file may look like\r\n",
      "       this:\r\n",
      "\r\n",
      "           #\r\n",
      "           # A '#' or ';' character indicates a comment.\r\n",
      "           #\r\n",
      "\r\n",
      "           ; core variables\r\n",
      "           [core]\r\n",
      "                   ; Don't trust file modes\r\n",
      "                   filemode = false\r\n",
      "\r\n",
      "           ; user identity\r\n",
      "           [user]\r\n",
      "                   name = \"Junio C Hamano\"\r\n",
      "                   email = \"gitster@pobox.com\"\r\n",
      "\r\n",
      "       Various commands read from the configuration file and adjust their\r\n",
      "       operation accordingly. See g\bgi\bit\bt-\b-c\bco\bon\bnf\bfi\big\bg(1) for a list and more details\r\n",
      "       about the configuration mechanism.\r\n",
      "\r\n",
      "I\bID\bDE\bEN\bNT\bTI\bIF\bFI\bIE\bER\bR T\bTE\bER\bRM\bMI\bIN\bNO\bOL\bLO\bOG\bGY\bY\r\n",
      "       <object>\r\n",
      "           Indicates the object name for any type of object.\r\n",
      "\r\n",
      "       <blob>\r\n",
      "           Indicates a blob object name.\r\n",
      "\r\n",
      "       <tree>\r\n",
      "           Indicates a tree object name.\r\n",
      "\r\n",
      "       <commit>\r\n",
      "           Indicates a commit object name.\r\n",
      "\r\n",
      "       <tree-ish>\r\n",
      "           Indicates a tree, commit or tag object name. A command that takes a\r\n",
      "           <tree-ish> argument ultimately wants to operate on a <tree> object\r\n",
      "           but automatically dereferences <commit> and <tag> objects that\r\n",
      "           point at a <tree>.\r\n",
      "\r\n",
      "       <commit-ish>\r\n",
      "           Indicates a commit or tag object name. A command that takes a\r\n",
      "           <commit-ish> argument ultimately wants to operate on a <commit>\r\n",
      "           object but automatically dereferences <tag> objects that point at a\r\n",
      "           <commit>.\r\n",
      "\r\n",
      "       <type>\r\n",
      "           Indicates that an object type is required. Currently one of: b\bbl\blo\bob\bb,\r\n",
      "           t\btr\bre\bee\be, c\bco\bom\bmm\bmi\bit\bt, or t\bta\bag\bg.\r\n",
      "\r\n",
      "       <file>\r\n",
      "           Indicates a filename - almost always relative to the root of the\r\n",
      "           tree structure G\bGI\bIT\bT_\b_I\bIN\bND\bDE\bEX\bX_\b_F\bFI\bIL\bLE\bE describes.\r\n",
      "\r\n",
      "S\bSY\bYM\bMB\bBO\bOL\bLI\bIC\bC I\bID\bDE\bEN\bNT\bTI\bIF\bFI\bIE\bER\bRS\bS\r\n",
      "       Any Git command accepting any <object> can also use the following\r\n",
      "       symbolic notation:\r\n",
      "\r\n",
      "       HEAD\r\n",
      "           indicates the head of the current branch.\r\n",
      "\r\n",
      "       <tag>\r\n",
      "           a valid tag _\bn_\ba_\bm_\be (i.e. a r\bre\bef\bfs\bs/\b/t\bta\bag\bgs\bs/\b/<\b<t\bta\bag\bg>\b> reference).\r\n",
      "\r\n",
      "       <head>\r\n",
      "           a valid head _\bn_\ba_\bm_\be (i.e. a r\bre\bef\bfs\bs/\b/h\bhe\bea\bad\bds\bs/\b/<\b<h\bhe\bea\bad\bd>\b> reference).\r\n",
      "\r\n",
      "       For a more complete list of ways to spell object names, see \"SPECIFYING\r\n",
      "       REVISIONS\" section in g\bgi\bit\btr\bre\bev\bvi\bis\bsi\bio\bon\bns\bs(7).\r\n",
      "\r\n",
      "F\bFI\bIL\bLE\bE/\b/D\bDI\bIR\bRE\bEC\bCT\bTO\bOR\bRY\bY S\bST\bTR\bRU\bUC\bCT\bTU\bUR\bRE\bE\r\n",
      "       Please see the g\bgi\bit\btr\bre\bep\bpo\bos\bsi\bit\bto\bor\bry\by-\b-l\bla\bay\byo\bou\but\bt(5) document.\r\n",
      "\r\n",
      "       Read g\bgi\bit\bth\bho\boo\bok\bks\bs(5) for more details about each hook.\r\n",
      "\r\n",
      "       Higher level SCMs may provide and manage additional information in the\r\n",
      "       $\b$G\bGI\bIT\bT_\b_D\bDI\bIR\bR.\r\n",
      "\r\n",
      "T\bTE\bER\bRM\bMI\bIN\bNO\bOL\bLO\bOG\bGY\bY\r\n",
      "       Please see g\bgi\bit\btg\bgl\blo\bos\bss\bsa\bar\bry\by(7).\r\n",
      "\r\n",
      "E\bEN\bNV\bVI\bIR\bRO\bON\bNM\bME\bEN\bNT\bT V\bVA\bAR\bRI\bIA\bAB\bBL\bLE\bES\bS\r\n",
      "       Various Git commands pay attention to environment variables and change\r\n",
      "       their behavior. The environment variables marked as \"Boolean\" take\r\n",
      "       their values the same way as Boolean valued configuration variables,\r\n",
      "       e.g. \"true\", \"yes\", \"on\" and positive numbers are taken as \"yes\".\r\n",
      "\r\n",
      "       Here are the variables:\r\n",
      "\r\n",
      "   T\bTh\bhe\be G\bGi\bit\bt R\bRe\bep\bpo\bos\bsi\bit\bto\bor\bry\by\r\n",
      "       These environment variables apply to _\ba_\bl_\bl core Git commands. Nb: it is\r\n",
      "       worth noting that they may be used/overridden by SCMS sitting above Git\r\n",
      "       so take care if using a foreign front-end.\r\n",
      "\r\n",
      "       G\bGI\bIT\bT_\b_I\bIN\bND\bDE\bEX\bX_\b_F\bFI\bIL\bLE\bE\r\n",
      "           This environment variable specifies an alternate index file. If not\r\n",
      "           specified, the default of $\b$G\bGI\bIT\bT_\b_D\bDI\bIR\bR/\b/i\bin\bnd\bde\bex\bx is used.\r\n",
      "\r\n",
      "       G\bGI\bIT\bT_\b_I\bIN\bND\bDE\bEX\bX_\b_V\bVE\bER\bRS\bSI\bIO\bON\bN\r\n",
      "           This environment variable specifies what index version is used when\r\n",
      "           writing the index file out. It won’t affect existing index files.\r\n",
      "           By default index file version 2 or 3 is used. See g\bgi\bit\bt-\b-u\bup\bpd\bda\bat\bte\be-\b-\r\n",
      "           i\bin\bnd\bde\bex\bx(1) for more information.\r\n",
      "\r\n",
      "       G\bGI\bIT\bT_\b_O\bOB\bBJ\bJE\bEC\bCT\bT_\b_D\bDI\bIR\bRE\bEC\bCT\bTO\bOR\bRY\bY\r\n",
      "           If the object storage directory is specified via this environment\r\n",
      "           variable then the sha1 directories are created underneath -\r\n",
      "           otherwise the default $\b$G\bGI\bIT\bT_\b_D\bDI\bIR\bR/\b/o\bob\bbj\bje\bec\bct\bts\bs directory is used.\r\n",
      "\r\n",
      "       G\bGI\bIT\bT_\b_A\bAL\bLT\bTE\bER\bRN\bNA\bAT\bTE\bE_\b_O\bOB\bBJ\bJE\bEC\bCT\bT_\b_D\bDI\bIR\bRE\bEC\bCT\bTO\bOR\bRI\bIE\bES\bS\r\n",
      "           Due to the immutable nature of Git objects, old objects can be\r\n",
      "           archived into shared, read-only directories. This variable\r\n",
      "           specifies a \":\" separated (on Windows \";\" separated) list of Git\r\n",
      "           object directories which can be used to search for Git objects. New\r\n",
      "           objects will not be written to these directories.\r\n",
      "\r\n",
      "           Entries that begin with \"\b\" (double-quote) will be interpreted as\r\n",
      "           C-style quoted paths, removing leading and trailing double-quotes\r\n",
      "           and respecting backslash escapes. E.g., the value\r\n",
      "           \"\b\"p\bpa\bat\bth\bh-\b-w\bwi\bit\bth\bh-\b-\\\b\\\"\b\"-\b-a\ban\bnd\bd-\b-:\b:-\b-i\bin\bn-\b-i\bit\bt\"\b\":\b:v\bva\ban\bni\bil\bll\bla\ba-\b-p\bpa\bat\bth\bh has two paths:\r\n",
      "           p\bpa\bat\bth\bh-\b-w\bwi\bit\bth\bh-\b-\"\b\"-\b-a\ban\bnd\bd-\b-:\b:-\b-i\bin\bn-\b-i\bit\bt and v\bva\ban\bni\bil\bll\bla\ba-\b-p\bpa\bat\bth\bh.\r\n",
      "\r\n",
      "       G\bGI\bIT\bT_\b_D\bDI\bIR\bR\r\n",
      "           If the G\bGI\bIT\bT_\b_D\bDI\bIR\bR environment variable is set then it specifies a path\r\n",
      "           to use instead of the default .\b.g\bgi\bit\bt for the base of the repository.\r\n",
      "           The -\b--\b-g\bgi\bit\bt-\b-d\bdi\bir\br command-line option also sets this value.\r\n",
      "\r\n",
      "       G\bGI\bIT\bT_\b_W\bWO\bOR\bRK\bK_\b_T\bTR\bRE\bEE\bE\r\n",
      "           Set the path to the root of the working tree. This can also be\r\n",
      "           controlled by the -\b--\b-w\bwo\bor\brk\bk-\b-t\btr\bre\bee\be command-line option and the\r\n",
      "           core.worktree configuration variable.\r\n",
      "\r\n",
      "       G\bGI\bIT\bT_\b_N\bNA\bAM\bME\bES\bSP\bPA\bAC\bCE\bE\r\n",
      "           Set the Git namespace; see g\bgi\bit\btn\bna\bam\bme\bes\bsp\bpa\bac\bce\bes\bs(7) for details. The\r\n",
      "           -\b--\b-n\bna\bam\bme\bes\bsp\bpa\bac\bce\be command-line option also sets this value.\r\n",
      "\r\n",
      "       G\bGI\bIT\bT_\b_C\bCE\bEI\bIL\bLI\bIN\bNG\bG_\b_D\bDI\bIR\bRE\bEC\bCT\bTO\bOR\bRI\bIE\bES\bS\r\n",
      "           This should be a colon-separated list of absolute paths. If set, it\r\n",
      "           is a list of directories that Git should not chdir up into while\r\n",
      "           looking for a repository directory (useful for excluding\r\n",
      "           slow-loading network directories). It will not exclude the current\r\n",
      "           working directory or a GIT_DIR set on the command line or in the\r\n",
      "           environment. Normally, Git has to read the entries in this list and\r\n",
      "           resolve any symlink that might be present in order to compare them\r\n",
      "           with the current directory. However, if even this access is slow,\r\n",
      "           you can add an empty entry to the list to tell Git that the\r\n",
      "           subsequent entries are not symlinks and needn’t be resolved; e.g.,\r\n",
      "           G\bGI\bIT\bT_\b_C\bCE\bEI\bIL\bLI\bIN\bNG\bG_\b_D\bDI\bIR\bRE\bEC\bCT\bTO\bOR\bRI\bIE\bES\bS=\b=/\b/m\bma\bay\byb\bbe\be/\b/s\bsy\bym\bml\bli\bin\bnk\bk:\b::\b:/\b/v\bve\ber\bry\by/\b/s\bsl\blo\bow\bw/\b/n\bno\bon\bn/\b/s\bsy\bym\bml\bli\bin\bnk\bk.\r\n",
      "\r\n",
      "       G\bGI\bIT\bT_\b_D\bDI\bIS\bSC\bCO\bOV\bVE\bER\bRY\bY_\b_A\bAC\bCR\bRO\bOS\bSS\bS_\b_F\bFI\bIL\bLE\bES\bSY\bYS\bST\bTE\bEM\bM\r\n",
      "           When run in a directory that does not have \".git\" repository\r\n",
      "           directory, Git tries to find such a directory in the parent\r\n",
      "           directories to find the top of the working tree, but by default it\r\n",
      "           does not cross filesystem boundaries. This Boolean environment\r\n",
      "           variable can be set to true to tell Git not to stop at filesystem\r\n",
      "           boundaries. Like G\bGI\bIT\bT_\b_C\bCE\bEI\bIL\bLI\bIN\bNG\bG_\b_D\bDI\bIR\bRE\bEC\bCT\bTO\bOR\bRI\bIE\bES\bS, this will not affect an\r\n",
      "           explicit repository directory set via G\bGI\bIT\bT_\b_D\bDI\bIR\bR or on the command\r\n",
      "           line.\r\n",
      "\r\n",
      "       G\bGI\bIT\bT_\b_C\bCO\bOM\bMM\bMO\bON\bN_\b_D\bDI\bIR\bR\r\n",
      "           If this variable is set to a path, non-worktree files that are\r\n",
      "           normally in $GIT_DIR will be taken from this path instead.\r\n",
      "           Worktree-specific files such as HEAD or index are taken from\r\n",
      "           $GIT_DIR. See g\bgi\bit\btr\bre\bep\bpo\bos\bsi\bit\bto\bor\bry\by-\b-l\bla\bay\byo\bou\but\bt(5) and g\bgi\bit\bt-\b-w\bwo\bor\brk\bkt\btr\bre\bee\be(1) for\r\n",
      "           details. This variable has lower precedence than other path\r\n",
      "           variables such as GIT_INDEX_FILE, GIT_OBJECT_DIRECTORY...\r\n",
      "\r\n",
      "       G\bGI\bIT\bT_\b_D\bDE\bEF\bFA\bAU\bUL\bLT\bT_\b_H\bHA\bAS\bSH\bH\r\n",
      "           If this variable is set, the default hash algorithm for new\r\n",
      "           repositories will be set to this value. This value is currently\r\n",
      "           ignored when cloning; the setting of the remote repository is used\r\n",
      "           instead. The default is \"sha1\". THIS VARIABLE IS EXPERIMENTAL! See\r\n",
      "           -\b--\b-o\bob\bbj\bje\bec\bct\bt-\b-f\bfo\bor\brm\bma\bat\bt in g\bgi\bit\bt-\b-i\bin\bni\bit\bt(1).\r\n",
      "\r\n",
      "   G\bGi\bit\bt C\bCo\bom\bmm\bmi\bit\bts\bs\r\n",
      "       G\bGI\bIT\bT_\b_A\bAU\bUT\bTH\bHO\bOR\bR_\b_N\bNA\bAM\bME\bE\r\n",
      "           The human-readable name used in the author identity when creating\r\n",
      "           commit or tag objects, or when writing reflogs. Overrides the\r\n",
      "           u\bus\bse\ber\br.\b.n\bna\bam\bme\be and a\bau\but\bth\bho\bor\br.\b.n\bna\bam\bme\be configuration settings.\r\n",
      "\r\n",
      "       G\bGI\bIT\bT_\b_A\bAU\bUT\bTH\bHO\bOR\bR_\b_E\bEM\bMA\bAI\bIL\bL\r\n",
      "           The email address used in the author identity when creating commit\r\n",
      "           or tag objects, or when writing reflogs. Overrides the u\bus\bse\ber\br.\b.e\bem\bma\bai\bil\bl\r\n",
      "           and a\bau\but\bth\bho\bor\br.\b.e\bem\bma\bai\bil\bl configuration settings.\r\n",
      "\r\n",
      "       G\bGI\bIT\bT_\b_A\bAU\bUT\bTH\bHO\bOR\bR_\b_D\bDA\bAT\bTE\bE\r\n",
      "           The date used for the author identity when creating commit or tag\r\n",
      "           objects, or when writing reflogs. See g\bgi\bit\bt-\b-c\bco\bom\bmm\bmi\bit\bt(1) for valid\r\n",
      "           formats.\r\n",
      "\r\n",
      "       G\bGI\bIT\bT_\b_C\bCO\bOM\bMM\bMI\bIT\bTT\bTE\bER\bR_\b_N\bNA\bAM\bME\bE\r\n",
      "           The human-readable name used in the committer identity when\r\n",
      "           creating commit or tag objects, or when writing reflogs. Overrides\r\n",
      "           the u\bus\bse\ber\br.\b.n\bna\bam\bme\be and c\bco\bom\bmm\bmi\bit\btt\bte\ber\br.\b.n\bna\bam\bme\be configuration settings.\r\n",
      "\r\n",
      "       G\bGI\bIT\bT_\b_C\bCO\bOM\bMM\bMI\bIT\bTT\bTE\bER\bR_\b_E\bEM\bMA\bAI\bIL\bL\r\n",
      "           The email address used in the author identity when creating commit\r\n",
      "           or tag objects, or when writing reflogs. Overrides the u\bus\bse\ber\br.\b.e\bem\bma\bai\bil\bl\r\n",
      "           and c\bco\bom\bmm\bmi\bit\btt\bte\ber\br.\b.e\bem\bma\bai\bil\bl configuration settings.\r\n",
      "\r\n",
      "       G\bGI\bIT\bT_\b_C\bCO\bOM\bMM\bMI\bIT\bTT\bTE\bER\bR_\b_D\bDA\bAT\bTE\bE\r\n",
      "           The date used for the committer identity when creating commit or\r\n",
      "           tag objects, or when writing reflogs. See g\bgi\bit\bt-\b-c\bco\bom\bmm\bmi\bit\bt(1) for valid\r\n",
      "           formats.\r\n",
      "\r\n",
      "       E\bEM\bMA\bAI\bIL\bL\r\n",
      "           The email address used in the author and committer identities if no\r\n",
      "           other relevant environment variable or configuration setting has\r\n",
      "           been set.\r\n",
      "\r\n",
      "   G\bGi\bit\bt D\bDi\bif\bff\bfs\bs\r\n",
      "       G\bGI\bIT\bT_\b_D\bDI\bIF\bFF\bF_\b_O\bOP\bPT\bTS\bS\r\n",
      "           Only valid setting is \"--unified=??\" or \"-u??\" to set the number of\r\n",
      "           context lines shown when a unified diff is created. This takes\r\n",
      "           precedence over any \"-U\" or \"--unified\" option value passed on the\r\n",
      "           Git diff command line.\r\n",
      "\r\n",
      "       G\bGI\bIT\bT_\b_E\bEX\bXT\bTE\bER\bRN\bNA\bAL\bL_\b_D\bDI\bIF\bFF\bF\r\n",
      "           When the environment variable G\bGI\bIT\bT_\b_E\bEX\bXT\bTE\bER\bRN\bNA\bAL\bL_\b_D\bDI\bIF\bFF\bF is set, the program\r\n",
      "           named by it is called to generate diffs, and Git does not use its\r\n",
      "           builtin diff machinery. For a path that is added, removed, or\r\n",
      "           modified, G\bGI\bIT\bT_\b_E\bEX\bXT\bTE\bER\bRN\bNA\bAL\bL_\b_D\bDI\bIF\bFF\bF is called with 7 parameters:\r\n",
      "\r\n",
      "               path old-file old-hex old-mode new-file new-hex new-mode\r\n",
      "\r\n",
      "           where:\r\n",
      "\r\n",
      "       <old|new>-file\r\n",
      "           are files GIT_EXTERNAL_DIFF can use to read the contents of\r\n",
      "           <old|new>,\r\n",
      "\r\n",
      "       <old|new>-hex\r\n",
      "           are the 40-hexdigit SHA-1 hashes,\r\n",
      "\r\n",
      "       <old|new>-mode\r\n",
      "           are the octal representation of the file modes.\r\n",
      "\r\n",
      "           The file parameters can point at the user’s working file (e.g.\r\n",
      "           n\bne\bew\bw-\b-f\bfi\bil\ble\be in \"git-diff-files\"), /\b/d\bde\bev\bv/\b/n\bnu\bul\bll\bl (e.g.  o\bol\bld\bd-\b-f\bfi\bil\ble\be when a new\r\n",
      "           file is added), or a temporary file (e.g.  o\bol\bld\bd-\b-f\bfi\bil\ble\be in the index).\r\n",
      "           G\bGI\bIT\bT_\b_E\bEX\bXT\bTE\bER\bRN\bNA\bAL\bL_\b_D\bDI\bIF\bFF\bF should not worry about unlinking the temporary\r\n",
      "           file --- it is removed when G\bGI\bIT\bT_\b_E\bEX\bXT\bTE\bER\bRN\bNA\bAL\bL_\b_D\bDI\bIF\bFF\bF exits.\r\n",
      "\r\n",
      "           For a path that is unmerged, G\bGI\bIT\bT_\b_E\bEX\bXT\bTE\bER\bRN\bNA\bAL\bL_\b_D\bDI\bIF\bFF\bF is called with 1\r\n",
      "           parameter, <path>.\r\n",
      "\r\n",
      "           For each path G\bGI\bIT\bT_\b_E\bEX\bXT\bTE\bER\bRN\bNA\bAL\bL_\b_D\bDI\bIF\bFF\bF is called, two environment\r\n",
      "           variables, G\bGI\bIT\bT_\b_D\bDI\bIF\bFF\bF_\b_P\bPA\bAT\bTH\bH_\b_C\bCO\bOU\bUN\bNT\bTE\bER\bR and G\bGI\bIT\bT_\b_D\bDI\bIF\bFF\bF_\b_P\bPA\bAT\bTH\bH_\b_T\bTO\bOT\bTA\bAL\bL are set.\r\n",
      "\r\n",
      "       G\bGI\bIT\bT_\b_D\bDI\bIF\bFF\bF_\b_P\bPA\bAT\bTH\bH_\b_C\bCO\bOU\bUN\bNT\bTE\bER\bR\r\n",
      "           A 1-based counter incremented by one for every path.\r\n",
      "\r\n",
      "       G\bGI\bIT\bT_\b_D\bDI\bIF\bFF\bF_\b_P\bPA\bAT\bTH\bH_\b_T\bTO\bOT\bTA\bAL\bL\r\n",
      "           The total number of paths.\r\n",
      "\r\n",
      "   o\bot\bth\bhe\ber\br\r\n",
      "       G\bGI\bIT\bT_\b_M\bME\bER\bRG\bGE\bE_\b_V\bVE\bER\bRB\bBO\bOS\bSI\bIT\bTY\bY\r\n",
      "           A number controlling the amount of output shown by the recursive\r\n",
      "           merge strategy. Overrides merge.verbosity. See g\bgi\bit\bt-\b-m\bme\ber\brg\bge\be(1)\r\n",
      "\r\n",
      "       G\bGI\bIT\bT_\b_P\bPA\bAG\bGE\bER\bR\r\n",
      "           This environment variable overrides $\b$P\bPA\bAG\bGE\bER\bR. If it is set to an\r\n",
      "           empty string or to the value \"cat\", Git will not launch a pager.\r\n",
      "           See also the c\bco\bor\bre\be.\b.p\bpa\bag\bge\ber\br option in g\bgi\bit\bt-\b-c\bco\bon\bnf\bfi\big\bg(1).\r\n",
      "\r\n",
      "       G\bGI\bIT\bT_\b_P\bPR\bRO\bOG\bGR\bRE\bES\bSS\bS_\b_D\bDE\bEL\bLA\bAY\bY\r\n",
      "           A number controlling how many seconds to delay before showing\r\n",
      "           optional progress indicators. Defaults to 2.\r\n",
      "\r\n",
      "       G\bGI\bIT\bT_\b_E\bED\bDI\bIT\bTO\bOR\bR\r\n",
      "           This environment variable overrides $\b$E\bED\bDI\bIT\bTO\bOR\bR and $\b$V\bVI\bIS\bSU\bUA\bAL\bL. It is used\r\n",
      "           by several Git commands when, on interactive mode, an editor is to\r\n",
      "           be launched. See also g\bgi\bit\bt-\b-v\bva\bar\br(1) and the c\bco\bor\bre\be.\b.e\bed\bdi\bit\bto\bor\br option in g\bgi\bit\bt-\b-\r\n",
      "           c\bco\bon\bnf\bfi\big\bg(1).\r\n",
      "\r\n",
      "       G\bGI\bIT\bT_\b_S\bSE\bEQ\bQU\bUE\bEN\bNC\bCE\bE_\b_E\bED\bDI\bIT\bTO\bOR\bR\r\n",
      "           This environment variable overrides the configured Git editor when\r\n",
      "           editing the todo list of an interactive rebase. See also g\bgi\bit\bt-\b-\r\n",
      "           r\bre\beb\bba\bas\bse\be(1) and the s\bse\beq\bqu\bue\ben\bnc\bce\be.\b.e\bed\bdi\bit\bto\bor\br option in g\bgi\bit\bt-\b-c\bco\bon\bnf\bfi\big\bg(1).\r\n",
      "\r\n",
      "       G\bGI\bIT\bT_\b_S\bSS\bSH\bH, G\bGI\bIT\bT_\b_S\bSS\bSH\bH_\b_C\bCO\bOM\bMM\bMA\bAN\bND\bD\r\n",
      "           If either of these environment variables is set then _\bg_\bi_\bt _\bf_\be_\bt_\bc_\bh and\r\n",
      "           _\bg_\bi_\bt _\bp_\bu_\bs_\bh will use the specified command instead of _\bs_\bs_\bh when they\r\n",
      "           need to connect to a remote system. The command-line parameters\r\n",
      "           passed to the configured command are determined by the ssh variant.\r\n",
      "           See s\bss\bsh\bh.\b.v\bva\bar\bri\bia\ban\bnt\bt option in g\bgi\bit\bt-\b-c\bco\bon\bnf\bfi\big\bg(1) for details.\r\n",
      "\r\n",
      "           $\b$G\bGI\bIT\bT_\b_S\bSS\bSH\bH_\b_C\bCO\bOM\bMM\bMA\bAN\bND\bD takes precedence over $\b$G\bGI\bIT\bT_\b_S\bSS\bSH\bH, and is interpreted\r\n",
      "           by the shell, which allows additional arguments to be included.\r\n",
      "           $\b$G\bGI\bIT\bT_\b_S\bSS\bSH\bH on the other hand must be just the path to a program\r\n",
      "           (which can be a wrapper shell script, if additional arguments are\r\n",
      "           needed).\r\n",
      "\r\n",
      "           Usually it is easier to configure any desired options through your\r\n",
      "           personal .\b.s\bss\bsh\bh/\b/c\bco\bon\bnf\bfi\big\bg file. Please consult your ssh documentation\r\n",
      "           for further details.\r\n",
      "\r\n",
      "       G\bGI\bIT\bT_\b_S\bSS\bSH\bH_\b_V\bVA\bAR\bRI\bIA\bAN\bNT\bT\r\n",
      "           If this environment variable is set, it overrides Git’s\r\n",
      "           autodetection whether G\bGI\bIT\bT_\b_S\bSS\bSH\bH/G\bGI\bIT\bT_\b_S\bSS\bSH\bH_\b_C\bCO\bOM\bMM\bMA\bAN\bND\bD/c\bco\bor\bre\be.\b.s\bss\bsh\bhC\bCo\bom\bmm\bma\ban\bnd\bd refer\r\n",
      "           to OpenSSH, plink or tortoiseplink. This variable overrides the\r\n",
      "           config setting s\bss\bsh\bh.\b.v\bva\bar\bri\bia\ban\bnt\bt that serves the same purpose.\r\n",
      "\r\n",
      "       G\bGI\bIT\bT_\b_S\bSS\bSL\bL_\b_N\bNO\bO_\b_V\bVE\bER\bRI\bIF\bFY\bY\r\n",
      "           Setting and exporting this environment variable to any value tells\r\n",
      "           Git not to verify the SSL certificate when fetching or pushing over\r\n",
      "           HTTPS.\r\n",
      "\r\n",
      "       G\bGI\bIT\bT_\b_A\bAS\bSK\bKP\bPA\bAS\bSS\bS\r\n",
      "           If this environment variable is set, then Git commands which need\r\n",
      "           to acquire passwords or passphrases (e.g. for HTTP or IMAP\r\n",
      "           authentication) will call this program with a suitable prompt as\r\n",
      "           command-line argument and read the password from its STDOUT. See\r\n",
      "           also the c\bco\bor\bre\be.\b.a\bas\bsk\bkP\bPa\bas\bss\bs option in g\bgi\bit\bt-\b-c\bco\bon\bnf\bfi\big\bg(1).\r\n",
      "\r\n",
      "       G\bGI\bIT\bT_\b_T\bTE\bER\bRM\bMI\bIN\bNA\bAL\bL_\b_P\bPR\bRO\bOM\bMP\bPT\bT\r\n",
      "           If this Boolean environment variable is set to false, git will not\r\n",
      "           prompt on the terminal (e.g., when asking for HTTP authentication).\r\n",
      "\r\n",
      "       G\bGI\bIT\bT_\b_C\bCO\bON\bNF\bFI\bIG\bG_\b_G\bGL\bLO\bOB\bBA\bAL\bL, G\bGI\bIT\bT_\b_C\bCO\bON\bNF\bFI\bIG\bG_\b_S\bSY\bYS\bST\bTE\bEM\bM\r\n",
      "           Take the configuration from the given files instead from global or\r\n",
      "           system-level configuration files. If G\bGI\bIT\bT_\b_C\bCO\bON\bNF\bFI\bIG\bG_\b_S\bSY\bYS\bST\bTE\bEM\bM is set, the\r\n",
      "           system config file defined at build time (usually /\b/e\bet\btc\bc/\b/g\bgi\bit\btc\bco\bon\bnf\bfi\big\bg)\r\n",
      "           will not be read. Likewise, if G\bGI\bIT\bT_\b_C\bCO\bON\bNF\bFI\bIG\bG_\b_G\bGL\bLO\bOB\bBA\bAL\bL is set, neither\r\n",
      "           $\b$H\bHO\bOM\bME\bE/\b/.\b.g\bgi\bit\btc\bco\bon\bnf\bfi\big\bg nor $\b$X\bXD\bDG\bG_\b_C\bCO\bON\bNF\bFI\bIG\bG_\b_H\bHO\bOM\bME\bE/\b/g\bgi\bit\bt/\b/c\bco\bon\bnf\bfi\big\bg will be read. Can\r\n",
      "           be set to /\b/d\bde\bev\bv/\b/n\bnu\bul\bll\bl to skip reading configuration files of the\r\n",
      "           respective level.\r\n",
      "\r\n",
      "       G\bGI\bIT\bT_\b_C\bCO\bON\bNF\bFI\bIG\bG_\b_N\bNO\bOS\bSY\bYS\bST\bTE\bEM\bM\r\n",
      "           Whether to skip reading settings from the system-wide\r\n",
      "           $\b$(\b(p\bpr\bre\bef\bfi\bix\bx)\b)/\b/e\bet\btc\bc/\b/g\bgi\bit\btc\bco\bon\bnf\bfi\big\bg file. This Boolean environment variable can\r\n",
      "           be used along with $\b$H\bHO\bOM\bME\bE and $\b$X\bXD\bDG\bG_\b_C\bCO\bON\bNF\bFI\bIG\bG_\b_H\bHO\bOM\bME\bE to create a\r\n",
      "           predictable environment for a picky script, or you can set it to\r\n",
      "           true to temporarily avoid using a buggy /\b/e\bet\btc\bc/\b/g\bgi\bit\btc\bco\bon\bnf\bfi\big\bg file while\r\n",
      "           waiting for someone with sufficient permissions to fix it.\r\n",
      "\r\n",
      "       G\bGI\bIT\bT_\b_F\bFL\bLU\bUS\bSH\bH\r\n",
      "           If this environment variable is set to \"1\", then commands such as\r\n",
      "           _\bg_\bi_\bt _\bb_\bl_\ba_\bm_\be (in incremental mode), _\bg_\bi_\bt _\br_\be_\bv_\b-_\bl_\bi_\bs_\bt, _\bg_\bi_\bt _\bl_\bo_\bg, _\bg_\bi_\bt\r\n",
      "           _\bc_\bh_\be_\bc_\bk_\b-_\ba_\bt_\bt_\br and _\bg_\bi_\bt _\bc_\bh_\be_\bc_\bk_\b-_\bi_\bg_\bn_\bo_\br_\be will force a flush of the output\r\n",
      "           stream after each record have been flushed. If this variable is set\r\n",
      "           to \"0\", the output of these commands will be done using completely\r\n",
      "           buffered I/O. If this environment variable is not set, Git will\r\n",
      "           choose buffered or record-oriented flushing based on whether stdout\r\n",
      "           appears to be redirected to a file or not.\r\n",
      "\r\n",
      "       G\bGI\bIT\bT_\b_T\bTR\bRA\bAC\bCE\bE\r\n",
      "           Enables general trace messages, e.g. alias expansion, built-in\r\n",
      "           command execution and external command execution.\r\n",
      "\r\n",
      "           If this variable is set to \"1\", \"2\" or \"true\" (comparison is case\r\n",
      "           insensitive), trace messages will be printed to stderr.\r\n",
      "\r\n",
      "           If the variable is set to an integer value greater than 2 and lower\r\n",
      "           than 10 (strictly) then Git will interpret this value as an open\r\n",
      "           file descriptor and will try to write the trace messages into this\r\n",
      "           file descriptor.\r\n",
      "\r\n",
      "           Alternatively, if the variable is set to an absolute path (starting\r\n",
      "           with a _\b/ character), Git will interpret this as a file path and\r\n",
      "           will try to append the trace messages to it.\r\n",
      "\r\n",
      "           Unsetting the variable, or setting it to empty, \"0\" or \"false\"\r\n",
      "           (case insensitive) disables trace messages.\r\n",
      "\r\n",
      "       G\bGI\bIT\bT_\b_T\bTR\bRA\bAC\bCE\bE_\b_F\bFS\bSM\bMO\bON\bNI\bIT\bTO\bOR\bR\r\n",
      "           Enables trace messages for the filesystem monitor extension. See\r\n",
      "           G\bGI\bIT\bT_\b_T\bTR\bRA\bAC\bCE\bE for available trace output options.\r\n",
      "\r\n",
      "       G\bGI\bIT\bT_\b_T\bTR\bRA\bAC\bCE\bE_\b_P\bPA\bAC\bCK\bK_\b_A\bAC\bCC\bCE\bES\bSS\bS\r\n",
      "           Enables trace messages for all accesses to any packs. For each\r\n",
      "           access, the pack file name and an offset in the pack is recorded.\r\n",
      "           This may be helpful for troubleshooting some pack-related\r\n",
      "           performance problems. See G\bGI\bIT\bT_\b_T\bTR\bRA\bAC\bCE\bE for available trace output\r\n",
      "           options.\r\n",
      "\r\n",
      "       G\bGI\bIT\bT_\b_T\bTR\bRA\bAC\bCE\bE_\b_P\bPA\bAC\bCK\bKE\bET\bT\r\n",
      "           Enables trace messages for all packets coming in or out of a given\r\n",
      "           program. This can help with debugging object negotiation or other\r\n",
      "           protocol issues. Tracing is turned off at a packet starting with\r\n",
      "           \"PACK\" (but see G\bGI\bIT\bT_\b_T\bTR\bRA\bAC\bCE\bE_\b_P\bPA\bAC\bCK\bKF\bFI\bIL\bLE\bE below). See G\bGI\bIT\bT_\b_T\bTR\bRA\bAC\bCE\bE for\r\n",
      "           available trace output options.\r\n",
      "\r\n",
      "       G\bGI\bIT\bT_\b_T\bTR\bRA\bAC\bCE\bE_\b_P\bPA\bAC\bCK\bKF\bFI\bIL\bLE\bE\r\n",
      "           Enables tracing of packfiles sent or received by a given program.\r\n",
      "           Unlike other trace output, this trace is verbatim: no headers, and\r\n",
      "           no quoting of binary data. You almost certainly want to direct into\r\n",
      "           a file (e.g., G\bGI\bIT\bT_\b_T\bTR\bRA\bAC\bCE\bE_\b_P\bPA\bAC\bCK\bKF\bFI\bIL\bLE\bE=\b=/\b/t\btm\bmp\bp/\b/m\bmy\by.\b.p\bpa\bac\bck\bk) rather than\r\n",
      "           displaying it on the terminal or mixing it with other trace output.\r\n",
      "\r\n",
      "           Note that this is currently only implemented for the client side of\r\n",
      "           clones and fetches.\r\n",
      "\r\n",
      "       G\bGI\bIT\bT_\b_T\bTR\bRA\bAC\bCE\bE_\b_P\bPE\bER\bRF\bFO\bOR\bRM\bMA\bAN\bNC\bCE\bE\r\n",
      "           Enables performance related trace messages, e.g. total execution\r\n",
      "           time of each Git command. See G\bGI\bIT\bT_\b_T\bTR\bRA\bAC\bCE\bE for available trace output\r\n",
      "           options.\r\n",
      "\r\n",
      "       G\bGI\bIT\bT_\b_T\bTR\bRA\bAC\bCE\bE_\b_R\bRE\bEF\bFS\bS\r\n",
      "           Enables trace messages for operations on the ref database. See\r\n",
      "           G\bGI\bIT\bT_\b_T\bTR\bRA\bAC\bCE\bE for available trace output options.\r\n",
      "\r\n",
      "       G\bGI\bIT\bT_\b_T\bTR\bRA\bAC\bCE\bE_\b_S\bSE\bET\bTU\bUP\bP\r\n",
      "           Enables trace messages printing the .git, working tree and current\r\n",
      "           working directory after Git has completed its setup phase. See\r\n",
      "           G\bGI\bIT\bT_\b_T\bTR\bRA\bAC\bCE\bE for available trace output options.\r\n",
      "\r\n",
      "       G\bGI\bIT\bT_\b_T\bTR\bRA\bAC\bCE\bE_\b_S\bSH\bHA\bAL\bLL\bLO\bOW\bW\r\n",
      "           Enables trace messages that can help debugging fetching / cloning\r\n",
      "           of shallow repositories. See G\bGI\bIT\bT_\b_T\bTR\bRA\bAC\bCE\bE for available trace output\r\n",
      "           options.\r\n",
      "\r\n",
      "       G\bGI\bIT\bT_\b_T\bTR\bRA\bAC\bCE\bE_\b_C\bCU\bUR\bRL\bL\r\n",
      "           Enables a curl full trace dump of all incoming and outgoing data,\r\n",
      "           including descriptive information, of the git transport protocol.\r\n",
      "           This is similar to doing curl -\b--\b-t\btr\bra\bac\bce\be-\b-a\bas\bsc\bci\bii\bi on the command line.\r\n",
      "           See G\bGI\bIT\bT_\b_T\bTR\bRA\bAC\bCE\bE for available trace output options.\r\n",
      "\r\n",
      "       G\bGI\bIT\bT_\b_T\bTR\bRA\bAC\bCE\bE_\b_C\bCU\bUR\bRL\bL_\b_N\bNO\bO_\b_D\bDA\bAT\bTA\bA\r\n",
      "           When a curl trace is enabled (see G\bGI\bIT\bT_\b_T\bTR\bRA\bAC\bCE\bE_\b_C\bCU\bUR\bRL\bL above), do not\r\n",
      "           dump data (that is, only dump info lines and headers).\r\n",
      "\r\n",
      "       G\bGI\bIT\bT_\b_T\bTR\bRA\bAC\bCE\bE2\b2\r\n",
      "           Enables more detailed trace messages from the \"trace2\" library.\r\n",
      "           Output from G\bGI\bIT\bT_\b_T\bTR\bRA\bAC\bCE\bE2\b2 is a simple text-based format for human\r\n",
      "           readability.\r\n",
      "\r\n",
      "           If this variable is set to \"1\", \"2\" or \"true\" (comparison is case\r\n",
      "           insensitive), trace messages will be printed to stderr.\r\n",
      "\r\n",
      "           If the variable is set to an integer value greater than 2 and lower\r\n",
      "           than 10 (strictly) then Git will interpret this value as an open\r\n",
      "           file descriptor and will try to write the trace messages into this\r\n",
      "           file descriptor.\r\n",
      "\r\n",
      "           Alternatively, if the variable is set to an absolute path (starting\r\n",
      "           with a _\b/ character), Git will interpret this as a file path and\r\n",
      "           will try to append the trace messages to it. If the path already\r\n",
      "           exists and is a directory, the trace messages will be written to\r\n",
      "           files (one per process) in that directory, named according to the\r\n",
      "           last component of the SID and an optional counter (to avoid\r\n",
      "           filename collisions).\r\n",
      "\r\n",
      "           In addition, if the variable is set to\r\n",
      "           a\baf\bf_\b_u\bun\bni\bix\bx:\b:[\b[<\b<s\bso\boc\bck\bke\bet\bt_\b_t\bty\byp\bpe\be>\b>:\b:]\b]<\b<a\bab\bbs\bso\bol\blu\but\bte\be-\b-p\bpa\bat\bth\bhn\bna\bam\bme\be>\b>, Git will try to open\r\n",
      "           the path as a Unix Domain Socket. The socket type can be either\r\n",
      "           s\bst\btr\bre\bea\bam\bm or d\bdg\bgr\bra\bam\bm.\r\n",
      "\r\n",
      "           Unsetting the variable, or setting it to empty, \"0\" or \"false\"\r\n",
      "           (case insensitive) disables trace messages.\r\n",
      "\r\n",
      "           See T\bTr\bra\bac\bce\be2\b2 d\bdo\boc\bcu\bum\bme\ben\bnt\bta\bat\bti\bio\bon\bn[2] for full details.\r\n",
      "\r\n",
      "       G\bGI\bIT\bT_\b_T\bTR\bRA\bAC\bCE\bE2\b2_\b_E\bEV\bVE\bEN\bNT\bT\r\n",
      "           This setting writes a JSON-based format that is suited for machine\r\n",
      "           interpretation. See G\bGI\bIT\bT_\b_T\bTR\bRA\bAC\bCE\bE2\b2 for available trace output options\r\n",
      "           and T\bTr\bra\bac\bce\be2\b2 d\bdo\boc\bcu\bum\bme\ben\bnt\bta\bat\bti\bio\bon\bn[2] for full details.\r\n",
      "\r\n",
      "       G\bGI\bIT\bT_\b_T\bTR\bRA\bAC\bCE\bE2\b2_\b_P\bPE\bER\bRF\bF\r\n",
      "           In addition to the text-based messages available in G\bGI\bIT\bT_\b_T\bTR\bRA\bAC\bCE\bE2\b2,\r\n",
      "           this setting writes a column-based format for understanding nesting\r\n",
      "           regions. See G\bGI\bIT\bT_\b_T\bTR\bRA\bAC\bCE\bE2\b2 for available trace output options and\r\n",
      "           T\bTr\bra\bac\bce\be2\b2 d\bdo\boc\bcu\bum\bme\ben\bnt\bta\bat\bti\bio\bon\bn[2] for full details.\r\n",
      "\r\n",
      "       G\bGI\bIT\bT_\b_T\bTR\bRA\bAC\bCE\bE_\b_R\bRE\bED\bDA\bAC\bCT\bT\r\n",
      "           By default, when tracing is activated, Git redacts the values of\r\n",
      "           cookies, the \"Authorization:\" header, the \"Proxy-Authorization:\"\r\n",
      "           header and packfile URIs. Set this Boolean environment variable to\r\n",
      "           false to prevent this redaction.\r\n",
      "\r\n",
      "       G\bGI\bIT\bT_\b_L\bLI\bIT\bTE\bER\bRA\bAL\bL_\b_P\bPA\bAT\bTH\bHS\bSP\bPE\bEC\bCS\bS\r\n",
      "           Setting this Boolean environment variable to true will cause Git to\r\n",
      "           treat all pathspecs literally, rather than as glob patterns. For\r\n",
      "           example, running G\bGI\bIT\bT_\b_L\bLI\bIT\bTE\bER\bRA\bAL\bL_\b_P\bPA\bAT\bTH\bHS\bSP\bPE\bEC\bCS\bS=\b=1\b1 g\bgi\bit\bt l\blo\bog\bg -\b--\b- '\b'*\b*.\b.c\bc'\b' will\r\n",
      "           search for commits that touch the path *\b*.\b.c\bc, not any paths that the\r\n",
      "           glob *\b*.\b.c\bc matches. You might want this if you are feeding literal\r\n",
      "           paths to Git (e.g., paths previously given to you by g\bgi\bit\bt l\bls\bs-\b-t\btr\bre\bee\be,\r\n",
      "           -\b--\b-r\bra\baw\bw diff output, etc).\r\n",
      "\r\n",
      "       G\bGI\bIT\bT_\b_G\bGL\bLO\bOB\bB_\b_P\bPA\bAT\bTH\bHS\bSP\bPE\bEC\bCS\bS\r\n",
      "           Setting this Boolean environment variable to true will cause Git to\r\n",
      "           treat all pathspecs as glob patterns (aka \"glob\" magic).\r\n",
      "\r\n",
      "       G\bGI\bIT\bT_\b_N\bNO\bOG\bGL\bLO\bOB\bB_\b_P\bPA\bAT\bTH\bHS\bSP\bPE\bEC\bCS\bS\r\n",
      "           Setting this Boolean environment variable to true will cause Git to\r\n",
      "           treat all pathspecs as literal (aka \"literal\" magic).\r\n",
      "\r\n",
      "       G\bGI\bIT\bT_\b_I\bIC\bCA\bAS\bSE\bE_\b_P\bPA\bAT\bTH\bHS\bSP\bPE\bEC\bCS\bS\r\n",
      "           Setting this Boolean environment variable to true will cause Git to\r\n",
      "           treat all pathspecs as case-insensitive.\r\n",
      "\r\n",
      "       G\bGI\bIT\bT_\b_R\bRE\bEF\bFL\bLO\bOG\bG_\b_A\bAC\bCT\bTI\bIO\bON\bN\r\n",
      "           When a ref is updated, reflog entries are created to keep track of\r\n",
      "           the reason why the ref was updated (which is typically the name of\r\n",
      "           the high-level command that updated the ref), in addition to the\r\n",
      "           old and new values of the ref. A scripted Porcelain command can use\r\n",
      "           set_reflog_action helper function in g\bgi\bit\bt-\b-s\bsh\bh-\b-s\bse\bet\btu\bup\bp to set its name\r\n",
      "           to this variable when it is invoked as the top level command by the\r\n",
      "           end user, to be recorded in the body of the reflog.\r\n",
      "\r\n",
      "       G\bGI\bIT\bT_\b_R\bRE\bEF\bF_\b_P\bPA\bAR\bRA\bAN\bNO\bOI\bIA\bA\r\n",
      "           If this Boolean environment variable is set to false, ignore broken\r\n",
      "           or badly named refs when iterating over lists of refs. Normally Git\r\n",
      "           will try to include any such refs, which may cause some operations\r\n",
      "           to fail. This is usually preferable, as potentially destructive\r\n",
      "           operations (e.g., g\bgi\bit\bt-\b-p\bpr\bru\bun\bne\be(1)) are better off aborting rather than\r\n",
      "           ignoring broken refs (and thus considering the history they point\r\n",
      "           to as not worth saving). The default value is 1\b1 (i.e., be paranoid\r\n",
      "           about detecting and aborting all operations). You should not\r\n",
      "           normally need to set this to 0\b0, but it may be useful when trying to\r\n",
      "           salvage data from a corrupted repository.\r\n",
      "\r\n",
      "       G\bGI\bIT\bT_\b_A\bAL\bLL\bLO\bOW\bW_\b_P\bPR\bRO\bOT\bTO\bOC\bCO\bOL\bL\r\n",
      "           If set to a colon-separated list of protocols, behave as if\r\n",
      "           p\bpr\bro\bot\bto\boc\bco\bol\bl.\b.a\bal\bll\blo\bow\bw is set to n\bne\bev\bve\ber\br, and each of the listed protocols\r\n",
      "           has p\bpr\bro\bot\bto\boc\bco\bol\bl.\b.<\b<n\bna\bam\bme\be>\b>.\b.a\bal\bll\blo\bow\bw set to a\bal\blw\bwa\bay\bys\bs (overriding any existing\r\n",
      "           configuration). See the description of p\bpr\bro\bot\bto\boc\bco\bol\bl.\b.a\bal\bll\blo\bow\bw in g\bgi\bit\bt-\b-\r\n",
      "           c\bco\bon\bnf\bfi\big\bg(1) for more details.\r\n",
      "\r\n",
      "       G\bGI\bIT\bT_\b_P\bPR\bRO\bOT\bTO\bOC\bCO\bOL\bL_\b_F\bFR\bRO\bOM\bM_\b_U\bUS\bSE\bER\bR\r\n",
      "           Set this Boolean environment variable to false to prevent protocols\r\n",
      "           used by fetch/push/clone which are configured to the u\bus\bse\ber\br state.\r\n",
      "           This is useful to restrict recursive submodule initialization from\r\n",
      "           an untrusted repository or for programs which feed\r\n",
      "           potentially-untrusted URLS to git commands. See g\bgi\bit\bt-\b-c\bco\bon\bnf\bfi\big\bg(1) for\r\n",
      "           more details.\r\n",
      "\r\n",
      "       G\bGI\bIT\bT_\b_P\bPR\bRO\bOT\bTO\bOC\bCO\bOL\bL\r\n",
      "           For internal use only. Used in handshaking the wire protocol.\r\n",
      "           Contains a colon _\b: separated list of keys with optional values\r\n",
      "           _\bk_\be_\by_\b[_\b=_\bv_\ba_\bl_\bu_\be_\b]. Presence of unknown keys and values must be ignored.\r\n",
      "\r\n",
      "           Note that servers may need to be configured to allow this variable\r\n",
      "           to pass over some transports. It will be propagated automatically\r\n",
      "           when accessing local repositories (i.e., f\bfi\bil\ble\be:\b:/\b//\b/ or a filesystem\r\n",
      "           path), as well as over the g\bgi\bit\bt:\b:/\b//\b/ protocol. For git-over-http, it\r\n",
      "           should work automatically in most configurations, but see the\r\n",
      "           discussion in g\bgi\bit\bt-\b-h\bht\btt\btp\bp-\b-b\bba\bac\bck\bke\ben\bnd\bd(1). For git-over-ssh, the ssh server\r\n",
      "           may need to be configured to allow clients to pass this variable\r\n",
      "           (e.g., by using A\bAc\bcc\bce\bep\bpt\btE\bEn\bnv\bv G\bGI\bIT\bT_\b_P\bPR\bRO\bOT\bTO\bOC\bCO\bOL\bL with OpenSSH).\r\n",
      "\r\n",
      "           This configuration is optional. If the variable is not propagated,\r\n",
      "           then clients will fall back to the original \"v0\" protocol (but may\r\n",
      "           miss out on some performance improvements or features). This\r\n",
      "           variable currently only affects clones and fetches; it is not yet\r\n",
      "           used for pushes (but may be in the future).\r\n",
      "\r\n",
      "       G\bGI\bIT\bT_\b_O\bOP\bPT\bTI\bIO\bON\bNA\bAL\bL_\b_L\bLO\bOC\bCK\bKS\bS\r\n",
      "           If this Boolean environment variable is set to false, Git will\r\n",
      "           complete any requested operation without performing any optional\r\n",
      "           sub-operations that require taking a lock. For example, this will\r\n",
      "           prevent g\bgi\bit\bt s\bst\bta\bat\btu\bus\bs from refreshing the index as a side effect. This\r\n",
      "           is useful for processes running in the background which do not want\r\n",
      "           to cause lock contention with other operations on the repository.\r\n",
      "           Defaults to 1\b1.\r\n",
      "\r\n",
      "       G\bGI\bIT\bT_\b_R\bRE\bED\bDI\bIR\bRE\bEC\bCT\bT_\b_S\bST\bTD\bDI\bIN\bN, G\bGI\bIT\bT_\b_R\bRE\bED\bDI\bIR\bRE\bEC\bCT\bT_\b_S\bST\bTD\bDO\bOU\bUT\bT, G\bGI\bIT\bT_\b_R\bRE\bED\bDI\bIR\bRE\bEC\bCT\bT_\b_S\bST\bTD\bDE\bER\bRR\bR\r\n",
      "           Windows-only: allow redirecting the standard input/output/error\r\n",
      "           handles to paths specified by the environment variables. This is\r\n",
      "           particularly useful in multi-threaded applications where the\r\n",
      "           canonical way to pass standard handles via C\bCr\bre\bea\bat\bte\beP\bPr\bro\boc\bce\bes\bss\bs(\b()\b) is not\r\n",
      "           an option because it would require the handles to be marked\r\n",
      "           inheritable (and consequently e\bev\bve\ber\bry\by spawned process would inherit\r\n",
      "           them, possibly blocking regular Git operations). The primary\r\n",
      "           intended use case is to use named pipes for communication (e.g.\r\n",
      "           \\\b\\\\\b\\.\b.\\\b\\p\bpi\bip\bpe\be\\\b\\m\bmy\by-\b-g\bgi\bit\bt-\b-s\bst\btd\bdi\bin\bn-\b-1\b12\b23\b3).\r\n",
      "\r\n",
      "           Two special values are supported: o\bof\bff\bf will simply close the\r\n",
      "           corresponding standard handle, and if G\bGI\bIT\bT_\b_R\bRE\bED\bDI\bIR\bRE\bEC\bCT\bT_\b_S\bST\bTD\bDE\bER\bRR\bR is 2\b2>\b>&\b&1\b1,\r\n",
      "           standard error will be redirected to the same handle as standard\r\n",
      "           output.\r\n",
      "\r\n",
      "       G\bGI\bIT\bT_\b_P\bPR\bRI\bIN\bNT\bT_\b_S\bSH\bHA\bA1\b1_\b_E\bEL\bLL\bLI\bIP\bPS\bSI\bIS\bS (deprecated)\r\n",
      "           If set to y\bye\bes\bs, print an ellipsis following an (abbreviated) SHA-1\r\n",
      "           value. This affects indications of detached HEADs (g\bgi\bit\bt-\b-c\bch\bhe\bec\bck\bko\bou\but\bt(1))\r\n",
      "           and the raw diff output (g\bgi\bit\bt-\b-d\bdi\bif\bff\bf(1)). Printing an ellipsis in the\r\n",
      "           cases mentioned is no longer considered adequate and support for it\r\n",
      "           is likely to be removed in the foreseeable future (along with the\r\n",
      "           variable).\r\n",
      "\r\n",
      "D\bDI\bIS\bSC\bCU\bUS\bSS\bSI\bIO\bON\bN\r\n",
      "       More detail on the following is available from the G\bGi\bit\bt c\bco\bon\bnc\bce\bep\bpt\bts\bs c\bch\bha\bap\bpt\bte\ber\br\r\n",
      "       o\bof\bf t\bth\bhe\be u\bus\bse\ber\br-\b-m\bma\ban\bnu\bua\bal\bl[3] and g\bgi\bit\btc\bco\bor\bre\be-\b-t\btu\but\bto\bor\bri\bia\bal\bl(7).\r\n",
      "\r\n",
      "       A Git project normally consists of a working directory with a \".git\"\r\n",
      "       subdirectory at the top level. The .git directory contains, among other\r\n",
      "       things, a compressed object database representing the complete history\r\n",
      "       of the project, an \"index\" file which links that history to the current\r\n",
      "       contents of the working tree, and named pointers into that history such\r\n",
      "       as tags and branch heads.\r\n",
      "\r\n",
      "       The object database contains objects of three main types: blobs, which\r\n",
      "       hold file data; trees, which point to blobs and other trees to build up\r\n",
      "       directory hierarchies; and commits, which each reference a single tree\r\n",
      "       and some number of parent commits.\r\n",
      "\r\n",
      "       The commit, equivalent to what other systems call a \"changeset\" or\r\n",
      "       \"version\", represents a step in the project’s history, and each parent\r\n",
      "       represents an immediately preceding step. Commits with more than one\r\n",
      "       parent represent merges of independent lines of development.\r\n",
      "\r\n",
      "       All objects are named by the SHA-1 hash of their contents, normally\r\n",
      "       written as a string of 40 hex digits. Such names are globally unique.\r\n",
      "       The entire history leading up to a commit can be vouched for by signing\r\n",
      "       just that commit. A fourth object type, the tag, is provided for this\r\n",
      "       purpose.\r\n",
      "\r\n",
      "       When first created, objects are stored in individual files, but for\r\n",
      "       efficiency may later be compressed together into \"pack files\".\r\n",
      "\r\n",
      "       Named pointers called refs mark interesting points in history. A ref\r\n",
      "       may contain the SHA-1 name of an object or the name of another ref.\r\n",
      "       Refs with names beginning r\bre\bef\bf/\b/h\bhe\bea\bad\bd/\b/ contain the SHA-1 name of the most\r\n",
      "       recent commit (or \"head\") of a branch under development. SHA-1 names of\r\n",
      "       tags of interest are stored under r\bre\bef\bf/\b/t\bta\bag\bgs\bs/\b/. A special ref named H\bHE\bEA\bAD\bD\r\n",
      "       contains the name of the currently checked-out branch.\r\n",
      "\r\n",
      "       The index file is initialized with a list of all paths and, for each\r\n",
      "       path, a blob object and a set of attributes. The blob object represents\r\n",
      "       the contents of the file as of the head of the current branch. The\r\n",
      "       attributes (last modified time, size, etc.) are taken from the\r\n",
      "       corresponding file in the working tree. Subsequent changes to the\r\n",
      "       working tree can be found by comparing these attributes. The index may\r\n",
      "       be updated with new content, and new commits may be created from the\r\n",
      "       content stored in the index.\r\n",
      "\r\n",
      "       The index is also capable of storing multiple entries (called \"stages\")\r\n",
      "       for a given pathname. These stages are used to hold the various\r\n",
      "       unmerged version of a file when a merge is in progress.\r\n",
      "\r\n",
      "S\bSE\bEC\bCU\bUR\bRI\bIT\bTY\bY\r\n",
      "       Some configuration options and hook files may cause Git to run\r\n",
      "       arbitrary shell commands. Because configuration and hooks are not\r\n",
      "       copied using g\bgi\bit\bt c\bcl\blo\bon\bne\be, it is generally safe to clone remote\r\n",
      "       repositories with untrusted content, inspect them with g\bgi\bit\bt l\blo\bog\bg, and so\r\n",
      "       on.\r\n",
      "\r\n",
      "       However, it is not safe to run Git commands in a .\b.g\bgi\bit\bt directory (or the\r\n",
      "       working tree that surrounds it) when that .\b.g\bgi\bit\bt directory itself comes\r\n",
      "       from an untrusted source. The commands in its config and hooks are\r\n",
      "       executed in the usual way.\r\n",
      "\r\n",
      "       By default, Git will refuse to run when the repository is owned by\r\n",
      "       someone other than the user running the command. See the entry for\r\n",
      "       s\bsa\baf\bfe\be.\b.d\bdi\bir\bre\bec\bct\bto\bor\bry\by in g\bgi\bit\bt-\b-c\bco\bon\bnf\bfi\big\bg(1). While this can help protect you in a\r\n",
      "       multi-user environment, note that you can also acquire untrusted\r\n",
      "       repositories that are owned by you (for example, if you extract a zip\r\n",
      "       file or tarball from an untrusted source). In such cases, you’d need to\r\n",
      "       \"sanitize\" the untrusted repository first.\r\n",
      "\r\n",
      "       If you have an untrusted .\b.g\bgi\bit\bt directory, you should first clone it with\r\n",
      "       g\bgi\bit\bt c\bcl\blo\bon\bne\be -\b--\b-n\bno\bo-\b-l\blo\boc\bca\bal\bl to obtain a clean copy. Git does restrict the set\r\n",
      "       of options and hooks that will be run by u\bup\bpl\blo\boa\bad\bd-\b-p\bpa\bac\bck\bk, which handles the\r\n",
      "       server side of a clone or fetch, but beware that the surface area for\r\n",
      "       attack against u\bup\bpl\blo\boa\bad\bd-\b-p\bpa\bac\bck\bk is large, so this does carry some risk. The\r\n",
      "       safest thing is to serve the repository as an unprivileged user (either\r\n",
      "       via g\bgi\bit\bt-\b-d\bda\bae\bem\bmo\bon\bn(1), ssh, or using other tools to change user ids). See\r\n",
      "       the discussion in the S\bSE\bEC\bCU\bUR\bRI\bIT\bTY\bY section of g\bgi\bit\bt-\b-u\bup\bpl\blo\boa\bad\bd-\b-p\bpa\bac\bck\bk(1).\r\n",
      "\r\n",
      "F\bFU\bUR\bRT\bTH\bHE\bER\bR D\bDO\bOC\bCU\bUM\bME\bEN\bNT\bTA\bAT\bTI\bIO\bON\bN\r\n",
      "       See the references in the \"description\" section to get started using\r\n",
      "       Git. The following is probably more detail than necessary for a\r\n",
      "       first-time user.\r\n",
      "\r\n",
      "       The G\bGi\bit\bt c\bco\bon\bnc\bce\bep\bpt\bts\bs c\bch\bha\bap\bpt\bte\ber\br o\bof\bf t\bth\bhe\be u\bus\bse\ber\br-\b-m\bma\ban\bnu\bua\bal\bl[3] and g\bgi\bit\btc\bco\bor\bre\be-\b-t\btu\but\bto\bor\bri\bia\bal\bl(7)\r\n",
      "       both provide introductions to the underlying Git architecture.\r\n",
      "\r\n",
      "       See g\bgi\bit\btw\bwo\bor\brk\bkf\bfl\blo\bow\bws\bs(7) for an overview of recommended workflows.\r\n",
      "\r\n",
      "       See also the h\bho\bow\bwt\bto\bo[4] documents for some useful examples.\r\n",
      "\r\n",
      "       The internals are documented in the G\bGi\bit\bt A\bAP\bPI\bI d\bdo\boc\bcu\bum\bme\ben\bnt\bta\bat\bti\bio\bon\bn[5].\r\n",
      "\r\n",
      "       Users migrating from CVS may also want to read g\bgi\bit\btc\bcv\bvs\bs-\b-m\bmi\big\bgr\bra\bat\bti\bio\bon\bn(7).\r\n",
      "\r\n",
      "A\bAU\bUT\bTH\bHO\bOR\bRS\bS\r\n",
      "       Git was started by Linus Torvalds, and is currently maintained by Junio\r\n",
      "       C Hamano. Numerous contributions have come from the Git mailing list\r\n",
      "       <g\bgi\bit\bt@\b@v\bvg\bge\ber\br.\b.k\bke\ber\brn\bne\bel\bl.\b.o\bor\brg\bg[6]>.\r\n",
      "       h\bht\btt\btp\bp:\b:/\b//\b/w\bww\bww\bw.\b.o\bop\bpe\ben\bnh\bhu\bub\bb.\b.n\bne\bet\bt/\b/p\bp/\b/g\bgi\bit\bt/\b/c\bco\bon\bnt\btr\bri\bib\bbu\but\bto\bor\brs\bs/\b/s\bsu\bum\bmm\bma\bar\bry\by gives you a more\r\n",
      "       complete list of contributors.\r\n",
      "\r\n",
      "       If you have a clone of git.git itself, the output of g\bgi\bit\bt-\b-s\bsh\bho\bor\brt\btl\blo\bog\bg(1)\r\n",
      "       and g\bgi\bit\bt-\b-b\bbl\bla\bam\bme\be(1) can show you the authors for specific parts of the\r\n",
      "       project.\r\n",
      "\r\n",
      "R\bRE\bEP\bPO\bOR\bRT\bTI\bIN\bNG\bG B\bBU\bUG\bGS\bS\r\n",
      "       Report bugs to the Git mailing list <g\bgi\bit\bt@\b@v\bvg\bge\ber\br.\b.k\bke\ber\brn\bne\bel\bl.\b.o\bor\brg\bg[6]> where the\r\n",
      "       development and maintenance is primarily done. You do not have to be\r\n",
      "       subscribed to the list to send a message there. See the list archive at\r\n",
      "       h\bht\btt\btp\bps\bs:\b:/\b//\b/l\blo\bor\bre\be.\b.k\bke\ber\brn\bne\bel\bl.\b.o\bor\brg\bg/\b/g\bgi\bit\bt for previous bug reports and other\r\n",
      "       discussions.\r\n",
      "\r\n",
      "       Issues which are security relevant should be disclosed privately to the\r\n",
      "       Git Security mailing list <g\bgi\bit\bt-\b-s\bse\bec\bcu\bur\bri\bit\bty\by@\b@g\bgo\boo\bog\bgl\ble\beg\bgr\bro\bou\bup\bps\bs.\b.c\bco\bom\bm[7]>.\r\n",
      "\r\n",
      "S\bSE\bEE\bE A\bAL\bLS\bSO\bO\r\n",
      "       g\bgi\bit\btt\btu\but\bto\bor\bri\bia\bal\bl(7), g\bgi\bit\btt\btu\but\bto\bor\bri\bia\bal\bl-\b-2\b2(7), g\bgi\bit\bte\bev\bve\ber\bry\byd\bda\bay\by(7), g\bgi\bit\btc\bcv\bvs\bs-\b-m\bmi\big\bgr\bra\bat\bti\bio\bon\bn(7),\r\n",
      "       g\bgi\bit\btg\bgl\blo\bos\bss\bsa\bar\bry\by(7), g\bgi\bit\btc\bco\bor\bre\be-\b-t\btu\but\bto\bor\bri\bia\bal\bl(7), g\bgi\bit\btc\bcl\bli\bi(7), T\bTh\bhe\be G\bGi\bit\bt U\bUs\bse\ber\br’\b’s\bs\r\n",
      "       M\bMa\ban\bnu\bua\bal\bl[1], g\bgi\bit\btw\bwo\bor\brk\bkf\bfl\blo\bow\bws\bs(7)\r\n",
      "\r\n",
      "G\bGI\bIT\bT\r\n",
      "       Part of the g\bgi\bit\bt(1) suite\r\n",
      "\r\n",
      "N\bNO\bOT\bTE\bES\bS\r\n",
      "        1. Git User’s Manual\r\n",
      "           file:///usr/share/doc/git/html/user-manual.html\r\n",
      "\r\n",
      "        2. Trace2 documentation\r\n",
      "           file:///usr/share/doc/git/html/technical/api-trace2.html\r\n",
      "\r\n",
      "        3. Git concepts chapter of the user-manual\r\n",
      "           file:///usr/share/doc/git/html/user-manual.html#git-concepts\r\n",
      "\r\n",
      "        4. howto\r\n",
      "           file:///usr/share/doc/git/html/howto-index.html\r\n",
      "\r\n",
      "        5. Git API documentation\r\n",
      "           file:///usr/share/doc/git/html/technical/api-index.html\r\n",
      "\r\n",
      "        6. git@vger.kernel.org\r\n",
      "           mailto:git@vger.kernel.org\r\n",
      "\r\n",
      "        7. git-security@googlegroups.com\r\n",
      "           mailto:git-security@googlegroups.com\r\n",
      "\r\n",
      "Git 2.39.5                        06/16/2024                            GIT(1)\r\n"
     ]
    }
   ],
   "source": [
    "!man git"
   ]
  },
  {
   "cell_type": "markdown",
   "metadata": {
    "id": "fee39700"
   },
   "source": [
    "To exit the manual page, type `q`.\n",
    "\n",
    "Let's see what happens when we type :\n",
    "\n",
    "```bash\n",
    "$ git --help\n",
    "```\n",
    "\n",
    "Excellent, it gives a list of commands it is able to help with, as well as their descriptions.\n",
    "\n",
    "```bash\n",
    "$  git help <command>' for more information on a specific command.\n",
    "```"
   ]
  },
  {
   "cell_type": "code",
   "execution_count": 7,
   "metadata": {},
   "outputs": [
    {
     "name": "stdout",
     "output_type": "stream",
     "text": [
      "unknown option: -help\n",
      "usage: git [-v | --version] [-h | --help] [-C <path>] [-c <name>=<value>]\n",
      "           [--exec-path[=<path>]] [--html-path] [--man-path] [--info-path]\n",
      "           [-p | --paginate | -P | --no-pager] [--no-replace-objects] [--bare]\n",
      "           [--git-dir=<path>] [--work-tree=<path>] [--namespace=<name>]\n",
      "           [--super-prefix=<path>] [--config-env=<name>=<envvar>]\n",
      "           <command> [<args>]\n",
      "git version 2.39.5\n"
     ]
    }
   ],
   "source": [
    "!git -help\n",
    "!git -v"
   ]
  },
  {
   "cell_type": "markdown",
   "metadata": {
    "id": "da6e3f66"
   },
   "source": [
    "## git config : Controls the behavior of git\n",
    "A few settings are in order. You don't have to do it now but it is recommanded.\n",
    "\n",
    "```bash\n",
    "$ git config --global user.name \"YOUR NAME\"\n",
    "$ git config --global user.email \"YOUR EMAIL\"\n",
    "```     "
   ]
  },
  {
   "cell_type": "code",
   "execution_count": 8,
   "metadata": {},
   "outputs": [],
   "source": [
    "!git config --global user.name \"willy.andriambolamanana\""
   ]
  },
  {
   "cell_type": "code",
   "execution_count": 9,
   "metadata": {},
   "outputs": [],
   "source": [
    "!git config --global user.email \"willy.andriambolamanana@aims.ac.rw\""
   ]
  },
  {
   "cell_type": "markdown",
   "metadata": {
    "id": "1b56ee4f"
   },
   "source": [
    "## git init : Creating a Local Repository\n",
    "\n",
    "To keep track of numerous versions of your work without saving numerous\n",
    "copies, you can make a local repository for it on your computer. What git\n",
    "does is to save the first version, then for each subsequent version it\n",
    "saves only the changes. This is the trick, git only records the difference between\n",
    "the new version and the one before it. With this compact information,\n",
    "git is able to recreate any version on demand by adding the changes to\n",
    "the original in order up to the version of interest.\n",
    "\n",
    "To create your own local (on your own machine) repository, you must\n",
    "initialize the repository with the infrastructure git needs in order to\n",
    "keep a record of things within the repository that you're concerned\n",
    "about. The command to do this is **git init** ."
   ]
  },
  {
   "cell_type": "code",
   "execution_count": 10,
   "metadata": {},
   "outputs": [
    {
     "name": "stdout",
     "output_type": "stream",
     "text": [
      "\u001b[33mhint: Using 'master' as the name for the initial branch. This default branch name\u001b[m\r\n",
      "\u001b[33mhint: is subject to change. To configure the initial branch name to use in all\u001b[m\r\n",
      "\u001b[33mhint: of your new repositories, which will suppress this warning, call:\u001b[m\r\n",
      "\u001b[33mhint: \u001b[m\r\n",
      "\u001b[33mhint: \tgit config --global init.defaultBranch <name>\u001b[m\r\n",
      "\u001b[33mhint: \u001b[m\r\n",
      "\u001b[33mhint: Names commonly chosen instead of 'master' are 'main', 'trunk' and\u001b[m\r\n",
      "\u001b[33mhint: 'development'. The just-created branch can be renamed via this command:\u001b[m\r\n",
      "\u001b[33mhint: \u001b[m\r\n",
      "\u001b[33mhint: \tgit branch -m <name>\u001b[m\r\n",
      "Initialized empty Git repository in /home/arison/Downloads/.git/\r\n"
     ]
    }
   ],
   "source": [
    "!git init"
   ]
  },
  {
   "cell_type": "markdown",
   "metadata": {
    "id": "884dc97c"
   },
   "source": [
    "* * * * \n",
    "### Practical : Create a Local Repository\n",
    "\n",
    "Step 1 : Initialize your repository. Navigate to `/home`\n",
    "\n",
    "```bash\n",
    "$ cd\n",
    "$ mkdir simplestats\n",
    "$ cd simplestats\n",
    "$ git init\n",
    "Initialized empty Git repository in /home/me/simplestats/.git/\n",
    "```\n"
   ]
  },
  {
   "cell_type": "code",
   "execution_count": 1,
   "metadata": {},
   "outputs": [
    {
     "name": "stdout",
     "output_type": "stream",
     "text": [
      "/home/arison\n"
     ]
    }
   ],
   "source": [
    "cd "
   ]
  },
  {
   "cell_type": "code",
   "execution_count": 2,
   "metadata": {},
   "outputs": [],
   "source": [
    "!mkdir simple_project"
   ]
  },
  {
   "cell_type": "code",
   "execution_count": 4,
   "metadata": {},
   "outputs": [
    {
     "name": "stdout",
     "output_type": "stream",
     "text": [
      "\u001b[0m\u001b[01;34m'AIMS COURSE'\u001b[0m/   \u001b[01;34mDownloads\u001b[0m/   \u001b[01;34mPictures\u001b[0m/        \u001b[01;34mR\u001b[0m/                \u001b[01;34mVideos\u001b[0m/\r\n",
      " \u001b[01;34mDesktop\u001b[0m/        \u001b[01;34mMusic\u001b[0m/       \u001b[01;34mPublic\u001b[0m/          \u001b[01;34msimple_project\u001b[0m/   \u001b[01;34mvisa\u001b[0m/\r\n",
      " \u001b[01;34mDocuments\u001b[0m/      \u001b[01;34mpackage\u001b[0m/     \u001b[01;34mPython-3.12.6\u001b[0m/   \u001b[01;34mTemplates\u001b[0m/\r\n"
     ]
    }
   ],
   "source": [
    "ls"
   ]
  },
  {
   "cell_type": "code",
   "execution_count": 2,
   "metadata": {},
   "outputs": [
    {
     "name": "stdout",
     "output_type": "stream",
     "text": [
      "/home/arison/simple_project\n"
     ]
    }
   ],
   "source": [
    "cd simple_project/"
   ]
  },
  {
   "cell_type": "code",
   "execution_count": 10,
   "metadata": {},
   "outputs": [
    {
     "name": "stdout",
     "output_type": "stream",
     "text": [
      "Reinitialized existing Git repository in /home/arison/simple_project/.git/\r\n"
     ]
    }
   ],
   "source": [
    "!git init"
   ]
  },
  {
   "cell_type": "markdown",
   "metadata": {},
   "source": [
    "Step 2 : Browse the directory's hidden files to see what happened here.\n",
    "Open directories, browse file contents. Learn what you can in a minute.\n",
    "\n",
    "```bash\n",
    "$ ls -A .git\n",
    "$ cd .git\n",
    "$ ls -A\n",
    "HEAD        config      description hooks       info        objects     refs      branches\n",
    "```\n",
    "\n"
   ]
  },
  {
   "cell_type": "code",
   "execution_count": 26,
   "metadata": {},
   "outputs": [
    {
     "name": "stdout",
     "output_type": "stream",
     "text": [
      "\u001b[0m\u001b[01;34mbranches\u001b[0m/  config  description  HEAD  \u001b[01;34mhooks\u001b[0m/  \u001b[01;34minfo\u001b[0m/  \u001b[01;34mobjects\u001b[0m/  \u001b[01;34mrefs\u001b[0m/\r\n"
     ]
    }
   ],
   "source": [
    "ls -A .git"
   ]
  },
  {
   "cell_type": "code",
   "execution_count": 27,
   "metadata": {},
   "outputs": [
    {
     "name": "stdout",
     "output_type": "stream",
     "text": [
      "/home/arison/simple_project/.git\n"
     ]
    }
   ],
   "source": [
    "cd .git"
   ]
  },
  {
   "cell_type": "code",
   "execution_count": 28,
   "metadata": {},
   "outputs": [
    {
     "name": "stdout",
     "output_type": "stream",
     "text": [
      "\u001b[0m\u001b[01;34mbranches\u001b[0m/  config  description  HEAD  \u001b[01;34mhooks\u001b[0m/  \u001b[01;34minfo\u001b[0m/  \u001b[01;34mobjects\u001b[0m/  \u001b[01;34mrefs\u001b[0m/\r\n"
     ]
    }
   ],
   "source": [
    "ls -A"
   ]
  },
  {
   "cell_type": "markdown",
   "metadata": {},
   "source": [
    "Step 3 : Use what you've learned. You may have noticed the file called description. You can describe your repository by opening the description file and replacing the text with a name for the repository.  We will be creating a module with some simple statistical methods, so mine will be called \"Some simple methods for statistical analysis\". You may call yours  anything you like.\n",
    "\n",
    "```bash\n",
    "$ nano description\n",
    "```"
   ]
  },
  {
   "cell_type": "code",
   "execution_count": 38,
   "metadata": {},
   "outputs": [
    {
     "name": "stdout",
     "output_type": "stream",
     "text": [
      "/bin/bash: line 1: gedit: command not found\r\n"
     ]
    }
   ],
   "source": [
    "!gedit description"
   ]
  },
  {
   "cell_type": "markdown",
   "metadata": {},
   "source": [
    "You can use `!tree` or `tree` to display the directory structure in a tree-like format"
   ]
  },
  {
   "cell_type": "code",
   "execution_count": 20,
   "metadata": {},
   "outputs": [
    {
     "name": "stdout",
     "output_type": "stream",
     "text": [
      "/home/arison/simple_project\n"
     ]
    }
   ],
   "source": [
    "cd .."
   ]
  },
  {
   "cell_type": "code",
   "execution_count": 24,
   "metadata": {},
   "outputs": [
    {
     "name": "stdout",
     "output_type": "stream",
     "text": [
      "/bin/bash: line 1: tree: command not found\r\n"
     ]
    }
   ],
   "source": [
    "!tree"
   ]
  },
  {
   "cell_type": "markdown",
   "metadata": {
    "id": "8-rwgD5HbIdj"
   },
   "source": [
    "* * *  *\n",
    "An interesting command I would like you to test is `git status`, I will describe it later but let's see what it displays now.\n",
    "```bash\n",
    "$ git status\n",
    "On branch master\n",
    "\n",
    "No commits yet\n",
    "\n",
    "nothing to commit (create/copy files and use \"git add\" to track)\n",
    "```\n",
    "\n",
    "* * *  *\n"
   ]
  },
  {
   "cell_type": "code",
   "execution_count": 25,
   "metadata": {},
   "outputs": [
    {
     "name": "stdout",
     "output_type": "stream",
     "text": [
      "On branch master\r\n",
      "\r\n",
      "No commits yet\r\n",
      "\r\n",
      "nothing to commit (create/copy files and use \"git add\" to track)\r\n"
     ]
    }
   ],
   "source": [
    "!git status"
   ]
  },
  {
   "cell_type": "markdown",
   "metadata": {
    "id": "bdcfca76"
   },
   "source": [
    "## git add : Adding a File To Version Control\n",
    "\n",
    "For the git repository to know which files within this directory you\n",
    "would like to keep track of, you must add them. First, you'll need to\n",
    "create one, then we'll learn the **git add** command."
   ]
  },
  {
   "cell_type": "markdown",
   "metadata": {
    "id": "a6f520a2"
   },
   "source": [
    "* * * * \n",
    "### Practical : Add a File to Your Local Repository\n",
    "\n",
    "Step 1 : Create a file to add to your repository.\n",
    "\n",
    "```bash\n",
    "$ touch README.md\n",
    "```\n",
    "\n"
   ]
  },
  {
   "cell_type": "code",
   "execution_count": 1,
   "metadata": {},
   "outputs": [
    {
     "name": "stdout",
     "output_type": "stream",
     "text": [
      "/home/arison\n"
     ]
    }
   ],
   "source": [
    "cd .."
   ]
  },
  {
   "cell_type": "code",
   "execution_count": 42,
   "metadata": {},
   "outputs": [],
   "source": [
    "!touch README.md"
   ]
  },
  {
   "cell_type": "code",
   "execution_count": 43,
   "metadata": {},
   "outputs": [
    {
     "name": "stdout",
     "output_type": "stream",
     "text": [
      "README.md\r\n"
     ]
    }
   ],
   "source": [
    "ls"
   ]
  },
  {
   "cell_type": "markdown",
   "metadata": {},
   "source": [
    "Step 2: Verify that git has seen the file.\n",
    "\n",
    "```bash\n",
    "$ git status\n",
    "# On branch master\n",
    "\n",
    "# No commits yet\n",
    "\n",
    "# Untracked files:\n",
    "#(use \"git add <file>...\" to include in what will be committed) README.md\n",
    "\n",
    "# nothing added to commit but untracked files present (use \"git add\" to track)\n",
    "```\n"
   ]
  },
  {
   "cell_type": "code",
   "execution_count": 44,
   "metadata": {},
   "outputs": [
    {
     "name": "stdout",
     "output_type": "stream",
     "text": [
      "On branch master\r\n",
      "\r\n",
      "No commits yet\r\n",
      "\r\n",
      "Untracked files:\r\n",
      "  (use \"git add <file>...\" to include in what will be committed)\r\n",
      "\t\u001b[31mREADME.md\u001b[m\r\n",
      "\r\n",
      "nothing added to commit but untracked files present (use \"git add\" to track)\r\n"
     ]
    }
   ],
   "source": [
    "!git status"
   ]
  },
  {
   "cell_type": "markdown",
   "metadata": {},
   "source": [
    "\n",
    "Step 3 : Inform git that you would like to keep track of future changes\n",
    "in this file.\n",
    "\n",
    "```bash\n",
    "$ git add README.md\n",
    "```"
   ]
  },
  {
   "cell_type": "code",
   "execution_count": 45,
   "metadata": {},
   "outputs": [],
   "source": [
    "!git add README.md"
   ]
  },
  {
   "cell_type": "markdown",
   "metadata": {
    "id": "31901d46"
   },
   "source": [
    "## git status : Checking the status of your local copy\n",
    "\n",
    "The files you've created on your machine are your local \"working\" copy.\n",
    "The changes your make in this local copy aren't backed up online\n",
    "automatically. Until you commit them, the changes you make are local\n",
    "changes. When you change anything, your set of files becomes different\n",
    "from the files in the official repository copy. To find out what's\n",
    "different about them in the terminal, try:\n",
    "\n",
    "```bash\n",
    "$ git status\n",
    "# On branch master\n",
    "#\n",
    "# No commits yet\n",
    "#\n",
    "# Changes to be committed:\n",
    "#   (use \"git rm --cached <file>...\" to unstage)\n",
    "#\n",
    "#       new file:   README.md\n",
    "#\n",
    "```\n",
    "\n",
    "The null result means that you're up to date with the current version of\n",
    "the repository online. This result indicates that the current difference\n",
    "between the repository HEAD (which, so far, is empty) and your\n",
    "`simplestats` directory is this new README.md file."
   ]
  },
  {
   "cell_type": "code",
   "execution_count": 46,
   "metadata": {},
   "outputs": [
    {
     "name": "stdout",
     "output_type": "stream",
     "text": [
      "On branch master\r\n",
      "\r\n",
      "No commits yet\r\n",
      "\r\n",
      "Changes to be committed:\r\n",
      "  (use \"git rm --cached <file>...\" to unstage)\r\n",
      "\t\u001b[32mnew file:   README.md\u001b[m\r\n",
      "\r\n"
     ]
    }
   ],
   "source": [
    "!git status"
   ]
  },
  {
   "cell_type": "markdown",
   "metadata": {
    "id": "5c0466af"
   },
   "source": [
    "## git commit : Saving a snapshot\n",
    "\n",
    "In order to save a snapshot of the current state (revision) of the\n",
    "repository, we use the commit command. This command is always associated\n",
    "with a message describing the changes since the last commit and\n",
    "indicating their purpose. Informative commit messages will serve you\n",
    "well someday, so make a habit of never committing changes without at\n",
    "least a full sentence description.\n",
    "\n",
    "**ADVICE: Commit often**\n",
    "\n",
    "In the same way that it is wise to often save a document that you are\n",
    "working on, so too is it wise to save numerous revisions of your code.\n",
    "More frequent commits increase the granularity of your **undo** button.\n",
    "\n",
    "**ADVICE: Good commit messages**\n",
    "\n",
    "There are no hard and fast rules, but good commits are atomic: they are the smallest change that remain meaningful. A good commit message usually contains a one-line description followed by a longer explanation if necessary.\n"
   ]
  },
  {
   "cell_type": "markdown",
   "metadata": {
    "id": "ad25127c"
   },
   "source": [
    "* * * \n",
    "### Practical : Commit Your Changes\n",
    "\n",
    "Step 1 : Commit the file you've added to your repository.\n",
    "\n",
    "```bash\n",
    "$ git commit -am \"This is the first commit. It adds a readme file.\"\n",
    "  [master (root-commit) 664867c] This is the first commit. It adds a readme file.\n",
    "  1 file changed, 0 insertions(+), 0 deletions(-)\n",
    "  create mode 100644 readme.md\n",
    "```  "
   ]
  },
  {
   "cell_type": "code",
   "execution_count": 47,
   "metadata": {},
   "outputs": [
    {
     "name": "stdout",
     "output_type": "stream",
     "text": [
      "[master (root-commit) d4e26e6] This is the first commit. It adds a readme file.\r\n",
      " 1 file changed, 1 insertion(+)\r\n",
      " create mode 100644 README.md\r\n"
     ]
    }
   ],
   "source": [
    "!git commit -am \"This is the first commit. It adds a readme file.\""
   ]
  },
  {
   "cell_type": "markdown",
   "metadata": {},
   "source": [
    "Step 2 : Admire your work.\n",
    "\n",
    "```bash\n",
    "$ git status\n",
    "# On branch master\n",
    "nothing to commit, working tree clean\n",
    "```"
   ]
  },
  {
   "cell_type": "code",
   "execution_count": 48,
   "metadata": {},
   "outputs": [
    {
     "name": "stdout",
     "output_type": "stream",
     "text": [
      "On branch master\r\n",
      "nothing to commit, working tree clean\r\n"
     ]
    }
   ],
   "source": [
    "!git status"
   ]
  },
  {
   "cell_type": "markdown",
   "metadata": {
    "id": "46cbed6f"
   },
   "source": [
    "## git diff : Viewing the Differences\n",
    "\n",
    "There are many diff tools.\n",
    "\n",
    "If you have a favorite you can set your default git diff tool to execute that one. Git, however, comes with its own diff system.\n",
    "\n",
    "Let's recall the behavior of the linux [`diff`](https://www.geeksforgeeks.org/diff-command-linux-examples/) command on the command line. The equivalent command for windows is [fc](https://www.howtogeek.com/206123/how-to-use-fc-file-compare-from-the-windows-command-prompt/). Choosing two files that are similar, the command:\n",
    "\n",
    "```bash\n",
    "$!diff file1 file2\n",
    "```\n",
    "\n",
    "will output the lines that differ between the two files. This information can be saved as what's known as a patch, but we won't go deeply into that just now.\n"
   ]
  },
  {
   "cell_type": "markdown",
   "metadata": {},
   "source": [
    "The only difference between the command line diff tool and git's diff tool is that the git tool is aware of all of the revisions in your repository, allowing each revision of each file to be treated as a full file.\n",
    "\n",
    "\n",
    "Thus, git diff will output the changes in your working directory that are not yet staged for a commit. To see how this works, make a change in your `README.md` file, but don't yet commit it.\n",
    "\n",
    "```bash\n",
    "$ git diff\n",
    "```"
   ]
  },
  {
   "cell_type": "code",
   "execution_count": 49,
   "metadata": {
    "scrolled": true
   },
   "outputs": [
    {
     "name": "stdout",
     "output_type": "stream",
     "text": [
      "On branch master\r\n",
      "nothing to commit, working tree clean\r\n"
     ]
    }
   ],
   "source": [
    "!git status"
   ]
  },
  {
   "cell_type": "code",
   "execution_count": 50,
   "metadata": {},
   "outputs": [
    {
     "name": "stdout",
     "output_type": "stream",
     "text": [
      "\u001b[1mdiff --git a/README.md b/README.md\u001b[m\r\n",
      "\u001b[1mindex 317edcb..72a652a 100644\u001b[m\r\n",
      "\u001b[1m--- a/README.md\u001b[m\r\n",
      "\u001b[1m+++ b/README.md\u001b[m\r\n",
      "\u001b[36m@@ -1 +1 @@\u001b[m\r\n",
      "\u001b[31m-My name is Willy.\u001b[m\r\n",
      "\u001b[32m+\u001b[m\u001b[32mMy name is Willy arison.\u001b[m\r\n"
     ]
    }
   ],
   "source": [
    "!git diff"
   ]
  },
  {
   "cell_type": "markdown",
   "metadata": {},
   "source": [
    "A summarized version of this output can be output with the `--stat` flag :\n",
    "\n",
    "```bash\n",
    "$ git diff --stat\n",
    "```"
   ]
  },
  {
   "cell_type": "code",
   "execution_count": 51,
   "metadata": {},
   "outputs": [
    {
     "name": "stdout",
     "output_type": "stream",
     "text": [
      " README.md | 2 \u001b[32m+\u001b[m\u001b[31m-\u001b[m\r\n",
      " 1 file changed, 1 insertion(+), 1 deletion(-)\r\n"
     ]
    }
   ],
   "source": [
    "!git diff --stat"
   ]
  },
  {
   "cell_type": "markdown",
   "metadata": {},
   "source": [
    "To see only the differences in a certain path, try:\n",
    "\n",
    "```bash\n",
    "$ git diff HEAD -- [path]\n",
    "```"
   ]
  },
  {
   "cell_type": "code",
   "execution_count": null,
   "metadata": {},
   "outputs": [],
   "source": []
  },
  {
   "cell_type": "markdown",
   "metadata": {},
   "source": [
    "To see what IS staged for commit (that is, what will be committed if you\n",
    "type git commit without the -a flag), you can try :\n",
    "```bash\n",
    "$ git diff --cached\n",
    "```"
   ]
  },
  {
   "cell_type": "code",
   "execution_count": 53,
   "metadata": {},
   "outputs": [],
   "source": [
    "!git diff --cached"
   ]
  },
  {
   "cell_type": "markdown",
   "metadata": {
    "id": "181eb736"
   },
   "source": [
    "## git log : Viewing the History\n",
    "\n",
    "A log of the commit messages is kept by the repository and can be\n",
    "reviewed with the log command.\n",
    "\n",
    "```bash\n",
    "    $ git log       \n",
    "   commit 664867c42a05461702388310155b785a287d0308 (HEAD -> master)\n",
    "    Author: Techni Preneurs <ai.technipreneurs@gmail.com>\n",
    "    Date:   Wed Sep 11 20:31:07 2024 +0200\n",
    "\n",
    "        This is the first commit. It adds a readme file.    \n",
    "```\n"
   ]
  },
  {
   "cell_type": "code",
   "execution_count": 54,
   "metadata": {},
   "outputs": [
    {
     "name": "stdout",
     "output_type": "stream",
     "text": [
      "\u001b[33mcommit d4e26e6f4ed5bf53de1028cb84a260d160fdb408\u001b[m\u001b[33m (\u001b[m\u001b[1;36mHEAD -> \u001b[m\u001b[1;32mmaster\u001b[m\u001b[33m)\u001b[m\r\n",
      "Author: willy.andriambolamanana <willy.andriambolamanana@aims.ac.rw>\r\n",
      "Date:   Thu Sep 26 12:31:26 2024 +0200\r\n",
      "\r\n",
      "    This is the first commit. It adds a readme file.\r\n"
     ]
    }
   ],
   "source": [
    "!git log"
   ]
  },
  {
   "cell_type": "markdown",
   "metadata": {},
   "source": [
    "There are some useful flags for this command, such as\n",
    "\n",
    "    -p\n",
    "    -3\n",
    "    --stat\n",
    "    --oneline\n",
    "    --graph\n",
    "    --pretty=short/full/fuller/oneline\n",
    "    --since=X.minutes/hours/days/weeks/months/years or YY-MM-DD-HH:MM\n",
    "    --until=X.minutes/hours/days/weeks/months/years or YY-MM-DD-HH:MM\n",
    "    --author=<pattern>"
   ]
  },
  {
   "cell_type": "markdown",
   "metadata": {
    "id": "8f0edce4"
   },
   "source": [
    "## git reset : Unstaging a staged file\n",
    "\n",
    "There are a number of ways that you may accidentally stage a file that\n",
    "you don't want to commit.  Create a file called `temp_notes` that\n",
    "describes what you had for breakfast, and then add that file to your\n",
    "repo.  Check with `status` to see that it is added but not committed.\n",
    "\n",
    "You can now unstage that file with:\n",
    "\n",
    "```bash\n",
    "$ git reset temp_notes\n",
    "```\n",
    "\n",
    "Check with `status`."
   ]
  },
  {
   "cell_type": "code",
   "execution_count": 56,
   "metadata": {},
   "outputs": [],
   "source": [
    "!touch temp_notes"
   ]
  },
  {
   "cell_type": "code",
   "execution_count": 57,
   "metadata": {},
   "outputs": [],
   "source": [
    "!echo \"My breakfast is coffee and bread!\" >> temp_notes"
   ]
  },
  {
   "cell_type": "code",
   "execution_count": 58,
   "metadata": {},
   "outputs": [
    {
     "name": "stdout",
     "output_type": "stream",
     "text": [
      "My breakfast is coffee and bread!\r\n"
     ]
    }
   ],
   "source": [
    "cat temp_notes"
   ]
  },
  {
   "cell_type": "code",
   "execution_count": 59,
   "metadata": {},
   "outputs": [],
   "source": [
    "!git add temp_notes"
   ]
  },
  {
   "cell_type": "code",
   "execution_count": 60,
   "metadata": {},
   "outputs": [
    {
     "name": "stdout",
     "output_type": "stream",
     "text": [
      "On branch master\r\n",
      "Changes to be committed:\r\n",
      "  (use \"git restore --staged <file>...\" to unstage)\r\n",
      "\t\u001b[32mnew file:   temp_notes\u001b[m\r\n",
      "\r\n",
      "Changes not staged for commit:\r\n",
      "  (use \"git add <file>...\" to update what will be committed)\r\n",
      "  (use \"git restore <file>...\" to discard changes in working directory)\r\n",
      "\t\u001b[31mmodified:   README.md\u001b[m\r\n",
      "\r\n",
      "Untracked files:\r\n",
      "  (use \"git add <file>...\" to include in what will be committed)\r\n",
      "\t\u001b[31m.Rhistory\u001b[m\r\n",
      "\r\n"
     ]
    }
   ],
   "source": [
    "!git status"
   ]
  },
  {
   "cell_type": "code",
   "execution_count": 61,
   "metadata": {},
   "outputs": [
    {
     "name": "stdout",
     "output_type": "stream",
     "text": [
      "Unstaged changes after reset:\r\n",
      "M\tREADME.md\r\n"
     ]
    }
   ],
   "source": [
    "!git reset temp_notes"
   ]
  },
  {
   "cell_type": "code",
   "execution_count": 62,
   "metadata": {},
   "outputs": [
    {
     "name": "stdout",
     "output_type": "stream",
     "text": [
      "README.md  temp_notes\r\n"
     ]
    }
   ],
   "source": [
    "ls"
   ]
  },
  {
   "cell_type": "code",
   "execution_count": 63,
   "metadata": {},
   "outputs": [
    {
     "name": "stdout",
     "output_type": "stream",
     "text": [
      "My breakfast is coffee and bread!\r\n"
     ]
    }
   ],
   "source": [
    "cat temp_notes"
   ]
  },
  {
   "cell_type": "code",
   "execution_count": 64,
   "metadata": {},
   "outputs": [
    {
     "name": "stdout",
     "output_type": "stream",
     "text": [
      "On branch master\r\n",
      "Changes not staged for commit:\r\n",
      "  (use \"git add <file>...\" to update what will be committed)\r\n",
      "  (use \"git restore <file>...\" to discard changes in working directory)\r\n",
      "\t\u001b[31mmodified:   README.md\u001b[m\r\n",
      "\r\n",
      "Untracked files:\r\n",
      "  (use \"git add <file>...\" to include in what will be committed)\r\n",
      "\t\u001b[31m.Rhistory\u001b[m\r\n",
      "\t\u001b[31mtemp_notes\u001b[m\r\n",
      "\r\n",
      "no changes added to commit (use \"git add\" and/or \"git commit -a\")\r\n"
     ]
    }
   ],
   "source": [
    "!git status"
   ]
  },
  {
   "cell_type": "markdown",
   "metadata": {
    "id": "f949535f"
   },
   "source": [
    "## git checkout : Discarding unstaged modifications (git checkout has other purposes)\n",
    "\n",
    "Perhaps you have made a number of changes that you realize are not\n",
    "going anywhere.  Add a line to `README.md` that describes your dinner\n",
    "last night.  Check with `status` to see that the file is changed and\n",
    "ready to be added.\n",
    "\n",
    "You can now return to previous checked in version with:\n",
    "```bash\n",
    "$ git checkout -- README.md\n",
    "```\n",
    "Check with `status` and take a look at the file."
   ]
  },
  {
   "cell_type": "code",
   "execution_count": 66,
   "metadata": {},
   "outputs": [],
   "source": [
    "!git checkout -- README.md"
   ]
  },
  {
   "cell_type": "markdown",
   "metadata": {
    "id": "7b00e29e"
   },
   "source": [
    "## git rm : Removing files\n",
    "\n",
    "There are a variety of reasons you way want to remove a file from the\n",
    "repository after it has been committed.  Create a file called `READYOU.md` with the first names of all your immediate family members, and add/commit it to the repository.\n",
    "\n",
    "You can now remove the file from the repository with:\n",
    "\n",
    "```bash\n",
    "$ git rm READYOU.md\n",
    "```\n",
    "List the directory to see that you have no file named `READYOU.md`. Use `status` to determine if you need any additional steps."
   ]
  },
  {
   "cell_type": "code",
   "execution_count": 69,
   "metadata": {},
   "outputs": [],
   "source": [
    "!git add temp_notes"
   ]
  },
  {
   "cell_type": "code",
   "execution_count": 70,
   "metadata": {},
   "outputs": [
    {
     "name": "stdout",
     "output_type": "stream",
     "text": [
      "error: the following file has changes staged in the index:\r\n",
      "    temp_notes\r\n",
      "(use --cached to keep the file, or -f to force removal)\r\n"
     ]
    }
   ],
   "source": [
    "!git rm temp_notes"
   ]
  },
  {
   "cell_type": "markdown",
   "metadata": {},
   "source": [
    "What if you delete a file in the shell without `git rm`? Try deleting `README.md`\n",
    "```bash\n",
    "$ rm README.md\n",
    "```\n",
    "\n",
    "\n"
   ]
  },
  {
   "cell_type": "code",
   "execution_count": 71,
   "metadata": {},
   "outputs": [],
   "source": [
    "rm README.md"
   ]
  },
  {
   "cell_type": "code",
   "execution_count": 72,
   "metadata": {},
   "outputs": [
    {
     "name": "stdout",
     "output_type": "stream",
     "text": [
      "temp_notes\r\n"
     ]
    }
   ],
   "source": [
    "ls"
   ]
  },
  {
   "cell_type": "markdown",
   "metadata": {},
   "source": [
    "What does `git status` say?  Oops! How can you recover this important\n",
    "file?\n",
    "```bash\n",
    "$ git checkout -- README.md\n",
    "```"
   ]
  },
  {
   "cell_type": "code",
   "execution_count": 73,
   "metadata": {},
   "outputs": [],
   "source": [
    "!git checkout -- README.md"
   ]
  },
  {
   "cell_type": "code",
   "execution_count": 86,
   "metadata": {},
   "outputs": [
    {
     "name": "stdout",
     "output_type": "stream",
     "text": [
      "file1  file2  file3  file4  file5  README.md  temp_notes\r\n"
     ]
    }
   ],
   "source": [
    "ls"
   ]
  },
  {
   "cell_type": "code",
   "execution_count": null,
   "metadata": {},
   "outputs": [],
   "source": []
  },
  {
   "cell_type": "markdown",
   "metadata": {
    "id": "1d3ecc05"
   },
   "source": [
    "## git revert : the promised \"undo\" button\n",
    "\n",
    "It is possible that after many commits, you decide that you really want to **rollback** a set of commits and start over.  It is easy to revert your code to a previous version.\n",
    "\n",
    "You can use `git log` and `git diff` to explore your history and determine which version you are interested in.  Choose a version and note the *hash* for that version. (Let's assume `abc456`)\n",
    "\n",
    "```bash\n",
    "$ git revert abc456\n",
    "```\n",
    "\n",
    "**Importantly,** this will not erase the intervening commits.  This will create a new commit that is changed from the previous commit by a change that will recreate the desired version.  This retains a complete provenance of your software, and be compared to the prohibition in removing pages from a lab notebook."
   ]
  },
  {
   "cell_type": "code",
   "execution_count": null,
   "metadata": {},
   "outputs": [],
   "source": []
  },
  {
   "cell_type": "markdown",
   "metadata": {},
   "source": [
    "## Visualize Git Log Tree\n",
    "For this section, you can read the necessary information [here](https://tech.serhatteker.com/post/2021-02/git-log-tree/). The idea is just to make your commits a bit fancy. To really see the beauty of it, try to play with your files and do quite a number of commits.\n",
    "\n",
    "```bash\n",
    "$ git log\n",
    "```\n",
    "\n",
    "or \n",
    "\n",
    "```bash\n",
    "$ git log --pretty=oneline\n",
    "```\n",
    "\n",
    "or\n",
    "\n",
    "```bash\n",
    "$ git log --graph --pretty='%Cred%h%Creset -%C(auto)%d%Creset %s %Cgreen(%cr) %C(bold blue)<%an>%Creset' --all\n",
    "```"
   ]
  },
  {
   "cell_type": "code",
   "execution_count": null,
   "metadata": {},
   "outputs": [],
   "source": []
  },
  {
   "cell_type": "markdown",
   "metadata": {
    "id": "a60621d6"
   },
   "source": [
    "* * * *\n",
    "### Exercise :\n",
    "\n",
    "1. Create 5 files in your directory with one line of content in each\n",
    "   file.\n",
    "2. Commit the files to the repository.\n",
    "3. Change 2 of the 5 files and commit them.\n",
    "4. Undo the changes in step 3.\n",
    "5. Print out the last entry in the log.\n",
    "    \n",
    "* * * *"
   ]
  },
  {
   "cell_type": "code",
   "execution_count": 64,
   "metadata": {},
   "outputs": [],
   "source": [
    "!echo \"This is file 1.\" > file1\n",
    "!echo \"This is file 2.\" > file2\n",
    "!echo \"This is file 3.\" > file3\n",
    "!echo \"This is file 4.\" > file4\n",
    "!echo \"This is file 5.\" > file5"
   ]
  },
  {
   "cell_type": "code",
   "execution_count": 65,
   "metadata": {},
   "outputs": [],
   "source": [
    "!git add file1\n",
    "!git add file2\n",
    "!git add file3\n",
    "!git add file4\n",
    "!git add file5"
   ]
  },
  {
   "cell_type": "code",
   "execution_count": 66,
   "metadata": {},
   "outputs": [
    {
     "name": "stdout",
     "output_type": "stream",
     "text": [
      "On branch master\r\n",
      "Untracked files:\r\n",
      "  (use \"git add <file>...\" to include in what will be committed)\r\n",
      "\t\u001b[31m.Rhistory\u001b[m\r\n",
      "\r\n",
      "nothing added to commit but untracked files present (use \"git add\" to track)\r\n"
     ]
    }
   ],
   "source": [
    "!git commit -am \"This is my first vervion.\""
   ]
  },
  {
   "cell_type": "code",
   "execution_count": 67,
   "metadata": {
    "scrolled": false
   },
   "outputs": [
    {
     "name": "stdout",
     "output_type": "stream",
     "text": [
      "On branch master\r\n",
      "Untracked files:\r\n",
      "  (use \"git add <file>...\" to include in what will be committed)\r\n",
      "\t\u001b[31m.Rhistory\u001b[m\r\n",
      "\r\n",
      "nothing added to commit but untracked files present (use \"git add\" to track)\r\n"
     ]
    }
   ],
   "source": [
    "!git status"
   ]
  },
  {
   "cell_type": "code",
   "execution_count": 68,
   "metadata": {},
   "outputs": [
    {
     "name": "stdout",
     "output_type": "stream",
     "text": [
      "\u001b[33mcommit 4ebcac4bda4a133b7a0f5b3c639b6d7dec5ecdb2\u001b[m\u001b[33m (\u001b[m\u001b[1;36mHEAD -> \u001b[m\u001b[1;32mmaster\u001b[m\u001b[33m)\u001b[m\r\n",
      "Author: willy.andriambolamanana <willy.andriambolamanana@aims.ac.rw>\r\n",
      "Date:   Thu Sep 26 17:47:34 2024 +0200\r\n",
      "\r\n",
      "    This is my first vervion.\r\n",
      "\r\n",
      "\u001b[33mcommit a798d42ca19613c67ee85b175749d0ce7becd388\u001b[m\r\n",
      "Author: willy.andriambolamanana <willy.andriambolamanana@aims.ac.rw>\r\n",
      "Date:   Thu Sep 26 17:43:36 2024 +0200\r\n",
      "\r\n",
      "    This is my first vervion.\r\n",
      "\r\n",
      "\u001b[33mcommit a4e6734a4c5ad6c783d3ee9a6a2c7b8002544901\u001b[m\r\n",
      "Author: willy.andriambolamanana <willy.andriambolamanana@aims.ac.rw>\r\n",
      "Date:   Thu Sep 26 17:19:41 2024 +0200\r\n",
      "\r\n",
      "    Last modification of the file2 and file5\r\n",
      "\r\n",
      "\u001b[33mcommit afb72c4cefcd48aa9c26684fc32b302a94facb1a\u001b[m\r\n",
      "Author: willy.andriambolamanana <willy.andriambolamanana@aims.ac.rw>\r\n",
      "Date:   Thu Sep 26 17:18:38 2024 +0200\r\n",
      "\r\n",
      "    Third modification of the file2 and file5\r\n",
      "\r\n",
      "\u001b[33mcommit ec1554ff26e27cfeeca716ba8e9f450de1c9dd3c\u001b[m\r\n",
      "Author: willy.andriambolamanana <willy.andriambolamanana@aims.ac.rw>\r\n",
      "Date:   Thu Sep 26 15:19:43 2024 +0200\r\n",
      "\r\n",
      "    This is my first vervion.\r\n",
      "\r\n",
      "\u001b[33mcommit d4e26e6f4ed5bf53de1028cb84a260d160fdb408\u001b[m\r\n",
      "Author: willy.andriambolamanana <willy.andriambolamanana@aims.ac.rw>\r\n",
      "Date:   Thu Sep 26 12:31:26 2024 +0200\r\n",
      "\r\n",
      "    This is the first commit. It adds a readme file.\r\n"
     ]
    }
   ],
   "source": [
    "!git log"
   ]
  },
  {
   "cell_type": "code",
   "execution_count": 69,
   "metadata": {},
   "outputs": [],
   "source": [
    "!echo \"Add last line into file 2\" >> file2\n",
    "!echo \"Add last line into file 5\" >> file5"
   ]
  },
  {
   "cell_type": "code",
   "execution_count": 70,
   "metadata": {},
   "outputs": [
    {
     "name": "stdout",
     "output_type": "stream",
     "text": [
      "[master 1df051d] Second modifications.\r\n",
      " 2 files changed, 2 insertions(+)\r\n"
     ]
    }
   ],
   "source": [
    "!git commit -am \"Second modifications.\""
   ]
  },
  {
   "cell_type": "code",
   "execution_count": 71,
   "metadata": {
    "scrolled": false
   },
   "outputs": [],
   "source": [
    "!git diff file2"
   ]
  },
  {
   "cell_type": "code",
   "execution_count": 72,
   "metadata": {},
   "outputs": [],
   "source": [
    "!git diff file5"
   ]
  },
  {
   "cell_type": "code",
   "execution_count": 73,
   "metadata": {},
   "outputs": [
    {
     "name": "stdout",
     "output_type": "stream",
     "text": [
      "This is file 2.\r\n",
      "Add last line into file 2\r\n"
     ]
    }
   ],
   "source": [
    "cat file2"
   ]
  },
  {
   "cell_type": "code",
   "execution_count": 74,
   "metadata": {},
   "outputs": [
    {
     "name": "stdout",
     "output_type": "stream",
     "text": [
      "\u001b[33mcommit 1df051d65e9fcc356dbd2e8d095bf5dd6a0683fc\u001b[m\u001b[33m (\u001b[m\u001b[1;36mHEAD -> \u001b[m\u001b[1;32mmaster\u001b[m\u001b[33m)\u001b[m\r\n",
      "Author: willy.andriambolamanana <willy.andriambolamanana@aims.ac.rw>\r\n",
      "Date:   Thu Sep 26 17:49:14 2024 +0200\r\n",
      "\r\n",
      "    Second modifications.\r\n",
      "\r\n",
      "\u001b[33mcommit 4ebcac4bda4a133b7a0f5b3c639b6d7dec5ecdb2\u001b[m\r\n",
      "Author: willy.andriambolamanana <willy.andriambolamanana@aims.ac.rw>\r\n",
      "Date:   Thu Sep 26 17:47:34 2024 +0200\r\n",
      "\r\n",
      "    This is my first vervion.\r\n",
      "\r\n",
      "\u001b[33mcommit a798d42ca19613c67ee85b175749d0ce7becd388\u001b[m\r\n",
      "Author: willy.andriambolamanana <willy.andriambolamanana@aims.ac.rw>\r\n",
      "Date:   Thu Sep 26 17:43:36 2024 +0200\r\n",
      "\r\n",
      "    This is my first vervion.\r\n",
      "\r\n",
      "\u001b[33mcommit a4e6734a4c5ad6c783d3ee9a6a2c7b8002544901\u001b[m\r\n",
      "Author: willy.andriambolamanana <willy.andriambolamanana@aims.ac.rw>\r\n",
      "Date:   Thu Sep 26 17:19:41 2024 +0200\r\n",
      "\r\n",
      "    Last modification of the file2 and file5\r\n",
      "\r\n",
      "\u001b[33mcommit afb72c4cefcd48aa9c26684fc32b302a94facb1a\u001b[m\r\n",
      "Author: willy.andriambolamanana <willy.andriambolamanana@aims.ac.rw>\r\n",
      "Date:   Thu Sep 26 17:18:38 2024 +0200\r\n",
      "\r\n",
      "    Third modification of the file2 and file5\r\n",
      "\r\n",
      "\u001b[33mcommit ec1554ff26e27cfeeca716ba8e9f450de1c9dd3c\u001b[m\r\n",
      "Author: willy.andriambolamanana <willy.andriambolamanana@aims.ac.rw>\r\n",
      "Date:   Thu Sep 26 15:19:43 2024 +0200\r\n",
      "\r\n",
      "    This is my first vervion.\r\n",
      "\r\n",
      "\u001b[33mcommit d4e26e6f4ed5bf53de1028cb84a260d160fdb408\u001b[m\r\n",
      "Author: willy.andriambolamanana <willy.andriambolamanana@aims.ac.rw>\r\n",
      "Date:   Thu Sep 26 12:31:26 2024 +0200\r\n",
      "\r\n",
      "    This is the first commit. It adds a readme file.\r\n"
     ]
    }
   ],
   "source": [
    "!git log"
   ]
  },
  {
   "cell_type": "code",
   "execution_count": 75,
   "metadata": {
    "scrolled": true
   },
   "outputs": [
    {
     "name": "stdout",
     "output_type": "stream",
     "text": [
      "\u001b[2B#\u001b[14\u001b[m\u001b[m\u001b[22;12H\u001b[7m[ line  1/16 ( 6%), col  1/31 (  3%), char   0/353 ( 0%) ]\u001b[m\u001b[22;12H                 \u001b[7m[ Justified paragraph ]\u001b[m\u001b[K\u001b[1;68H\u001b[7m*\u001b[10C\u001b[mines ]\u001b[m\u001b[H\u001b[7m  GNU nano 7.2     /home/arison/simple_project/.git/COMMIT_EDITMSG              \u001b[1;79H\u001b[m"
     ]
    }
   ],
   "source": [
    "!git revert 1df051d65e9fcc356dbd2e8d095bf5dd6a0683fc"
   ]
  },
  {
   "cell_type": "code",
   "execution_count": 76,
   "metadata": {},
   "outputs": [
    {
     "name": "stdout",
     "output_type": "stream",
     "text": [
      "This is file 2.\r\n"
     ]
    }
   ],
   "source": [
    "cat file2"
   ]
  },
  {
   "cell_type": "code",
   "execution_count": 77,
   "metadata": {},
   "outputs": [
    {
     "name": "stdout",
     "output_type": "stream",
     "text": [
      "This is file 5.\r\n"
     ]
    }
   ],
   "source": [
    "cat file5"
   ]
  },
  {
   "cell_type": "markdown",
   "metadata": {
    "id": "15b9e659"
   },
   "source": [
    "## Resources\n",
    "\n",
    "1. [git book](http://git-scm.com/book) - Free and Open"
   ]
  }
 ],
 "metadata": {
  "colab": {
   "provenance": []
  },
  "kernelspec": {
   "display_name": "Python 3 (ipykernel)",
   "language": "python",
   "name": "python3"
  },
  "language_info": {
   "codemirror_mode": {
    "name": "ipython",
    "version": 3
   },
   "file_extension": ".py",
   "mimetype": "text/x-python",
   "name": "python",
   "nbconvert_exporter": "python",
   "pygments_lexer": "ipython3",
   "version": "3.11.2"
  }
 },
 "nbformat": 4,
 "nbformat_minor": 1
}
