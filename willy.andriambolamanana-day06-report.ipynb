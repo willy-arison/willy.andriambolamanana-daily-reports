{
 "cells": [
  {
   "cell_type": "markdown",
   "id": "downtown-metallic",
   "metadata": {},
   "source": [
    "### Exercise 1\n",
    "Compute the following expressions for a natural number n chosen by the user:\n",
    "\n",
    "$$\\sum_{i=0,\\;\\text{$n$ odd}}^{n-1} (i+3)$$\n",
    "\n",
    "$$\\prod_{i=0,\\;\\text{$n$ even}}^{n-1} (i+3)$$"
   ]
  },
  {
   "cell_type": "code",
   "execution_count": 22,
   "id": "heard-bankruptcy",
   "metadata": {},
   "outputs": [
    {
     "name": "stdout",
     "output_type": "stream",
     "text": [
      "Enter n: 5\n",
      "product = 105, sum = 10\n"
     ]
    }
   ],
   "source": [
    "# even and odd sum\n",
    "n = int(input('Enter n: '))\n",
    "even_prod = 1\n",
    "odd_sum = 0\n",
    "for i in range(n):\n",
    "    if i%2==0:\n",
    "        even_prod*=(i+3)\n",
    "    else:\n",
    "        odd_sum+=(i+3)\n",
    "print(f'product = {even_prod}, sum = {odd_sum}')"
   ]
  },
  {
   "cell_type": "markdown",
   "id": "upset-relay",
   "metadata": {},
   "source": [
    "### Exercise 2\n",
    "Write a program that reads the number of the day of the week (from 0 to 6). If it is a\n",
    "working day, then the program will write the name of the corresponding day. Otherwise,\n",
    "it will write the word \"Weekend\"."
   ]
  },
  {
   "cell_type": "code",
   "execution_count": 8,
   "id": "coupled-cause",
   "metadata": {},
   "outputs": [
    {
     "name": "stdout",
     "output_type": "stream",
     "text": [
      "Enter the index of the day: 0\n",
      "Today is a weekend!\n"
     ]
    }
   ],
   "source": [
    "days = ['Monday', 'Tuesday', 'wednesday', 'Thursday', 'Friday']\n",
    "index = int(input('Enter the index of the day: '))\n",
    "if 1<=index<=5:\n",
    "    print(f'Today is {days[index-1]}')\n",
    "elif index==0 or index==1:\n",
    "    print('Today is a weekend!')\n",
    "else:\n",
    "    print('Something is wrong!')"
   ]
  },
  {
   "cell_type": "markdown",
   "id": "common-thesaurus",
   "metadata": {},
   "source": [
    "### Exercise 3\n",
    "\n",
    "Make a program that, given a month number (from 0 to 11), indicates how many days it\n",
    "has (28, 30 or 31), ignoring the leap years."
   ]
  },
  {
   "cell_type": "code",
   "execution_count": 11,
   "id": "incomplete-cargo",
   "metadata": {},
   "outputs": [
    {
     "name": "stdout",
     "output_type": "stream",
     "text": [
      "Enter the month number: 11\n",
      "december has 31 days!\n"
     ]
    }
   ],
   "source": [
    "months = {\n",
    "    'january':31,\n",
    "    'february':28,\n",
    "    'mars':31,\n",
    "    'april':30,\n",
    "    'may':31,\n",
    "    'june':30,\n",
    "    'july':31,\n",
    "    'august':31,\n",
    "    'september':30,\n",
    "    'october':31,\n",
    "    'november':30,\n",
    "    'december':31\n",
    "}\n",
    "\n",
    "month_number = int(input('Enter the month number: '))\n",
    "print(f'{list(months.keys())[month_number]} has {list(months.values())[month_number]} days!')"
   ]
  },
  {
   "cell_type": "markdown",
   "id": "mighty-executive",
   "metadata": {},
   "source": [
    "### Exercise 4\n",
    "\n",
    "Write two versions of python code that displays your name 3 times. One version with a\n",
    "\"for loop\" and another version with a \"while loop\"."
   ]
  },
  {
   "cell_type": "code",
   "execution_count": 16,
   "id": "decimal-victor",
   "metadata": {},
   "outputs": [
    {
     "name": "stdout",
     "output_type": "stream",
     "text": [
      "Give your name: willy\n",
      "Willy\n",
      "Willy\n",
      "Willy\n",
      "Willy\n",
      "Willy\n",
      "Willy\n"
     ]
    }
   ],
   "source": [
    "name = input('Give your name: ')\n",
    "\n",
    "for i in range(3):\n",
    "    print(name.title())\n",
    "i=0\n",
    "while i<3:\n",
    "    print(name.title())\n",
    "    i+=1"
   ]
  },
  {
   "cell_type": "markdown",
   "id": "interstate-shield",
   "metadata": {},
   "source": [
    "### Exercise 5\n",
    "\n",
    "Given two numbers $a_0$ and $a_1$, the Fibonacci sequence they generate is constructed from\n",
    "the recursion formula $a_{n+1} = a_n + a_{n−1}$. Calculate the first 15 terms of a Fibonacci\n",
    "sequence, asking the user the initial values."
   ]
  },
  {
   "cell_type": "code",
   "execution_count": 19,
   "id": "noted-crisis",
   "metadata": {},
   "outputs": [
    {
     "name": "stdout",
     "output_type": "stream",
     "text": [
      "Enter a_0: 1\n",
      "Enter a_1: 1\n",
      "1\n",
      "1\n",
      "2\n",
      "3\n",
      "5\n",
      "8\n",
      "13\n",
      "21\n",
      "34\n",
      "55\n",
      "89\n",
      "144\n",
      "233\n",
      "377\n",
      "610\n"
     ]
    }
   ],
   "source": [
    "a_0 = int(input('Enter a_0: '))\n",
    "a_1 = int(input('Enter a_1: '))\n",
    "\n",
    "for i in range(15):\n",
    "    if i==0:\n",
    "        print(a_0)\n",
    "    elif i==1:\n",
    "        print(a_1)\n",
    "    else:\n",
    "        a_0, a_1 = a_1, a_0 + a_1\n",
    "        print(a_1)"
   ]
  },
  {
   "cell_type": "markdown",
   "id": "friendly-yukon",
   "metadata": {},
   "source": [
    "### Exercise 6\n",
    "\n",
    "Compute the first $30$ terms of the sequence defined by $2x_{n+2} − x_{n+1} − 6x_n = 0$ sequence,\n",
    "given any two initial values $x_0$ and $x_1$."
   ]
  },
  {
   "cell_type": "code",
   "execution_count": 20,
   "id": "enclosed-atlanta",
   "metadata": {},
   "outputs": [
    {
     "name": "stdout",
     "output_type": "stream",
     "text": [
      "Enter a_0: 1\n",
      "Enter a_1: 1\n",
      "1\n",
      "1\n",
      "3.5\n",
      "4.75\n",
      "12.875\n",
      "20.6875\n",
      "48.96875\n",
      "86.546875\n",
      "190.1796875\n",
      "354.73046875\n",
      "747.904296875\n",
      "1438.1435546875\n",
      "2962.78466796875\n",
      "5795.822998046875\n",
      "11786.265502929688\n",
      "23280.60174560547\n",
      "46999.0973815918\n",
      "93341.3539276123\n",
      "187667.96910858154\n",
      "373858.0463371277\n",
      "749932.9304943085\n",
      "1496540.6042585373\n",
      "2998069.093612194\n",
      "5988656.359581709\n",
      "11988535.460627437\n",
      "23960236.809058845\n",
      "47945724.78641173\n",
      "95853572.8203824\n",
      "191763960.7694264\n",
      "383442698.84586036\n"
     ]
    }
   ],
   "source": [
    "a_0 = int(input('Enter a_0: '))\n",
    "a_1 = int(input('Enter a_1: '))\n",
    "\n",
    "\n",
    "for i in range(30):\n",
    "    if i==0:\n",
    "        print(a_0)\n",
    "    elif i==1:\n",
    "        print(a_1)\n",
    "    else:\n",
    "        a_0, a_1 = a_1, (6*a_0 + a_1)/2\n",
    "        print(a_1)"
   ]
  },
  {
   "cell_type": "markdown",
   "id": "continued-salmon",
   "metadata": {},
   "source": [
    "### Exercise 7\n",
    "\n",
    "-  Write python code to determine whether or not a year is a leap year. Be sure you\n",
    "know what a leap year is."
   ]
  },
  {
   "cell_type": "code",
   "execution_count": 24,
   "id": "postal-evaluation",
   "metadata": {},
   "outputs": [
    {
     "name": "stdout",
     "output_type": "stream",
     "text": [
      "Enter the year: 2500\n",
      "2500 is not a leap year.\n"
     ]
    }
   ],
   "source": [
    "year = int(input('Enter the year: '))\n",
    "if year%4==0:\n",
    "    if year%100==0:\n",
    "        if year%400==0:\n",
    "            print(f'{year} is a leap year.')\n",
    "        else:\n",
    "            print(f'{year} is not a leap year.')\n",
    "    else:\n",
    "        print(f'{year} is a leap year.')\n",
    "else:\n",
    "    print(f'{year} is not a leap year.')"
   ]
  },
  {
   "cell_type": "markdown",
   "id": "reflected-pottery",
   "metadata": {},
   "source": [
    "- Write the code using only logical operators, i.e. no conditional branching."
   ]
  },
  {
   "cell_type": "code",
   "execution_count": 25,
   "id": "conditional-thomson",
   "metadata": {},
   "outputs": [
    {
     "name": "stdout",
     "output_type": "stream",
     "text": [
      "Enter the year: 2500\n",
      "2500 is not a leap year.\n"
     ]
    }
   ],
   "source": [
    "year = int(input('Enter the year: '))\n",
    "if year%4!=0 or (year%4==0 and year%100==0 and year%400!=0):\n",
    "    print(f'{year} is not a leap year.')\n",
    "else:\n",
    "    print(f'{year} is a leap year.')"
   ]
  },
  {
   "cell_type": "markdown",
   "id": "academic-photograph",
   "metadata": {},
   "source": [
    "### Exercise 8 \n",
    "\n",
    "Write python code that computes the sum of the square of the first n natural numbers.\n",
    "One version with a \"for loop\" and another version with a \"while loop\"."
   ]
  },
  {
   "cell_type": "code",
   "execution_count": 8,
   "id": "suited-happening",
   "metadata": {},
   "outputs": [
    {
     "name": "stdout",
     "output_type": "stream",
     "text": [
      "Enter a natural nymbers: 15\n",
      "with for loop: 1015, with while loop: 1015\n"
     ]
    }
   ],
   "source": [
    "n = int(input('Enter a natural nymbers: '))\n",
    "sum_square_for = 0\n",
    "sum_square_while = 0\n",
    "# for loop\n",
    "for i in range(n):\n",
    "    sum_square_for += i**2\n",
    "    \n",
    "# while loop\n",
    "i=0\n",
    "while i<n:\n",
    "    sum_square_while += i**2\n",
    "    i += 1\n",
    "    \n",
    "print(f'with for loop: {sum_square_for}, with while loop: {sum_square_while}')"
   ]
  },
  {
   "cell_type": "markdown",
   "id": "proved-ticket",
   "metadata": {},
   "source": [
    "write python code that prints, for a natural number $M$ , the smallest natural number\n",
    "$n$ such that $1^2 + 2^2 + \\cdots + n^2 \\geq M$. One version with a \"for loop\" and another version\n",
    "with a \"while loop\"."
   ]
  },
  {
   "cell_type": "code",
   "execution_count": 9,
   "id": "prostate-tomorrow",
   "metadata": {},
   "outputs": [
    {
     "name": "stdout",
     "output_type": "stream",
     "text": [
      "Give a number M: 100\n",
      "The smallest natural n with for loop is 7\n",
      "The smallest natural n with while loop is 7\n"
     ]
    }
   ],
   "source": [
    "# for loop version\n",
    "m = int(input('Give a number M: '))\n",
    "sum_number = 0\n",
    "for i in range(m):\n",
    "    sum_number += i**2\n",
    "    if sum_number>=m:\n",
    "        print(f'The smallest natural n with for loop is {i}')\n",
    "        break\n",
    "        \n",
    "# while loop\n",
    "sum_number = 0\n",
    "i = 0\n",
    "while sum_number < m:\n",
    "    i += 1\n",
    "    sum_number += i**2\n",
    "    \n",
    "    \n",
    "print(f'The smallest natural n with while loop is {i}')"
   ]
  },
  {
   "cell_type": "markdown",
   "id": "popular-louisville",
   "metadata": {},
   "source": [
    "### Exercise 9\n",
    "\n",
    "- Write python code that prints all the divisors of a given natural number."
   ]
  },
  {
   "cell_type": "code",
   "execution_count": 11,
   "id": "protecting-specialist",
   "metadata": {},
   "outputs": [
    {
     "name": "stdout",
     "output_type": "stream",
     "text": [
      "Give a natural number: 30\n",
      "The divisors of 30 are [30, 1, 2, 3, 5, 6, 10, 15].\n"
     ]
    }
   ],
   "source": [
    "n = int(input('Give a natural number: '))\n",
    "\n",
    "list_divisors = [n]\n",
    "for i in range(1, int(n/2)+1):\n",
    "    if n%i==0:\n",
    "        list_divisors.append(i)\n",
    "\n",
    "\n",
    "print(f'The divisors of {n} are {list_divisors}.')"
   ]
  },
  {
   "cell_type": "markdown",
   "id": "healthy-indonesian",
   "metadata": {},
   "source": [
    "- Read an integer number input by the user and calculate its prime factors. This will\n",
    "just be some of its divisors."
   ]
  },
  {
   "cell_type": "code",
   "execution_count": 14,
   "id": "cosmetic-banks",
   "metadata": {},
   "outputs": [
    {
     "name": "stdout",
     "output_type": "stream",
     "text": [
      "Give a natural number: 1000\n",
      "The prime factors of 1000 are {2, 5}\n"
     ]
    }
   ],
   "source": [
    "        \n",
    "n = int(input('Give a natural number: '))\n",
    "set_of_factors = set()\n",
    "\n",
    "list_divisors = [n]\n",
    "for i in range(2, int(n/2)+1):\n",
    "    if n%i==0:\n",
    "        list_divisors.append(i)\n",
    "\n",
    "\n",
    "for number in list_divisors:\n",
    "    for i in range(2, int(number**(1/2)) + 1):\n",
    "        if number%i==0:\n",
    "            break\n",
    "    else:\n",
    "        set_of_factors.add(number)\n",
    "\n",
    "        \n",
    "print(f'The prime factors of {n} are {set_of_factors}')"
   ]
  },
  {
   "cell_type": "markdown",
   "id": "published-premium",
   "metadata": {},
   "source": [
    "### Exercise 10\n",
    "\n",
    "Read an integer number $n$ between $0$ and $9$ and print its multiplication table up to $N$\n",
    "where N is another another natural number read by the program."
   ]
  },
  {
   "cell_type": "code",
   "execution_count": 15,
   "id": "cathedral-stretch",
   "metadata": {},
   "outputs": [
    {
     "name": "stdout",
     "output_type": "stream",
     "text": [
      "Enter a natural number n: 2\n",
      "Enter a natural number N: 7\n",
      "2*1 = 2\n",
      "2*2 = 4\n",
      "2*3 = 6\n",
      "2*4 = 8\n",
      "2*5 = 10\n",
      "2*6 = 12\n",
      "2*7 = 14\n"
     ]
    }
   ],
   "source": [
    "n = int(input('Enter a natural number n: '))\n",
    "N = int(input('Enter a natural number N: '))\n",
    "\n",
    "for i in range(1,N+1):\n",
    "    print(f'{n}*{i} = {n*i}')"
   ]
  },
  {
   "cell_type": "markdown",
   "id": "ultimate-liberal",
   "metadata": {},
   "source": [
    "### Exercise 11\n",
    "\n",
    "Write a program that prints all the numbers between 0 and 40 that are multiples of 3, 7\n",
    "or 11"
   ]
  },
  {
   "cell_type": "code",
   "execution_count": 41,
   "id": "located-montana",
   "metadata": {},
   "outputs": [
    {
     "name": "stdout",
     "output_type": "stream",
     "text": [
      "0\n",
      "3\n",
      "6\n",
      "7\n",
      "9\n",
      "11\n",
      "12\n",
      "14\n",
      "15\n",
      "18\n",
      "21\n",
      "22\n",
      "24\n",
      "27\n",
      "28\n",
      "30\n",
      "33\n",
      "35\n",
      "36\n",
      "39\n"
     ]
    }
   ],
   "source": [
    "for i in range(41):\n",
    "    if i%3==0 or i%7==0 or i%11==0:\n",
    "        print(i)"
   ]
  },
  {
   "cell_type": "markdown",
   "id": "distributed-celtic",
   "metadata": {},
   "source": [
    "### Exercise 12\n",
    "\n",
    "Write python code that prints the floor of a float x. Recall that the floor of a float $x$ is the\n",
    "largest integer value less than or equal to $x$, i.e. if $E[x]$ is the floor of $x$, then it satisfies,\n",
    "$$E[x] = 1 + E[x − 1]$$\n",
    "PS: On Friday, you will be asked to write a recursive"
   ]
  },
  {
   "cell_type": "code",
   "execution_count": 19,
   "id": "arabic-engineering",
   "metadata": {},
   "outputs": [
    {
     "name": "stdout",
     "output_type": "stream",
     "text": [
      "The floor of -1.5 is -2\n"
     ]
    }
   ],
   "source": [
    "x = -1.5\n",
    "if x<0:\n",
    "    print(f\"The floor of {x} is {int(x)-1}\")\n",
    "else:\n",
    "    print(f\"The floor of {x} is {int(x)}\")"
   ]
  },
  {
   "cell_type": "markdown",
   "id": "frank-guidance",
   "metadata": {},
   "source": [
    "### Exercise 13 \n",
    "\n",
    "Given a point in the plane by its Cartesian coordinates, determine in which quadrant it is\n",
    "$(1st, 2nd, 3rd, 4th)$, if it lies on an axis, or if it is the origin. Do this for several points in the same execution of the program until the user quits."
   ]
  },
  {
   "cell_type": "code",
   "execution_count": 1,
   "id": "regular-germany",
   "metadata": {},
   "outputs": [
    {
     "name": "stdout",
     "output_type": "stream",
     "text": [
      "Enter the x-coordinate: 2\n",
      "Enter the y-coordinate: 3\n",
      "1st Quadrant\n",
      "Press q to quit: \n",
      "Enter the x-coordinate: 1\n",
      "Enter the y-coordinate: 2\n",
      "1st Quadrant\n",
      "Press q to quit: q\n"
     ]
    }
   ],
   "source": [
    "while True:\n",
    "    x = float(input(\"Enter the x-coordinate: \"))\n",
    "    y = float(input(\"Enter the y-coordinate: \"))\n",
    "\n",
    "    if x == 0 and y == 0:\n",
    "        print(\"Origin\")\n",
    "    elif x == 0:\n",
    "        print(\"Y-axis\")\n",
    "    elif y == 0:\n",
    "        print(\"X-axis\")\n",
    "    elif x > 0 and y > 0:\n",
    "        print(\"1st Quadrant\")\n",
    "    elif x < 0 and y > 0:\n",
    "        print(\"2nd Quadrant\")\n",
    "    elif x < 0 and y < 0:\n",
    "        print(\"3rd Quadrant\")\n",
    "    elif x > 0 and y < 0:\n",
    "        print(\"4th Quadrant\")\n",
    "        \n",
    "    quit = input('Press q to quit: ')\n",
    "    if quit=='q':\n",
    "        break\n",
    "        "
   ]
  },
  {
   "cell_type": "markdown",
   "id": "academic-terminal",
   "metadata": {},
   "source": [
    "### Exercise 14\n",
    "\n",
    "Ask for an integer number between $0$ and $9$, denoted $x$. Once the user has entered a correct\n",
    "number (that is one in the range $[0..10)$) the program asks for a second integer number\n",
    "between $0$ and $255$, denoted $max$. The program continues asking for the number until it\n",
    "is correct (that it is in the range $[0..256)$). When this is done, show all multiples of $x$ that\n",
    "are between $0$ and $max$. Then, ask the user whether he/she wants to continue; if in the\n",
    "affirmative, ask for another couple of numbers, otherwise finish."
   ]
  },
  {
   "cell_type": "code",
   "execution_count": 3,
   "id": "working-failure",
   "metadata": {},
   "outputs": [
    {
     "name": "stdout",
     "output_type": "stream",
     "text": [
      "Enter x: 2\n",
      "Enter max: 10\n",
      "[0, 2, 4, 6, 8, 10]\n",
      "Do you want to continue? yes/no: yes\n",
      "Enter x: 2\n",
      "Enter max: 30\n",
      "[0, 2, 4, 6, 8, 10, 12, 14, 16, 18, 20, 22, 24, 26, 28, 30]\n",
      "Do you want to continue? yes/no: no\n"
     ]
    }
   ],
   "source": [
    "\n",
    "while True:\n",
    "    while True:\n",
    "        x = input('Enter x: ')\n",
    "        if x.isnumeric:\n",
    "            if 0<=int(x)<=9:\n",
    "                x = int(x)\n",
    "                break\n",
    "    while True:\n",
    "        maximum = input('Enter max: ')\n",
    "        if maximum.isnumeric:\n",
    "            if 0<=int(maximum)<=255:\n",
    "                maximum = int(maximum)\n",
    "                break\n",
    "    i=0\n",
    "    list_multiples = []\n",
    "    while True:\n",
    "        y = x * i\n",
    "        if y>maximum:\n",
    "            break\n",
    "        list_multiples.append(y)\n",
    "        i += 1\n",
    "    print(list_multiples)\n",
    "\n",
    "    answer = input('Do you want to continue? yes/no: ')\n",
    "    if answer=='no':\n",
    "        break\n",
    "    elif answer=='yes':\n",
    "        pass\n",
    "    else:\n",
    "        print('You chose wrong!')\n",
    "        break\n",
    "            "
   ]
  }
 ],
 "metadata": {
  "kernelspec": {
   "display_name": "Python 3 (ipykernel)",
   "language": "python",
   "name": "python3"
  },
  "language_info": {
   "codemirror_mode": {
    "name": "ipython",
    "version": 3
   },
   "file_extension": ".py",
   "mimetype": "text/x-python",
   "name": "python",
   "nbconvert_exporter": "python",
   "pygments_lexer": "ipython3",
   "version": "3.11.2"
  }
 },
 "nbformat": 4,
 "nbformat_minor": 5
}
