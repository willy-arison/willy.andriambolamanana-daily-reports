{
 "cells": [
  {
   "cell_type": "code",
   "execution_count": 3,
   "id": "auburn-affair",
   "metadata": {},
   "outputs": [
    {
     "data": {
      "text/plain": [
       "8"
      ]
     },
     "execution_count": 3,
     "metadata": {},
     "output_type": "execute_result"
    }
   ],
   "source": [
    "def find_max(x, y):\n",
    "    if x>y:\n",
    "        return x\n",
    "    return y\n",
    "find_max(8, 3)\n",
    "    "
   ]
  },
  {
   "cell_type": "code",
   "execution_count": 18,
   "id": "correct-exemption",
   "metadata": {},
   "outputs": [
    {
     "data": {
      "text/plain": [
       "9"
      ]
     },
     "execution_count": 18,
     "metadata": {},
     "output_type": "execute_result"
    }
   ],
   "source": [
    "def find_max_of_n(*args):\n",
    "    max_number = args[0]\n",
    "    for number in args:\n",
    "        max_number = find_max(max_number, number)\n",
    "\n",
    "    return max_number\n",
    "\n",
    "find_max_of_n(1, 2, 2, 5, 7, 9)"
   ]
  },
  {
   "cell_type": "code",
   "execution_count": 12,
   "id": "thick-serbia",
   "metadata": {},
   "outputs": [
    {
     "data": {
      "text/plain": [
       "3"
      ]
     },
     "execution_count": 12,
     "metadata": {},
     "output_type": "execute_result"
    }
   ],
   "source": [
    "def length(seq):\n",
    "    l = 0\n",
    "    lst = list(seq)\n",
    "    while lst:\n",
    "        lst.pop()\n",
    "        l += 1\n",
    "    return l\n",
    "\n",
    "length([1, 2, 3])\n",
    "    "
   ]
  },
  {
   "cell_type": "code",
   "execution_count": 13,
   "id": "suspected-revelation",
   "metadata": {},
   "outputs": [
    {
     "data": {
      "text/plain": [
       "True"
      ]
     },
     "execution_count": 13,
     "metadata": {},
     "output_type": "execute_result"
    }
   ],
   "source": [
    "def check_vowel(ch):\n",
    "    \"\"\"Return True is ch is a vowel otherwise False.\"\"\"\n",
    "    vowels = 'aeiou'\n",
    "    return ch in vowels or ch in vowels.capitalize()\n",
    "\n",
    "check_vowel('a')"
   ]
  },
  {
   "cell_type": "code",
   "execution_count": 19,
   "id": "matched-least",
   "metadata": {},
   "outputs": [
    {
     "data": {
      "text/plain": [
       "'hohelollolo'"
      ]
     },
     "execution_count": 19,
     "metadata": {},
     "output_type": "execute_result"
    }
   ],
   "source": [
    "def encode(text):\n",
    "    \"\"\"Robber's language\"\"\"\n",
    "    consonants = 'qwrtpsdfghjklzxcvbnm'\n",
    "    text_robber = ''\n",
    "    for ch in text:\n",
    "        if ch in consonants or ch in consonants.capitalize():\n",
    "            text_robber += ch + 'o' + ch\n",
    "        else:\n",
    "            text_robber += ch\n",
    "    return text_robber\n",
    " \n",
    "encode('hello')"
   ]
  },
  {
   "cell_type": "code",
   "execution_count": 20,
   "id": "accomplished-remedy",
   "metadata": {},
   "outputs": [
    {
     "data": {
      "text/plain": [
       "(15, 120)"
      ]
     },
     "execution_count": 20,
     "metadata": {},
     "output_type": "execute_result"
    }
   ],
   "source": [
    "def sum_elements(lst):\n",
    "    sum_element = 0\n",
    "    for element in lst:\n",
    "        sum_element += element\n",
    "    return sum_element\n",
    "\n",
    "def product_elements(lst):\n",
    "    prod_element = 1\n",
    "    for element in lst:\n",
    "        prod_element *= element\n",
    "    return prod_element\n",
    "\n",
    "sum_elements([1, 2, 3, 4, 5]), product_elements([1, 2, 3, 4, 5])"
   ]
  },
  {
   "cell_type": "code",
   "execution_count": 21,
   "id": "alpine-reliance",
   "metadata": {},
   "outputs": [
    {
     "data": {
      "text/plain": [
       "'olleH'"
      ]
     },
     "execution_count": 21,
     "metadata": {},
     "output_type": "execute_result"
    }
   ],
   "source": [
    "def reverse_string(s):\n",
    "    return s[::-1]\n",
    "\n",
    "reverse_string('Hello')"
   ]
  },
  {
   "cell_type": "code",
   "execution_count": 22,
   "id": "every-dubai",
   "metadata": {},
   "outputs": [
    {
     "data": {
      "text/plain": [
       "True"
      ]
     },
     "execution_count": 22,
     "metadata": {},
     "output_type": "execute_result"
    }
   ],
   "source": [
    "def check_palindrome(s):\n",
    "    \"\"\"Check if s is palyndrome. Return True if it is, otherwise False.\"\"\"\n",
    "    \n",
    "    return reverse_string(s) == s\n",
    "\n",
    "check_palindrome('tot')"
   ]
  },
  {
   "cell_type": "code",
   "execution_count": 26,
   "id": "automotive-bunch",
   "metadata": {},
   "outputs": [
    {
     "data": {
      "text/plain": [
       "True"
      ]
     },
     "execution_count": 26,
     "metadata": {},
     "output_type": "execute_result"
    }
   ],
   "source": [
    "def check_membership(lst, value):\n",
    "    for element in lst:\n",
    "        if value == element:\n",
    "            return True\n",
    "    return False\n",
    "\n",
    "check_membership([1, 2, 3], 3)"
   ]
  },
  {
   "cell_type": "code",
   "execution_count": 27,
   "id": "gorgeous-repository",
   "metadata": {},
   "outputs": [
    {
     "data": {
      "text/plain": [
       "False"
      ]
     },
     "execution_count": 27,
     "metadata": {},
     "output_type": "execute_result"
    }
   ],
   "source": [
    "def check_overlap(lst1, lst2):\n",
    "    for element in lst1:\n",
    "        if check_membership(lst2, element):\n",
    "            return True\n",
    "    return False\n",
    "\n",
    "check_overlap([1, 2, 3], [4, 5])"
   ]
  },
  {
   "cell_type": "code",
   "execution_count": 31,
   "id": "regional-hawaiian",
   "metadata": {},
   "outputs": [
    {
     "data": {
      "text/plain": [
       "'AAA'"
      ]
     },
     "execution_count": 31,
     "metadata": {},
     "output_type": "execute_result"
    }
   ],
   "source": [
    "def repeat_char(ch, n):\n",
    "    text = ''\n",
    "    for i in range(n):\n",
    "        text += ch\n",
    "    return text\n",
    "\n",
    "repeat_char('A', 3)"
   ]
  },
  {
   "cell_type": "code",
   "execution_count": 35,
   "id": "official-capacity",
   "metadata": {},
   "outputs": [
    {
     "name": "stdout",
     "output_type": "stream",
     "text": [
      "1\t==\n",
      "3\t======\n",
      "2\t====\n",
      "7\t==============\n"
     ]
    }
   ],
   "source": [
    "def print_histogram(lst):\n",
    "    for number in lst:\n",
    "        print(f\"{number}\\t{repeat_char('==', number)}\")\n",
    "print_histogram([1, 3, 2, 7])"
   ]
  },
  {
   "cell_type": "code",
   "execution_count": 40,
   "id": "framed-technical",
   "metadata": {},
   "outputs": [
    {
     "data": {
      "text/plain": [
       "3"
      ]
     },
     "execution_count": 40,
     "metadata": {},
     "output_type": "execute_result"
    }
   ],
   "source": [
    "def find_max_in_list(*args):\n",
    "    max_number = find_max_of_n(*args)\n",
    "    for i in range(length(args)):\n",
    "        if max_number == args[i]:\n",
    "            return i\n",
    "\n",
    "find_max_in_list(1, 3, 2, 6, 4)"
   ]
  }
 ],
 "metadata": {
  "kernelspec": {
   "display_name": "Python 3",
   "language": "python",
   "name": "python3"
  },
  "language_info": {
   "codemirror_mode": {
    "name": "ipython",
    "version": 3
   },
   "file_extension": ".py",
   "mimetype": "text/x-python",
   "name": "python",
   "nbconvert_exporter": "python",
   "pygments_lexer": "ipython3",
   "version": "3.9.2"
  }
 },
 "nbformat": 4,
 "nbformat_minor": 5
}
