{
 "cells": [
  {
   "cell_type": "code",
   "execution_count": 1,
   "id": "auburn-affair",
   "metadata": {},
   "outputs": [
    {
     "data": {
      "text/plain": [
       "8"
      ]
     },
     "execution_count": 1,
     "metadata": {},
     "output_type": "execute_result"
    }
   ],
   "source": [
    "def find_max(x, y):\n",
    "    if x>y:\n",
    "        return x\n",
    "    return y\n",
    "find_max(8, 3)\n",
    "    "
   ]
  },
  {
   "cell_type": "code",
   "execution_count": 2,
   "id": "correct-exemption",
   "metadata": {},
   "outputs": [
    {
     "data": {
      "text/plain": [
       "9"
      ]
     },
     "execution_count": 2,
     "metadata": {},
     "output_type": "execute_result"
    }
   ],
   "source": [
    "def find_max_of_n(*args):\n",
    "    max_number = args[0]\n",
    "    for number in args:\n",
    "        max_number = find_max(max_number, number)\n",
    "\n",
    "    return max_number\n",
    "\n",
    "find_max_of_n(1, 2, 2, 5, 7, 9)"
   ]
  },
  {
   "cell_type": "code",
   "execution_count": 18,
   "id": "thick-serbia",
   "metadata": {},
   "outputs": [
    {
     "data": {
      "text/plain": [
       "3"
      ]
     },
     "execution_count": 18,
     "metadata": {},
     "output_type": "execute_result"
    }
   ],
   "source": [
    "def length(seq):\n",
    "    l = 0\n",
    "    lst = list(seq)\n",
    "    for element in lst:\n",
    "        l += 1\n",
    "    return l\n",
    "\n",
    "length([1, 2, 3])\n",
    "    "
   ]
  },
  {
   "cell_type": "code",
   "execution_count": 16,
   "id": "suspected-revelation",
   "metadata": {},
   "outputs": [
    {
     "data": {
      "text/plain": [
       "True"
      ]
     },
     "execution_count": 16,
     "metadata": {},
     "output_type": "execute_result"
    }
   ],
   "source": [
    "def check_vowel(ch):\n",
    "    \"\"\"Return True is ch is a vowel otherwise False.\"\"\"\n",
    "    vowels = 'aeiou'\n",
    "    return ch in vowels or ch in vowels.capitalize()\n",
    "\n",
    "check_vowel('a')"
   ]
  },
  {
   "cell_type": "code",
   "execution_count": 5,
   "id": "matched-least",
   "metadata": {},
   "outputs": [
    {
     "data": {
      "text/plain": [
       "'hohelollolo'"
      ]
     },
     "execution_count": 5,
     "metadata": {},
     "output_type": "execute_result"
    }
   ],
   "source": [
    "def encode(text):\n",
    "    \"\"\"Robber's language\"\"\"\n",
    "    consonants = 'qwrtpsdfghjklzxcvbnm'\n",
    "    text_robber = ''\n",
    "    for ch in text:\n",
    "        if ch in consonants or ch in consonants.capitalize():\n",
    "            text_robber += ch + 'o' + ch\n",
    "        else:\n",
    "            text_robber += ch\n",
    "    return text_robber\n",
    " \n",
    "encode('hello')"
   ]
  },
  {
   "cell_type": "code",
   "execution_count": 6,
   "id": "accomplished-remedy",
   "metadata": {},
   "outputs": [
    {
     "data": {
      "text/plain": [
       "(15, 120)"
      ]
     },
     "execution_count": 6,
     "metadata": {},
     "output_type": "execute_result"
    }
   ],
   "source": [
    "def sum_elements(lst):\n",
    "    sum_element = 0\n",
    "    for element in lst:\n",
    "        sum_element += element\n",
    "    return sum_element\n",
    "\n",
    "def product_elements(lst):\n",
    "    prod_element = 1\n",
    "    for element in lst:\n",
    "        prod_element *= element\n",
    "    return prod_element\n",
    "\n",
    "sum_elements([1, 2, 3, 4, 5]), product_elements([1, 2, 3, 4, 5])"
   ]
  },
  {
   "cell_type": "code",
   "execution_count": 7,
   "id": "alpine-reliance",
   "metadata": {},
   "outputs": [
    {
     "data": {
      "text/plain": [
       "'olleH'"
      ]
     },
     "execution_count": 7,
     "metadata": {},
     "output_type": "execute_result"
    }
   ],
   "source": [
    "def reverse_string(s):\n",
    "    return s[::-1]\n",
    "\n",
    "reverse_string('Hello')"
   ]
  },
  {
   "cell_type": "code",
   "execution_count": 8,
   "id": "every-dubai",
   "metadata": {},
   "outputs": [
    {
     "data": {
      "text/plain": [
       "True"
      ]
     },
     "execution_count": 8,
     "metadata": {},
     "output_type": "execute_result"
    }
   ],
   "source": [
    "def check_palindrome(s):\n",
    "    \"\"\"Check if s is palyndrome. Return True if it is, otherwise False.\"\"\"\n",
    "    \n",
    "    return reverse_string(s) == s\n",
    "\n",
    "check_palindrome('tot')"
   ]
  },
  {
   "cell_type": "code",
   "execution_count": 9,
   "id": "automotive-bunch",
   "metadata": {},
   "outputs": [
    {
     "data": {
      "text/plain": [
       "True"
      ]
     },
     "execution_count": 9,
     "metadata": {},
     "output_type": "execute_result"
    }
   ],
   "source": [
    "def check_membership(lst, value):\n",
    "    for element in lst:\n",
    "        if value == element:\n",
    "            return True\n",
    "    return False\n",
    "\n",
    "check_membership([1, 2, 3], 3)"
   ]
  },
  {
   "cell_type": "code",
   "execution_count": 10,
   "id": "gorgeous-repository",
   "metadata": {},
   "outputs": [
    {
     "data": {
      "text/plain": [
       "False"
      ]
     },
     "execution_count": 10,
     "metadata": {},
     "output_type": "execute_result"
    }
   ],
   "source": [
    "def check_overlap(lst1, lst2):\n",
    "    for element in lst1:\n",
    "        if check_membership(lst2, element):\n",
    "            return True\n",
    "    return False\n",
    "\n",
    "check_overlap([1, 2, 3], [4, 5])"
   ]
  },
  {
   "cell_type": "code",
   "execution_count": 11,
   "id": "regional-hawaiian",
   "metadata": {},
   "outputs": [
    {
     "data": {
      "text/plain": [
       "'AAA'"
      ]
     },
     "execution_count": 11,
     "metadata": {},
     "output_type": "execute_result"
    }
   ],
   "source": [
    "def repeat_char(ch, n):\n",
    "    text = ''\n",
    "    for i in range(n):\n",
    "        text += ch\n",
    "    return text\n",
    "\n",
    "repeat_char('A', 3)"
   ]
  },
  {
   "cell_type": "code",
   "execution_count": 12,
   "id": "official-capacity",
   "metadata": {},
   "outputs": [
    {
     "name": "stdout",
     "output_type": "stream",
     "text": [
      "1\t==\n",
      "3\t======\n",
      "2\t====\n",
      "7\t==============\n"
     ]
    }
   ],
   "source": [
    "def print_histogram(lst):\n",
    "    for number in lst:\n",
    "        print(f\"{number}\\t{repeat_char('==', number)}\")\n",
    "print_histogram([1, 3, 2, 7])"
   ]
  },
  {
   "cell_type": "code",
   "execution_count": 13,
   "id": "framed-technical",
   "metadata": {},
   "outputs": [
    {
     "data": {
      "text/plain": [
       "3"
      ]
     },
     "execution_count": 13,
     "metadata": {},
     "output_type": "execute_result"
    }
   ],
   "source": [
    "def find_max_in_list(*args):\n",
    "    max_number = find_max_of_n(*args)\n",
    "    for i in range(length(args)):\n",
    "        if max_number == args[i]:\n",
    "            return i\n",
    "\n",
    "find_max_in_list(1, 3, 2, 6, 4)"
   ]
  },
  {
   "cell_type": "code",
   "execution_count": 20,
   "id": "bored-guess",
   "metadata": {},
   "outputs": [
    {
     "data": {
      "text/plain": [
       "{1: 'I', 2: 'am', 5: 'willy'}"
      ]
     },
     "execution_count": 20,
     "metadata": {},
     "output_type": "execute_result"
    }
   ],
   "source": [
    "# Create a program that maps each word in a list to its length.\n",
    "\n",
    "def word_length(lst):\n",
    "    with_length = {}\n",
    "    for word in lst:\n",
    "        with_length[length(word)] = word\n",
    "        \n",
    "    return with_length\n",
    "\n",
    "word_length(['I', 'am', 'willy'])"
   ]
  },
  {
   "cell_type": "code",
   "execution_count": 22,
   "id": "blocked-dispute",
   "metadata": {},
   "outputs": [
    {
     "data": {
      "text/plain": [
       "'arison'"
      ]
     },
     "execution_count": 22,
     "metadata": {},
     "output_type": "execute_result"
    }
   ],
   "source": [
    "# Implement longest_word() to find the longest word in a list.\n",
    "\n",
    "def longerst_word(lst):\n",
    "    count = word_length(lst)\n",
    "    longest_key = find_max_of_n(*count.keys())\n",
    "    \n",
    "    return count[longest_key]\n",
    "\n",
    "longerst_word(['I', 'am', 'willy', 'arison'])"
   ]
  },
  {
   "cell_type": "code",
   "execution_count": 33,
   "id": "sharp-netherlands",
   "metadata": {},
   "outputs": [
    {
     "data": {
      "text/plain": [
       "False"
      ]
     },
     "execution_count": 33,
     "metadata": {},
     "output_type": "execute_result"
    }
   ],
   "source": [
    "# Enhance the palindrome recognizer to handle phrases,\n",
    "# ignoring spaces, punctuation, and case.\n",
    "\n",
    "def is_palindrome(phrase):\n",
    "    # Remove spaces and punctuation, and convert to lowercase\n",
    "    cleaned_phrase = ''.join(char.lower() for char in phrase if char.isalnum())\n",
    "    # Check if the cleaned phrase is equal to its reverse\n",
    "    return cleaned_phrase == cleaned_phrase[::-1]\n",
    "\n",
    "is_palindrome('I love physics.')"
   ]
  },
  {
   "cell_type": "code",
   "execution_count": 23,
   "id": "preceding-defeat",
   "metadata": {},
   "outputs": [
    {
     "data": {
      "text/plain": [
       "['willy', 'arison']"
      ]
     },
     "execution_count": 23,
     "metadata": {},
     "output_type": "execute_result"
    }
   ],
   "source": [
    "# Develop filter_words() to return words longer \n",
    "# than a specified length from a list.\n",
    "\n",
    "def filter_words(lst, specified_length):\n",
    "    count = word_length(lst)\n",
    "    words = []\n",
    "    for key, value in count.items():\n",
    "        if key>specified_length:\n",
    "            words.append(value)\n",
    "    return words\n",
    "\n",
    "filter_words(['I', 'am', 'willy', 'arison'], 2)"
   ]
  },
  {
   "cell_type": "code",
   "execution_count": 35,
   "id": "interpreted-logan",
   "metadata": {},
   "outputs": [
    {
     "data": {
      "text/plain": [
       "False"
      ]
     },
     "execution_count": 35,
     "metadata": {},
     "output_type": "execute_result"
    }
   ],
   "source": [
    "# Implement a function that checks if a given sentence is a pangram.\n",
    "\n",
    "import string\n",
    "def is_pangram(sentence: str):\n",
    "    \n",
    "    \"\"\"A pangram is a sentence that contains every \n",
    "    letter of the alphabet at least once.\"\"\"\n",
    "    \n",
    "    lowercases = set(string.ascii_lowercase)\n",
    "    sentences = sentence.lower()\n",
    "    \n",
    "    set_words = set(sentences)\n",
    "    return lowercases <= set_words\n",
    "\n",
    "is_pangram('''A pangram is a sentence that contains every \n",
    "    letter of the alphabet at least once''')"
   ]
  },
  {
   "cell_type": "code",
   "execution_count": null,
   "id": "functioning-victoria",
   "metadata": {},
   "outputs": [],
   "source": [
    "# Enhance the palindrome recognizer to handle phrases,\n",
    "# ignoring spaces, punctuation, and case."
   ]
  },
  {
   "cell_type": "code",
   "execution_count": 25,
   "id": "pressed-bracelet",
   "metadata": {},
   "outputs": [
    {
     "data": {
      "text/plain": [
       "4"
      ]
     },
     "execution_count": 25,
     "metadata": {},
     "output_type": "execute_result"
    }
   ],
   "source": [
    "# Use reduce() to write\n",
    "# max_in_list() that returns the largest number in a list.\n",
    "\n",
    "from functools import reduce\n",
    "\n",
    "def max_in_list(lst):\n",
    "    return reduce(lambda x, y: x if x>y else y, lst)\n",
    "\n",
    "max_in_list([1 ,4 , 2, 3])\n",
    "    "
   ]
  },
  {
   "cell_type": "code",
   "execution_count": 27,
   "id": "chronic-latex",
   "metadata": {},
   "outputs": [
    {
     "data": {
      "text/plain": [
       "([1, 2, 5], [1, 2, 5], [1, 2, 5])"
      ]
     },
     "execution_count": 27,
     "metadata": {},
     "output_type": "execute_result"
    }
   ],
   "source": [
    "# Write a program that maps words to their lengths \n",
    "# using a for-loop, map(), and list comprehensions.\n",
    "\n",
    "lst = ['I', 'am', 'Willy']\n",
    "\n",
    "# using map()\n",
    "lengths_with_map = map(lambda word: length(word), lst)\n",
    "\n",
    "# using list comprehensions\n",
    "lengths_comprehension = [length(word) for word in lst]\n",
    "\n",
    "# using for-loop\n",
    "lengths_loop = []\n",
    "for word in lst:\n",
    "    lengths_loop.append(length(word))\n",
    "    \n",
    "list(lengths_with_map), lengths_comprehension, lengths_loop"
   ]
  },
  {
   "cell_type": "code",
   "execution_count": null,
   "id": "confident-control",
   "metadata": {},
   "outputs": [],
   "source": [
    "# Implement find_longest_word() using only higher-order functions."
   ]
  },
  {
   "cell_type": "code",
   "execution_count": 32,
   "id": "private-lawrence",
   "metadata": {},
   "outputs": [
    {
     "data": {
      "text/plain": [
       "['am', 'willy']"
      ]
     },
     "execution_count": 32,
     "metadata": {},
     "output_type": "execute_result"
    }
   ],
   "source": [
    "# Use filter() to write \n",
    "# filter_long_words() that filters words longer than n.\n",
    "\n",
    "def filter_long_words(lst, n):\n",
    "    words = filter(lambda word: length(word)>n, lst)\n",
    "    \n",
    "    return list(words)\n",
    "\n",
    "filter_long_words(['I', 'am', 'willy'], 1)"
   ]
  },
  {
   "cell_type": "code",
   "execution_count": 39,
   "id": "radio-profile",
   "metadata": {},
   "outputs": [],
   "source": [
    "import myprogram"
   ]
  },
  {
   "cell_type": "code",
   "execution_count": 41,
   "id": "distributed-platform",
   "metadata": {},
   "outputs": [
    {
     "data": {
      "text/plain": [
       "'Hello, willy!'"
      ]
     },
     "execution_count": 41,
     "metadata": {},
     "output_type": "execute_result"
    }
   ],
   "source": [
    "myprogram.greet('willy')"
   ]
  },
  {
   "cell_type": "code",
   "execution_count": 42,
   "id": "rocky-premium",
   "metadata": {},
   "outputs": [
    {
     "data": {
      "text/plain": [
       "5"
      ]
     },
     "execution_count": 42,
     "metadata": {},
     "output_type": "execute_result"
    }
   ],
   "source": [
    "myprogram.add(2, 3)"
   ]
  },
  {
   "cell_type": "code",
   "execution_count": 43,
   "id": "macro-motorcycle",
   "metadata": {},
   "outputs": [
    {
     "name": "stdout",
     "output_type": "stream",
     "text": [
      "04_Lecture04.ipynb  willy.andriambolamanana-day06-report.ipynb\r\n",
      "myprogram.py        willy.andriambolamanana-day07-report.ipynb\r\n",
      "\u001b[0m\u001b[01;34m__pycache__\u001b[0m/        willy.andriambolamanana-day08-report.ipynb\r\n"
     ]
    }
   ],
   "source": [
    "ls"
   ]
  },
  {
   "cell_type": "code",
   "execution_count": 44,
   "id": "unlike-spouse",
   "metadata": {},
   "outputs": [],
   "source": [
    "mkdir mypackage"
   ]
  },
  {
   "cell_type": "code",
   "execution_count": 45,
   "id": "forty-engineer",
   "metadata": {},
   "outputs": [
    {
     "name": "stdout",
     "output_type": "stream",
     "text": [
      "/home/willy/aims courses/python/mypackage\n"
     ]
    }
   ],
   "source": [
    "cd mypackage/"
   ]
  },
  {
   "cell_type": "code",
   "execution_count": 46,
   "id": "prepared-welding",
   "metadata": {},
   "outputs": [],
   "source": [
    "ls"
   ]
  },
  {
   "cell_type": "code",
   "execution_count": 47,
   "id": "consecutive-ocean",
   "metadata": {},
   "outputs": [],
   "source": [
    "!touch __init__.py"
   ]
  },
  {
   "cell_type": "code",
   "execution_count": 48,
   "id": "mathematical-regulation",
   "metadata": {},
   "outputs": [
    {
     "name": "stdout",
     "output_type": "stream",
     "text": [
      "__init__.py\r\n"
     ]
    }
   ],
   "source": [
    "ls"
   ]
  },
  {
   "cell_type": "code",
   "execution_count": 49,
   "id": "unknown-participation",
   "metadata": {},
   "outputs": [],
   "source": [
    "!touch add.py"
   ]
  },
  {
   "cell_type": "code",
   "execution_count": 50,
   "id": "fitting-channels",
   "metadata": {},
   "outputs": [],
   "source": [
    "!touch minus.py"
   ]
  },
  {
   "cell_type": "code",
   "execution_count": 51,
   "id": "hired-binding",
   "metadata": {},
   "outputs": [
    {
     "name": "stdout",
     "output_type": "stream",
     "text": [
      "add.py  __init__.py  minus.py\r\n"
     ]
    }
   ],
   "source": [
    "ls"
   ]
  },
  {
   "cell_type": "code",
   "execution_count": 52,
   "id": "outside-nerve",
   "metadata": {},
   "outputs": [
    {
     "name": "stdout",
     "output_type": "stream",
     "text": [
      "/home/willy/aims courses/python\n"
     ]
    }
   ],
   "source": [
    "cd .."
   ]
  },
  {
   "cell_type": "code",
   "execution_count": 53,
   "id": "lonely-proposition",
   "metadata": {},
   "outputs": [
    {
     "name": "stdout",
     "output_type": "stream",
     "text": [
      "04_Lecture04.ipynb  willy.andriambolamanana-day06-report.ipynb\r\n",
      "\u001b[0m\u001b[01;34mmypackage\u001b[0m/          willy.andriambolamanana-day07-report.ipynb\r\n",
      "myprogram.py        willy.andriambolamanana-day08-report.ipynb\r\n",
      "\u001b[01;34m__pycache__\u001b[0m/\r\n"
     ]
    }
   ],
   "source": [
    "ls"
   ]
  },
  {
   "cell_type": "code",
   "execution_count": 54,
   "id": "substantial-parks",
   "metadata": {},
   "outputs": [],
   "source": [
    "from mypackage import add, minus"
   ]
  },
  {
   "cell_type": "code",
   "execution_count": 56,
   "id": "eastern-moral",
   "metadata": {},
   "outputs": [
    {
     "data": {
      "text/plain": [
       "True"
      ]
     },
     "execution_count": 56,
     "metadata": {},
     "output_type": "execute_result"
    }
   ],
   "source": [
    "add.add(2, 3) == 5"
   ]
  },
  {
   "cell_type": "code",
   "execution_count": 57,
   "id": "enhanced-produce",
   "metadata": {},
   "outputs": [
    {
     "data": {
      "text/plain": [
       "True"
      ]
     },
     "execution_count": 57,
     "metadata": {},
     "output_type": "execute_result"
    }
   ],
   "source": [
    "minus.minus(5, 4) == 1"
   ]
  },
  {
   "cell_type": "code",
   "execution_count": null,
   "id": "vocal-stake",
   "metadata": {},
   "outputs": [],
   "source": []
  },
  {
   "cell_type": "code",
   "execution_count": null,
   "id": "bridal-peninsula",
   "metadata": {},
   "outputs": [],
   "source": []
  },
  {
   "cell_type": "code",
   "execution_count": null,
   "id": "covered-parish",
   "metadata": {},
   "outputs": [],
   "source": []
  },
  {
   "cell_type": "code",
   "execution_count": null,
   "id": "technological-myanmar",
   "metadata": {},
   "outputs": [],
   "source": []
  }
 ],
 "metadata": {
  "kernelspec": {
   "display_name": "Python 3",
   "language": "python",
   "name": "python3"
  },
  "language_info": {
   "codemirror_mode": {
    "name": "ipython",
    "version": 3
   },
   "file_extension": ".py",
   "mimetype": "text/x-python",
   "name": "python",
   "nbconvert_exporter": "python",
   "pygments_lexer": "ipython3",
   "version": "3.9.2"
  }
 },
 "nbformat": 4,
 "nbformat_minor": 5
}
