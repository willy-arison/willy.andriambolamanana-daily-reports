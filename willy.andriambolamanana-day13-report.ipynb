{
 "cells": [
  {
   "cell_type": "markdown",
   "id": "isolated-athletics",
   "metadata": {},
   "source": [
    "# PyPro: Challenge 3\n",
    "\n",
    "### This challenge is due on Saturday, October 10th, 2024, at 8pm.\n",
    "\n",
    "`These exercises offer a diverse array of tasks that assess your comprehension of fundamental Python concepts such as loops, data types, string manipulations, list comprehensions, and higher-order functions.`\n",
    "\n",
    "\n",
    "\n",
    "Here is the given text in proper markdown format with numbered questions:\n",
    "\n",
    "# PyPro Challenges"
   ]
  },
  {
   "cell_type": "markdown",
   "id": "obvious-program",
   "metadata": {},
   "source": [
    "1. **Perfect Numbers Calculation**  \n",
    "   By definition, a natural number is called a perfect number if its value is equal to the sum of its divisors. For example, 6 and 28 are perfect numbers:\n",
    "   \n",
    "   ```\n",
    "   1 + 2 + 3 = 6\n",
    "   1 + 2 + 4 + 7 + 14 = 28\n",
    "   ```\n",
    "   \n",
    "   Write a function `calc_perfect_numbers(max_exclusive)` that calculates all perfect numbers up to a maximum value, such as 10,000."
   ]
  },
  {
   "cell_type": "code",
   "execution_count": 7,
   "id": "gross-bridge",
   "metadata": {},
   "outputs": [
    {
     "data": {
      "text/plain": [
       "[6, 28, 496, 8128]"
      ]
     },
     "execution_count": 7,
     "metadata": {},
     "output_type": "execute_result"
    }
   ],
   "source": [
    "def calc_perfect_numbers(max_exclusive):\n",
    "    all_perfect_numbers = []\n",
    "    for number in range(1, max_exclusive):\n",
    "        sum_divisors = sum(d for d in range(1, number//2 + 1) if number % d == 0)\n",
    "        if sum_divisors == number:\n",
    "            all_perfect_numbers.append(number)\n",
    "            \n",
    "    return all_perfect_numbers\n",
    "\n",
    "calc_perfect_numbers(10_000)\n"
   ]
  },
  {
   "cell_type": "markdown",
   "id": "framed-manufacturer",
   "metadata": {},
   "source": [
    "2. **Prime Numbers Calculation**  \n",
    "   Write a function `calc_primes_up_to(max_value)` to compute all prime numbers up to a given value. A prime number is a natural number greater than 1 that is only divisible by 1 and itself. The Sieve of Eratosthenes is a useful algorithm for this task.  \n",
    "   Test your algorithm with the following values:\n",
    "   \n",
    "   | Input | Result                                      |\n",
    "   |-------|---------------------------------------------|\n",
    "   | 15    | [2, 3, 5, 7, 11, 13]                        |\n",
    "   | 25    | [2, 3, 5, 7, 11, 13, 17, 19, 23]            |\n",
    "   | 50    | [2, 3, 5, 7, 11, 13, 17, 19, 23, 29, 31...] |\n",
    "   "
   ]
  },
  {
   "cell_type": "code",
   "execution_count": 12,
   "id": "extra-money",
   "metadata": {},
   "outputs": [
    {
     "data": {
      "text/plain": [
       "[2,\n",
       " 3,\n",
       " 5,\n",
       " 7,\n",
       " 11,\n",
       " 13,\n",
       " 17,\n",
       " 19,\n",
       " 23,\n",
       " 29,\n",
       " 31,\n",
       " 37,\n",
       " 41,\n",
       " 43,\n",
       " 47,\n",
       " 53,\n",
       " 59,\n",
       " 61,\n",
       " 67,\n",
       " 71,\n",
       " 73,\n",
       " 79,\n",
       " 83,\n",
       " 89,\n",
       " 97]"
      ]
     },
     "execution_count": 12,
     "metadata": {},
     "output_type": "execute_result"
    }
   ],
   "source": [
    "def calc_primes_up_to(max_value):\n",
    "    list_prime = [2]\n",
    "    all_numbers = [n for n in range(3, max_value+1, 2)]\n",
    "    while all_numbers:\n",
    "        list_prime.append(all_numbers[0])\n",
    "        all_numbers = [n for n in all_numbers if n%all_numbers[0] != 0]\n",
    "\n",
    "    return list_prime\n",
    "        \n",
    "calc_primes_up_to(97)"
   ]
  },
  {
   "cell_type": "markdown",
   "id": "personalized-missouri",
   "metadata": {},
   "source": [
    "3. **Twin, Cousin, and Sexy Prime Numbers**  \n",
    "   Compute all pairs of prime numbers with a distance of 2 (twin), 4 (cousin), and 6 (sexy) up to an upper bound `n`.  \n",
    "   For example, for `limit=50`, the expected results are:\n",
    "   \n",
    "   - **Twins**: `{3: 5, 5: 7, 11: 13, 17: 19, 29: 31, 41: 43}`\n",
    "   - **Cousins**: `{3: 7, 7: 11, 13: 17, 19: 23, 37: 41, 43: 47}`\n",
    "   - **Sexy**: `{5: 11, 7: 13, 11: 17, 13: 19, 17: 23, 23: 29, 31: 37, 37: 43, 41: 47, 47: 53}`"
   ]
  },
  {
   "cell_type": "code",
   "execution_count": 27,
   "id": "exact-struggle",
   "metadata": {},
   "outputs": [
    {
     "name": "stdout",
     "output_type": "stream",
     "text": [
      "Twins: {3: 5, 5: 7, 11: 13, 17: 19, 29: 31, 41: 43}\n",
      "Cousins: {3: 7, 7: 11, 13: 17, 19: 23, 37: 41, 43: 47}\n",
      "Sexy: {5: 11, 7: 13, 11: 17, 13: 19, 17: 23, 23: 29, 31: 37, 37: 43, 41: 47, 47: 53}\n"
     ]
    }
   ],
   "source": [
    "def twin_cousin_sexy_number(max_value):\n",
    "    twins, cousins, sexy = {}, {}, {}\n",
    "    all_primes = calc_primes_up_to(max_value+6)\n",
    "    \n",
    "    for prime in all_primes:\n",
    "        if prime+2 in all_primes:\n",
    "            twins[prime] = prime + 2\n",
    "            \n",
    "        if prime+4 in all_primes:\n",
    "            cousins[prime] = prime + 4\n",
    "            \n",
    "        if prime+6 in all_primes:\n",
    "            sexy[prime] = prime + 6\n",
    "            \n",
    "    print(f'Twins: {twins}')\n",
    "    print(f'Cousins: {cousins}')\n",
    "    print(f'Sexy: {sexy}')\n",
    "    \n",
    "twin_cousin_sexy_number(50)"
   ]
  },
  {
   "cell_type": "markdown",
   "id": "elegant-entry",
   "metadata": {},
   "source": [
    "4. **Sum of Digits (Recursive)**  \n",
    "   Write a recursive function `calc_sum_of_digits(value)` that calculates the sum of the digits of a given number.  \n",
    "   Examples:\n",
    "   \n",
    "   | Input  | Number of Digits | Cross Sum         |\n",
    "   |--------|------------------|-------------------|\n",
    "   | 1234   | 4                | 1 + 2 + 3 + 4 = 10|\n",
    "   | 1234567| 7                | 1 + 2 + 3 + ... 7 = 28|"
   ]
  },
  {
   "cell_type": "code",
   "execution_count": 26,
   "id": "magnetic-figure",
   "metadata": {},
   "outputs": [
    {
     "data": {
      "text/plain": [
       "90"
      ]
     },
     "execution_count": 26,
     "metadata": {},
     "output_type": "execute_result"
    }
   ],
   "source": [
    "def calc_sum_of_digits(n):\n",
    "    if len(str(n)) == 1:\n",
    "        return n\n",
    "        \n",
    "    length = len(str(n))\n",
    "    digit = n // (10**(length-1))\n",
    "    return digit + calc_sum_of_digits(n-(10**(length-1)) * digit)\n",
    "    \n",
    "calc_sum_of_digits(1234567123134564562131456)"
   ]
  },
  {
   "cell_type": "markdown",
   "id": "distinguished-logistics",
   "metadata": {},
   "source": [
    "5. **Convert to Binary (Recursive)**  \n",
    "   Write a function `to_binary(n)` that recursively converts the given positive integer into its binary string representation (without using `int(x, base)`).  \n",
    "   Examples:\n",
    "   \n",
    "   | Input | Result       |\n",
    "   |-------|--------------|\n",
    "   | 5     | \"101\"        |\n",
    "   | 7     | \"111\"        |\n",
    "   | 22    | \"10110\"      |\n",
    "   | 42    | \"101010\"     |\n",
    "   | 256   | \"100000000\"  |"
   ]
  },
  {
   "cell_type": "code",
   "execution_count": 36,
   "id": "worth-creation",
   "metadata": {},
   "outputs": [
    {
     "data": {
      "text/plain": [
       "'101'"
      ]
     },
     "execution_count": 36,
     "metadata": {},
     "output_type": "execute_result"
    }
   ],
   "source": [
    "def to_binary(number):\n",
    "    if number==0 or number==1:\n",
    "        return str(number)\n",
    "    \n",
    "    return to_binary(number//2) + str(number%2)\n",
    "\n",
    "to_binary(5)"
   ]
  },
  {
   "cell_type": "markdown",
   "id": "beautiful-conditions",
   "metadata": {},
   "source": [
    "6. **Letter Permutations**  \n",
    "   Write a function `calc_permutations(text)` that calculates all possible permutations of the characters in the given string. Handle duplicate letters but avoid using Python's `itertools.permutations()`.  \n",
    "   Examples:\n",
    "   \n",
    "   | Input | Result                                       |\n",
    "   |-------|----------------------------------------------|\n",
    "   | \"a\"   | \"a\"                                          |\n",
    "   | \"aa\"  | \"aa\"                                         |\n",
    "   | \"aB\"  | \"aB\", \"Ba\"                                   |\n",
    "   | \"aBC\" | \"aBC\", \"BaC\", \"aCB\", \"CaB\", \"CBa\", \"BCa\"     |\n",
    "   | \"aaC\" | \"aaC\", \"aCa\", \"Caa\"                          |"
   ]
  },
  {
   "cell_type": "code",
   "execution_count": null,
   "id": "established-monaco",
   "metadata": {},
   "outputs": [],
   "source": [
    "def calc_permutations(text):\n",
    "    list_permutations = []"
   ]
  },
  {
   "cell_type": "markdown",
   "id": "viral-cradle",
   "metadata": {},
   "source": [
    "7. **Join Strings with Delimiter**  \n",
    "   Write a function `join(values, delimiter)` that joins a list of strings with the given delimiter and returns it as a single string. Implement this without using Python's built-in `join()` function.  \n",
    "   Example:\n",
    "   \n",
    "   - Input: `[\"hello\", \"world\", \"message\"]`, `\" +++ \"`\n",
    "   - Result: `\"hello +++ world +++ message\"`"
   ]
  },
  {
   "cell_type": "code",
   "execution_count": null,
   "id": "political-seller",
   "metadata": {},
   "outputs": [],
   "source": []
  },
  {
   "cell_type": "markdown",
   "id": "immediate-patio",
   "metadata": {},
   "source": [
    "8. **Pascal's Triangle**  \n",
    "   Write a function `pascal(n)` that computes Pascal’s triangle as nested lists. Each line is generated from the previous one, with sums of adjacent numbers and a 1 at the beginning and end.  \n",
    "   Example for `n=5`:\n",
    "   \n",
    "   ```\n",
    "   [1]\n",
    "   [1, 1]\n",
    "   [1, 2, 1]\n",
    "   [1, 3, 3, 1]\n",
    "   [1, 4, 6, 4, 1]\n",
    "   ```"
   ]
  },
  {
   "cell_type": "code",
   "execution_count": null,
   "id": "julian-accident",
   "metadata": {},
   "outputs": [],
   "source": []
  },
  {
   "cell_type": "markdown",
   "id": "express-slovak",
   "metadata": {},
   "source": [
    "9. **Contains All Values**  \n",
    "   Write a function `contains_all(values, search_values)` that checks if all search values are present in the given list. Do not use Python's `all()` function.  \n",
    "   Examples:\n",
    "   \n",
    "   | Input                         | Search Values | Result |\n",
    "   |-------------------------------|---------------|--------|\n",
    "   | `[0, 1, 2, 3, 4, 5, 6, 7, 8, 9]` | `[7, 2]`      | True   |\n",
    "   | `[0, 1, 2, 3, 4, 5, 6, 7, 8, 9]` | `[5, 11]`     | False  |\n",
    "\n",
    "10. **Optimized Insertion Sort**  \n",
    "    Rewrite the insertion sort algorithm to perform the sorting in one pass by finding the correct insertion point and swapping elements. Write an optimized version of `insertion_sort(values)`.  \n",
    "    Example:\n",
    "    \n",
    "    - Input: `[7, 2, 5, 1, 6, 8, 9, 4, 3]`\n",
    "    - Result: `[1, 2, 3, 4, 5, 6, 7, 8, 9]`\n",
    "    \n",
    "    \n",
    "    \n",
    "    \n",
    "    \n",
    "    \n",
    "    \n",
    "Here are the problems with the corresponding Wikipedia links for reference:\n",
    "\n",
    "---"
   ]
  },
  {
   "cell_type": "code",
   "execution_count": null,
   "id": "driven-windsor",
   "metadata": {},
   "outputs": [],
   "source": []
  },
  {
   "cell_type": "markdown",
   "id": "organized-sender",
   "metadata": {},
   "source": [
    "11. **Sudoku Solver**  \n",
    "    Write a function `solve_sudoku(board)` that solves a given 9x9 Sudoku puzzle using backtracking. The puzzle is represented as a 2D list with '0' indicating empty cells. The function should modify the board in-place and return `True` if the puzzle is solved, otherwise `False`.  \n",
    "    [Sudoku - Wikipedia](https://en.wikipedia.org/wiki/Sudoku)  \n",
    "    Example Input:\n",
    "    ```python\n",
    "    board = [\n",
    "        [5, 3, 0, 0, 7, 0, 0, 0, 0],\n",
    "        [6, 0, 0, 1, 9, 5, 0, 0, 0],\n",
    "        [0, 9, 8, 0, 0, 0, 0, 6, 0],\n",
    "        [8, 0, 0, 0, 6, 0, 0, 0, 3],\n",
    "        [4, 0, 0, 8, 0, 3, 0, 0, 1],\n",
    "        [7, 0, 0, 0, 2, 0, 0, 0, 6],\n",
    "        [0, 6, 0, 0, 0, 0, 2, 8, 0],\n",
    "        [0, 0, 0, 4, 1, 9, 0, 0, 5],\n",
    "        [0, 0, 0, 0, 8, 0, 0, 7, 9]\n",
    "    ]\n",
    "    ```\n",
    "    Example Output:\n",
    "    ```python\n",
    "    board = [\n",
    "        [5, 3, 4, 6, 7, 8, 9, 1, 2],\n",
    "        [6, 7, 2, 1, 9, 5, 3, 4, 8],\n",
    "        [1, 9, 8, 3, 4, 2, 5, 6, 7],\n",
    "        [8, 5, 9, 7, 6, 1, 4, 2, 3],\n",
    "        [4, 2, 6, 8, 5, 3, 7, 9, 1],\n",
    "        [7, 1, 3, 9, 2, 4, 8, 5, 6],\n",
    "        [9, 6, 1, 5, 3, 7, 2, 8, 4],\n",
    "        [2, 8, 7, 4, 1, 9, 6, 3, 5],\n",
    "        [3, 4, 5, 2, 8, 6, 1, 7, 9]\n",
    "    ]\n",
    "    ```"
   ]
  },
  {
   "cell_type": "code",
   "execution_count": null,
   "id": "working-kelly",
   "metadata": {},
   "outputs": [],
   "source": []
  },
  {
   "cell_type": "markdown",
   "id": "great-limitation",
   "metadata": {},
   "source": [
    "12. **N-Queens Problem**  \n",
    "    Write a function `solve_n_queens(n)` to find all possible solutions for the n-queens problem. The function should return all distinct solutions as a list of lists, where each list represents the position of queens on the board. The board should be represented as a list of strings, where 'Q' and '.' indicate a queen and an empty space, respectively.  \n",
    "    [N-Queens - Wikipedia](https://en.wikipedia.org/wiki/Eight_queens_puzzle)  \n",
    "    Example Input:  \n",
    "    `n = 4`  \n",
    "    Example Output:\n",
    "    ```python\n",
    "    [\n",
    "        [\".Q..\",\n",
    "         \"...Q\",\n",
    "         \"Q...\",\n",
    "         \"..Q.\"],\n",
    "    \n",
    "        [\"..Q.\",\n",
    "         \"Q...\",\n",
    "         \"...Q\",\n",
    "         \".Q..\"]\n",
    "    ]\n",
    "    ```"
   ]
  },
  {
   "cell_type": "code",
   "execution_count": null,
   "id": "ongoing-trance",
   "metadata": {},
   "outputs": [],
   "source": []
  },
  {
   "cell_type": "markdown",
   "id": "civic-flexibility",
   "metadata": {},
   "source": [
    "13. **Knapsack Problem (Dynamic Programming)**  \n",
    "    Implement a function `knapsack(weights, values, capacity)` that solves the 0/1 Knapsack problem using dynamic programming. Given a list of weights and corresponding values of `n` items, determine the maximum value that can be obtained by selecting items with a total weight not exceeding a given capacity.  \n",
    "    [Knapsack Problem - Wikipedia](https://en.wikipedia.org/wiki/Knapsack_problem)  \n",
    "    Example Input:\n",
    "    ```python\n",
    "    weights = [2, 3, 4, 5]\n",
    "    values = [3, 4, 5, 6]\n",
    "    capacity = 5\n",
    "    ```\n",
    "    Example Output:  \n",
    "    `7` (items with weights 2 and 3 are selected, values are 3 and 4)"
   ]
  },
  {
   "cell_type": "code",
   "execution_count": null,
   "id": "sapphire-holder",
   "metadata": {},
   "outputs": [],
   "source": []
  },
  {
   "cell_type": "markdown",
   "id": "gross-extension",
   "metadata": {},
   "source": [
    "14. **Travelling Salesman Problem (TSP)**  \n",
    "    Write a function `tsp(graph)` to solve the Travelling Salesman Problem (TSP) using dynamic programming with bit masking. Given a graph represented as an adjacency matrix, find the shortest possible route that visits each city exactly once and returns to the origin city.  \n",
    "    [Travelling Salesman Problem - Wikipedia](https://en.wikipedia.org/wiki/Travelling_salesman_problem)  \n",
    "    Example Input:\n",
    "    ```python\n",
    "    graph = [\n",
    "        [0, 10, 15, 20],\n",
    "        [10, 0, 35, 25],\n",
    "        [15, 35, 0, 30],\n",
    "        [20, 25, 30, 0]\n",
    "    ]\n",
    "    ```\n",
    "    Example Output:  \n",
    "    `80` (minimum cost path: 0 → 1 → 3 → 2 → 0)"
   ]
  },
  {
   "cell_type": "code",
   "execution_count": null,
   "id": "convertible-magnitude",
   "metadata": {},
   "outputs": [],
   "source": []
  },
  {
   "cell_type": "markdown",
   "id": "hindu-fishing",
   "metadata": {},
   "source": [
    "15. **Word Break Problem (Dynamic Programming)**  \n",
    "    Given a string `s` and a dictionary of words `dict`, write a function `word_break(s, dict)` to determine if `s` can be segmented into a space-separated sequence of one or more dictionary words. Return all such possible sentences.  \n",
    "    [Word Break Problem - Wikipedia](https://en.wikipedia.org/wiki/Word_break_problem)  \n",
    "    Example Input:\n",
    "    ```python\n",
    "    s = \"catsanddog\"\n",
    "    dict = [\"cat\", \"cats\", \"and\", \"sand\", \"dog\"]\n",
    "    ```\n",
    "    Example Output:\n",
    "    ```python\n",
    "    [\"cats and dog\", \"cat sand dog\"]\n",
    "    ```\n",
    "    Example Input:\n",
    "    ```python\n",
    "    s = \"pineapplepenapple\"\n",
    "    dict = [\"apple\", \"pen\", \"applepen\", \"pine\", \"pineapple\"]\n",
    "    ```\n",
    "    Example Output:\n",
    "    ```python\n",
    "    [\"pine apple pen apple\", \"pineapple pen apple\", \"pine applepen apple\"]\n",
    "    ```"
   ]
  },
  {
   "cell_type": "code",
   "execution_count": null,
   "id": "protecting-authorization",
   "metadata": {},
   "outputs": [],
   "source": []
  }
 ],
 "metadata": {
  "kernelspec": {
   "display_name": "Python 3",
   "language": "python",
   "name": "python3"
  },
  "language_info": {
   "codemirror_mode": {
    "name": "ipython",
    "version": 3
   },
   "file_extension": ".py",
   "mimetype": "text/x-python",
   "name": "python",
   "nbconvert_exporter": "python",
   "pygments_lexer": "ipython3",
   "version": "3.9.2"
  }
 },
 "nbformat": 4,
 "nbformat_minor": 5
}
